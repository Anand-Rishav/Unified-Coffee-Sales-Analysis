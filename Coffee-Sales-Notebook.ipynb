{
 "cells": [
  {
   "cell_type": "markdown",
   "metadata": {},
   "source": [
    "#  Coffee Vending Machine Sales Analysis\n",
    "\n",
    "## Executive Summary\n",
    "This comprehensive analysis provides data-driven insights into coffee vending machine sales patterns, customer behavior, and future sales forecasting to optimize business operations and maximize revenue.\n",
    "\n",
    "## Table of Contents\n",
    "1. [Data Loading & Preprocessing](#data)\n",
    "2. [Exploratory Data Analysis](#eda)\n",
    "3. [Statistical Analysis](#stats)\n",
    "4. [Customer Segmentation](#customer)\n",
    "5. [Advanced Forecasting](#forecast)\n",
    "6. [Anomaly Detection](#anomaly)\n",
    "7. [Business Intelligence](#business)\n",
    "8. [Recommendations](#recommendations)"
   ]
  },
  {
   "cell_type": "code",
   "execution_count": 1,
   "metadata": {},
   "outputs": [
    {
     "name": "stdout",
     "output_type": "stream",
     "text": [
      "✅ All libraries imported successfully\n"
     ]
    }
   ],
   "source": [
    "# Import required libraries\n",
    "import pandas as pd\n",
    "import numpy as np\n",
    "import matplotlib.pyplot as plt\n",
    "import seaborn as sns\n",
    "import plotly.express as px\n",
    "import plotly.graph_objects as go\n",
    "import plotly.figure_factory as ff\n",
    "from plotly.subplots import make_subplots\n",
    "import warnings\n",
    "warnings.filterwarnings('ignore')\n",
    "\n",
    "# Statistical libraries\n",
    "from scipy import stats\n",
    "from scipy.stats import chi2_contingency\n",
    "from sklearn.preprocessing import StandardScaler\n",
    "from sklearn.cluster import KMeans\n",
    "from sklearn.ensemble import IsolationForest\n",
    "\n",
    "# Time series and forecasting\n",
    "from prophet import Prophet\n",
    "from sklearn.metrics import mean_squared_error, mean_absolute_error\n",
    "from statsmodels.tsa.seasonal import seasonal_decompose\n",
    "from statsmodels.tsa.arima.model import ARIMA\n",
    "\n",
    "# Set styling\n",
    "plt.style.use('seaborn-v0_8')\n",
    "sns.set_palette(\"husl\")\n",
    "pd.set_option('display.max_columns', None)\n",
    "\n",
    "print(\"✅ All libraries imported successfully\")"
   ]
  },
  {
   "cell_type": "markdown",
   "metadata": {},
   "source": [
    "## 1. Data Loading & Advanced Preprocessing"
   ]
  },
  {
   "cell_type": "code",
   "execution_count": 2,
   "metadata": {},
   "outputs": [
    {
     "name": "stdout",
     "output_type": "stream",
     "text": [
      "✅ Dataset loaded successfully: 1133 rows, 6 columns\n",
      "\n",
      "📊 Dataset Overview:\n"
     ]
    },
    {
     "data": {
      "text/html": [
       "<div>\n",
       "<style scoped>\n",
       "    .dataframe tbody tr th:only-of-type {\n",
       "        vertical-align: middle;\n",
       "    }\n",
       "\n",
       "    .dataframe tbody tr th {\n",
       "        vertical-align: top;\n",
       "    }\n",
       "\n",
       "    .dataframe thead th {\n",
       "        text-align: right;\n",
       "    }\n",
       "</style>\n",
       "<table border=\"1\" class=\"dataframe\">\n",
       "  <thead>\n",
       "    <tr style=\"text-align: right;\">\n",
       "      <th></th>\n",
       "      <th>date</th>\n",
       "      <th>datetime</th>\n",
       "      <th>cash_type</th>\n",
       "      <th>card</th>\n",
       "      <th>money</th>\n",
       "      <th>coffee_name</th>\n",
       "    </tr>\n",
       "  </thead>\n",
       "  <tbody>\n",
       "    <tr>\n",
       "      <th>0</th>\n",
       "      <td>2024-03-01</td>\n",
       "      <td>2024-03-01 10:15:50.520</td>\n",
       "      <td>card</td>\n",
       "      <td>ANON-0000-0000-0001</td>\n",
       "      <td>38.7</td>\n",
       "      <td>Latte</td>\n",
       "    </tr>\n",
       "    <tr>\n",
       "      <th>1</th>\n",
       "      <td>2024-03-01</td>\n",
       "      <td>2024-03-01 12:19:22.539</td>\n",
       "      <td>card</td>\n",
       "      <td>ANON-0000-0000-0002</td>\n",
       "      <td>38.7</td>\n",
       "      <td>Hot Chocolate</td>\n",
       "    </tr>\n",
       "    <tr>\n",
       "      <th>2</th>\n",
       "      <td>2024-03-01</td>\n",
       "      <td>2024-03-01 12:20:18.089</td>\n",
       "      <td>card</td>\n",
       "      <td>ANON-0000-0000-0002</td>\n",
       "      <td>38.7</td>\n",
       "      <td>Hot Chocolate</td>\n",
       "    </tr>\n",
       "    <tr>\n",
       "      <th>3</th>\n",
       "      <td>2024-03-01</td>\n",
       "      <td>2024-03-01 13:46:33.006</td>\n",
       "      <td>card</td>\n",
       "      <td>ANON-0000-0000-0003</td>\n",
       "      <td>28.9</td>\n",
       "      <td>Americano</td>\n",
       "    </tr>\n",
       "    <tr>\n",
       "      <th>4</th>\n",
       "      <td>2024-03-01</td>\n",
       "      <td>2024-03-01 13:48:14.626</td>\n",
       "      <td>card</td>\n",
       "      <td>ANON-0000-0000-0004</td>\n",
       "      <td>38.7</td>\n",
       "      <td>Latte</td>\n",
       "    </tr>\n",
       "  </tbody>\n",
       "</table>\n",
       "</div>"
      ],
      "text/plain": [
       "         date                 datetime cash_type                 card  money  \\\n",
       "0  2024-03-01  2024-03-01 10:15:50.520      card  ANON-0000-0000-0001   38.7   \n",
       "1  2024-03-01  2024-03-01 12:19:22.539      card  ANON-0000-0000-0002   38.7   \n",
       "2  2024-03-01  2024-03-01 12:20:18.089      card  ANON-0000-0000-0002   38.7   \n",
       "3  2024-03-01  2024-03-01 13:46:33.006      card  ANON-0000-0000-0003   28.9   \n",
       "4  2024-03-01  2024-03-01 13:48:14.626      card  ANON-0000-0000-0004   38.7   \n",
       "\n",
       "     coffee_name  \n",
       "0          Latte  \n",
       "1  Hot Chocolate  \n",
       "2  Hot Chocolate  \n",
       "3      Americano  \n",
       "4          Latte  "
      ]
     },
     "metadata": {},
     "output_type": "display_data"
    },
    {
     "name": "stdout",
     "output_type": "stream",
     "text": [
      "\n",
      "📈 Dataset Information:\n",
      "<class 'pandas.core.frame.DataFrame'>\n",
      "RangeIndex: 1133 entries, 0 to 1132\n",
      "Data columns (total 6 columns):\n",
      " #   Column       Non-Null Count  Dtype  \n",
      "---  ------       --------------  -----  \n",
      " 0   date         1133 non-null   object \n",
      " 1   datetime     1133 non-null   object \n",
      " 2   cash_type    1133 non-null   object \n",
      " 3   card         1044 non-null   object \n",
      " 4   money        1133 non-null   float64\n",
      " 5   coffee_name  1133 non-null   object \n",
      "dtypes: float64(1), object(5)\n",
      "memory usage: 53.2+ KB\n",
      "\n",
      "🔍 Missing Values:\n"
     ]
    },
    {
     "data": {
      "text/plain": [
       "card    89\n",
       "dtype: int64"
      ]
     },
     "metadata": {},
     "output_type": "display_data"
    },
    {
     "name": "stdout",
     "output_type": "stream",
     "text": [
      "\n",
      "📋 Statistical Summary:\n"
     ]
    },
    {
     "data": {
      "text/html": [
       "<div>\n",
       "<style scoped>\n",
       "    .dataframe tbody tr th:only-of-type {\n",
       "        vertical-align: middle;\n",
       "    }\n",
       "\n",
       "    .dataframe tbody tr th {\n",
       "        vertical-align: top;\n",
       "    }\n",
       "\n",
       "    .dataframe thead th {\n",
       "        text-align: right;\n",
       "    }\n",
       "</style>\n",
       "<table border=\"1\" class=\"dataframe\">\n",
       "  <thead>\n",
       "    <tr style=\"text-align: right;\">\n",
       "      <th></th>\n",
       "      <th>money</th>\n",
       "    </tr>\n",
       "  </thead>\n",
       "  <tbody>\n",
       "    <tr>\n",
       "      <th>count</th>\n",
       "      <td>1133.000000</td>\n",
       "    </tr>\n",
       "    <tr>\n",
       "      <th>mean</th>\n",
       "      <td>33.105808</td>\n",
       "    </tr>\n",
       "    <tr>\n",
       "      <th>std</th>\n",
       "      <td>5.035366</td>\n",
       "    </tr>\n",
       "    <tr>\n",
       "      <th>min</th>\n",
       "      <td>18.120000</td>\n",
       "    </tr>\n",
       "    <tr>\n",
       "      <th>25%</th>\n",
       "      <td>28.900000</td>\n",
       "    </tr>\n",
       "    <tr>\n",
       "      <th>50%</th>\n",
       "      <td>32.820000</td>\n",
       "    </tr>\n",
       "    <tr>\n",
       "      <th>75%</th>\n",
       "      <td>37.720000</td>\n",
       "    </tr>\n",
       "    <tr>\n",
       "      <th>max</th>\n",
       "      <td>40.000000</td>\n",
       "    </tr>\n",
       "  </tbody>\n",
       "</table>\n",
       "</div>"
      ],
      "text/plain": [
       "             money\n",
       "count  1133.000000\n",
       "mean     33.105808\n",
       "std       5.035366\n",
       "min      18.120000\n",
       "25%      28.900000\n",
       "50%      32.820000\n",
       "75%      37.720000\n",
       "max      40.000000"
      ]
     },
     "metadata": {},
     "output_type": "display_data"
    }
   ],
   "source": [
    "def load_and_validate_data(filepath='coffee.csv'):\n",
    "    \"\"\"Load and perform initial validation of the dataset\"\"\"\n",
    "    try:\n",
    "        df = pd.read_csv(filepath)\n",
    "        print(f\"✅ Dataset loaded successfully: {df.shape[0]} rows, {df.shape[1]} columns\")\n",
    "        return df\n",
    "    except FileNotFoundError:\n",
    "        print(\"❌ Error: File not found. Please ensure 'coffee.csv' is in the current directory.\")\n",
    "        return None\n",
    "    except Exception as e:\n",
    "        print(f\"❌ Error loading data: {str(e)}\")\n",
    "        return None\n",
    "\n",
    "# Load data\n",
    "df = load_and_validate_data()\n",
    "\n",
    "if df is not None:\n",
    "    # Display basic info\n",
    "    print(\"\\n📊 Dataset Overview:\")\n",
    "    display(df.head())\n",
    "    \n",
    "    print(\"\\n📈 Dataset Information:\")\n",
    "    df.info()\n",
    "    \n",
    "    print(\"\\n🔍 Missing Values:\")\n",
    "    missing_data = df.isnull().sum()\n",
    "    display(missing_data[missing_data > 0])\n",
    "    \n",
    "    print(\"\\n📋 Statistical Summary:\")\n",
    "    display(df.describe())"
   ]
  },
  {
   "cell_type": "code",
   "execution_count": 3,
   "metadata": {},
   "outputs": [
    {
     "name": "stdout",
     "output_type": "stream",
     "text": [
      "✅ Advanced preprocessing completed\n",
      "📊 Final dataset shape: (1133, 14)\n"
     ]
    },
    {
     "data": {
      "text/html": [
       "<div>\n",
       "<style scoped>\n",
       "    .dataframe tbody tr th:only-of-type {\n",
       "        vertical-align: middle;\n",
       "    }\n",
       "\n",
       "    .dataframe tbody tr th {\n",
       "        vertical-align: top;\n",
       "    }\n",
       "\n",
       "    .dataframe thead th {\n",
       "        text-align: right;\n",
       "    }\n",
       "</style>\n",
       "<table border=\"1\" class=\"dataframe\">\n",
       "  <thead>\n",
       "    <tr style=\"text-align: right;\">\n",
       "      <th></th>\n",
       "      <th>date</th>\n",
       "      <th>datetime</th>\n",
       "      <th>cash_type</th>\n",
       "      <th>card</th>\n",
       "      <th>money</th>\n",
       "      <th>coffee_name</th>\n",
       "      <th>hour</th>\n",
       "      <th>day_of_week</th>\n",
       "      <th>day_of_week_num</th>\n",
       "      <th>month</th>\n",
       "      <th>week</th>\n",
       "      <th>is_weekend</th>\n",
       "      <th>time_period</th>\n",
       "      <th>price_category</th>\n",
       "    </tr>\n",
       "  </thead>\n",
       "  <tbody>\n",
       "    <tr>\n",
       "      <th>0</th>\n",
       "      <td>2024-03-01</td>\n",
       "      <td>2024-03-01 10:15:50.520</td>\n",
       "      <td>card</td>\n",
       "      <td>ANON-0000-0000-0001</td>\n",
       "      <td>38.7</td>\n",
       "      <td>Latte</td>\n",
       "      <td>10</td>\n",
       "      <td>Friday</td>\n",
       "      <td>4</td>\n",
       "      <td>3</td>\n",
       "      <td>9</td>\n",
       "      <td>False</td>\n",
       "      <td>Morning</td>\n",
       "      <td>High</td>\n",
       "    </tr>\n",
       "    <tr>\n",
       "      <th>1</th>\n",
       "      <td>2024-03-01</td>\n",
       "      <td>2024-03-01 12:19:22.539</td>\n",
       "      <td>card</td>\n",
       "      <td>ANON-0000-0000-0002</td>\n",
       "      <td>38.7</td>\n",
       "      <td>Hot Chocolate</td>\n",
       "      <td>12</td>\n",
       "      <td>Friday</td>\n",
       "      <td>4</td>\n",
       "      <td>3</td>\n",
       "      <td>9</td>\n",
       "      <td>False</td>\n",
       "      <td>Afternoon</td>\n",
       "      <td>High</td>\n",
       "    </tr>\n",
       "    <tr>\n",
       "      <th>2</th>\n",
       "      <td>2024-03-01</td>\n",
       "      <td>2024-03-01 12:20:18.089</td>\n",
       "      <td>card</td>\n",
       "      <td>ANON-0000-0000-0002</td>\n",
       "      <td>38.7</td>\n",
       "      <td>Hot Chocolate</td>\n",
       "      <td>12</td>\n",
       "      <td>Friday</td>\n",
       "      <td>4</td>\n",
       "      <td>3</td>\n",
       "      <td>9</td>\n",
       "      <td>False</td>\n",
       "      <td>Afternoon</td>\n",
       "      <td>High</td>\n",
       "    </tr>\n",
       "    <tr>\n",
       "      <th>3</th>\n",
       "      <td>2024-03-01</td>\n",
       "      <td>2024-03-01 13:46:33.006</td>\n",
       "      <td>card</td>\n",
       "      <td>ANON-0000-0000-0003</td>\n",
       "      <td>28.9</td>\n",
       "      <td>Americano</td>\n",
       "      <td>13</td>\n",
       "      <td>Friday</td>\n",
       "      <td>4</td>\n",
       "      <td>3</td>\n",
       "      <td>9</td>\n",
       "      <td>False</td>\n",
       "      <td>Afternoon</td>\n",
       "      <td>Low</td>\n",
       "    </tr>\n",
       "    <tr>\n",
       "      <th>4</th>\n",
       "      <td>2024-03-01</td>\n",
       "      <td>2024-03-01 13:48:14.626</td>\n",
       "      <td>card</td>\n",
       "      <td>ANON-0000-0000-0004</td>\n",
       "      <td>38.7</td>\n",
       "      <td>Latte</td>\n",
       "      <td>13</td>\n",
       "      <td>Friday</td>\n",
       "      <td>4</td>\n",
       "      <td>3</td>\n",
       "      <td>9</td>\n",
       "      <td>False</td>\n",
       "      <td>Afternoon</td>\n",
       "      <td>High</td>\n",
       "    </tr>\n",
       "  </tbody>\n",
       "</table>\n",
       "</div>"
      ],
      "text/plain": [
       "        date                datetime cash_type                 card  money  \\\n",
       "0 2024-03-01 2024-03-01 10:15:50.520      card  ANON-0000-0000-0001   38.7   \n",
       "1 2024-03-01 2024-03-01 12:19:22.539      card  ANON-0000-0000-0002   38.7   \n",
       "2 2024-03-01 2024-03-01 12:20:18.089      card  ANON-0000-0000-0002   38.7   \n",
       "3 2024-03-01 2024-03-01 13:46:33.006      card  ANON-0000-0000-0003   28.9   \n",
       "4 2024-03-01 2024-03-01 13:48:14.626      card  ANON-0000-0000-0004   38.7   \n",
       "\n",
       "     coffee_name  hour day_of_week  day_of_week_num  month  week  is_weekend  \\\n",
       "0          Latte    10      Friday                4      3     9       False   \n",
       "1  Hot Chocolate    12      Friday                4      3     9       False   \n",
       "2  Hot Chocolate    12      Friday                4      3     9       False   \n",
       "3      Americano    13      Friday                4      3     9       False   \n",
       "4          Latte    13      Friday                4      3     9       False   \n",
       "\n",
       "  time_period price_category  \n",
       "0     Morning           High  \n",
       "1   Afternoon           High  \n",
       "2   Afternoon           High  \n",
       "3   Afternoon            Low  \n",
       "4   Afternoon           High  "
      ]
     },
     "metadata": {},
     "output_type": "display_data"
    }
   ],
   "source": [
    "def advanced_preprocessing(df):\n",
    "    \"\"\"Perform comprehensive data preprocessing\"\"\"\n",
    "    df_clean = df.copy()\n",
    "    \n",
    "    # Convert datetime columns\n",
    "    df_clean['datetime'] = pd.to_datetime(df_clean['datetime'])\n",
    "    df_clean['date'] = pd.to_datetime(df_clean['date'])\n",
    "    \n",
    "    # Handle missing values: Assume missing card numbers correspond to cash payments\n",
    "    df_clean['card'] = df_clean['card'].fillna('Cash Payment')\n",
    "    \n",
    "    # Extract comprehensive time features\n",
    "    df_clean['hour'] = df_clean['datetime'].dt.hour\n",
    "    df_clean['day_of_week'] = df_clean['datetime'].dt.day_name()\n",
    "    df_clean['day_of_week_num'] = df_clean['datetime'].dt.dayofweek\n",
    "    df_clean['month'] = df_clean['datetime'].dt.month\n",
    "    df_clean['week'] = df_clean['datetime'].dt.isocalendar().week\n",
    "    df_clean['is_weekend'] = df_clean['day_of_week_num'].isin([5, 6])\n",
    "    \n",
    "    # Create time periods\n",
    "    df_clean['time_period'] = pd.cut(df_clean['hour'], \n",
    "                                   bins=[0, 6, 12, 18, 24], \n",
    "                                   labels=['Night', 'Morning', 'Afternoon', 'Evening'],\n",
    "                                   include_lowest=True, right=False)\n",
    "    \n",
    "    # Create price categories\n",
    "    # Adjusted bins to prevent empty 'Premium' category as max price is 40\n",
    "    df_clean['price_category'] = pd.cut(df_clean['money'], \n",
    "                                      bins=[0, 30, 35, np.inf], \n",
    "                                      labels=['Low', 'Medium', 'High'],\n",
    "                                      include_lowest=True)\n",
    "    \n",
    "    print(\"✅ Advanced preprocessing completed\")\n",
    "    print(f\"📊 Final dataset shape: {df_clean.shape}\")\n",
    "    \n",
    "    return df_clean\n",
    "\n",
    "# Apply preprocessing\n",
    "df_processed = advanced_preprocessing(df)\n",
    "display(df_processed.head())"
   ]
  },
  {
   "cell_type": "markdown",
   "metadata": {},
   "source": [
    "## 2.  Exploratory Data Analysis"
   ]
  },
  {
   "cell_type": "code",
   "execution_count": 4,
   "metadata": {},
   "outputs": [
    {
     "data": {
      "application/vnd.plotly.v1+json": {
       "config": {
        "plotlyServerURL": "https://plot.ly"
       },
       "data": [
        {
         "alignmentgroup": "True",
         "bingroup": "x",
         "hovertemplate": "cash_type=card<br>Coffee Type=%{x}<br>count=%{y}<extra></extra>",
         "legendgroup": "card",
         "marker": {
          "color": "#636efa",
          "pattern": {
           "shape": ""
          }
         },
         "name": "card",
         "offsetgroup": "card",
         "orientation": "v",
         "showlegend": true,
         "type": "histogram",
         "x": [
          "Latte",
          "Hot Chocolate",
          "Hot Chocolate",
          "Americano",
          "Latte",
          "Americano with Milk",
          "Hot Chocolate",
          "Americano with Milk",
          "Cocoa",
          "Americano with Milk",
          "Americano with Milk",
          "Americano",
          "Americano with Milk",
          "Americano with Milk",
          "Americano",
          "Americano with Milk",
          "Americano",
          "Latte",
          "Cortado",
          "Americano",
          "Hot Chocolate",
          "Cocoa",
          "Cortado",
          "Americano with Milk",
          "Americano with Milk",
          "Hot Chocolate",
          "Latte",
          "Latte",
          "Americano with Milk",
          "Espresso",
          "Latte",
          "Latte",
          "Latte",
          "Hot Chocolate",
          "Cocoa",
          "Hot Chocolate",
          "Hot Chocolate",
          "Cortado",
          "Hot Chocolate",
          "Americano",
          "Cortado",
          "Cappuccino",
          "Cappuccino",
          "Hot Chocolate",
          "Latte",
          "Americano",
          "Americano with Milk",
          "Cortado",
          "Cappuccino",
          "Americano",
          "Americano",
          "Americano",
          "Americano with Milk",
          "Latte",
          "Latte",
          "Espresso",
          "Americano",
          "Cappuccino",
          "Americano",
          "Americano",
          "Latte",
          "Americano with Milk",
          "Cortado",
          "Cappuccino",
          "Americano with Milk",
          "Hot Chocolate",
          "Cappuccino",
          "Hot Chocolate",
          "Espresso",
          "Latte",
          "Cortado",
          "Cappuccino",
          "Americano",
          "Latte",
          "Cortado",
          "Americano",
          "Cortado",
          "Hot Chocolate",
          "Americano with Milk",
          "Americano",
          "Americano",
          "Hot Chocolate",
          "Americano",
          "Americano",
          "Americano",
          "Americano with Milk",
          "Espresso",
          "Espresso",
          "Espresso",
          "Latte",
          "Hot Chocolate",
          "Cortado",
          "Americano",
          "Americano with Milk",
          "Espresso",
          "Latte",
          "Americano with Milk",
          "Espresso",
          "Hot Chocolate",
          "Cortado",
          "Hot Chocolate",
          "Americano",
          "Americano with Milk",
          "Americano",
          "Cortado",
          "Cortado",
          "Cortado",
          "Americano with Milk",
          "Cortado",
          "Cortado",
          "Americano",
          "Americano",
          "Americano",
          "Latte",
          "Latte",
          "Hot Chocolate",
          "Americano with Milk",
          "Cortado",
          "Cortado",
          "Cappuccino",
          "Cocoa",
          "Latte",
          "Cortado",
          "Cappuccino",
          "Cortado",
          "Latte",
          "Americano with Milk",
          "Americano with Milk",
          "Americano",
          "Espresso",
          "Americano",
          "Latte",
          "Americano with Milk",
          "Cappuccino",
          "Cocoa",
          "Americano with Milk",
          "Latte",
          "Americano with Milk",
          "Cortado",
          "Latte",
          "Latte",
          "Latte",
          "Latte",
          "Americano with Milk",
          "Cappuccino",
          "Cocoa",
          "Latte",
          "Latte",
          "Cortado",
          "Americano",
          "Cortado",
          "Cortado",
          "Americano",
          "Latte",
          "Latte",
          "Hot Chocolate",
          "Cortado",
          "Americano with Milk",
          "Americano with Milk",
          "Hot Chocolate",
          "Cappuccino",
          "Americano",
          "Cortado",
          "Cortado",
          "Cortado",
          "Americano",
          "Latte",
          "Latte",
          "Cappuccino",
          "Cappuccino",
          "Latte",
          "Latte",
          "Latte",
          "Americano with Milk",
          "Cappuccino",
          "Americano",
          "Americano with Milk",
          "Americano with Milk",
          "Americano with Milk",
          "Americano with Milk",
          "Hot Chocolate",
          "Latte",
          "Americano",
          "Cortado",
          "Cortado",
          "Americano",
          "Cappuccino",
          "Latte",
          "Latte",
          "Cappuccino",
          "Cortado",
          "Americano",
          "Americano",
          "Cortado",
          "Americano with Milk",
          "Latte",
          "Cortado",
          "Espresso",
          "Americano with Milk",
          "Cappuccino",
          "Americano",
          "Latte",
          "Latte",
          "Cappuccino",
          "Cappuccino",
          "Cortado",
          "Espresso",
          "Hot Chocolate",
          "Americano with Milk",
          "Americano with Milk",
          "Cappuccino",
          "Americano",
          "Cappuccino",
          "Latte",
          "Americano",
          "Americano with Milk",
          "Cappuccino",
          "Latte",
          "Hot Chocolate",
          "Hot Chocolate",
          "Espresso",
          "Cappuccino",
          "Latte",
          "Americano",
          "Americano",
          "Latte",
          "Cappuccino",
          "Americano with Milk",
          "Hot Chocolate",
          "Cortado",
          "Latte",
          "Americano",
          "Cappuccino",
          "Latte",
          "Cappuccino",
          "Cappuccino",
          "Cappuccino",
          "Cortado",
          "Americano",
          "Americano",
          "Americano",
          "Cappuccino",
          "Cortado",
          "Latte",
          "Cappuccino",
          "Americano",
          "Americano",
          "Americano with Milk",
          "Americano with Milk",
          "Americano with Milk",
          "Cocoa",
          "Cortado",
          "Americano",
          "Americano with Milk",
          "Cappuccino",
          "Cocoa",
          "Americano",
          "Espresso",
          "Cappuccino",
          "Cappuccino",
          "Cortado",
          "Americano",
          "Americano",
          "Americano with Milk",
          "Cortado",
          "Cappuccino",
          "Latte",
          "Latte",
          "Cappuccino",
          "Hot Chocolate",
          "Hot Chocolate",
          "Latte",
          "Americano with Milk",
          "Cappuccino",
          "Hot Chocolate",
          "Cappuccino",
          "Cocoa",
          "Americano with Milk",
          "Americano with Milk",
          "Americano with Milk",
          "Americano",
          "Americano with Milk",
          "Hot Chocolate",
          "Cappuccino",
          "Americano with Milk",
          "Americano with Milk",
          "Americano with Milk",
          "Cappuccino",
          "Cappuccino",
          "Latte",
          "Latte",
          "Americano",
          "Americano",
          "Americano with Milk",
          "Latte",
          "Cappuccino",
          "Americano with Milk",
          "Cappuccino",
          "Americano with Milk",
          "Americano with Milk",
          "Latte",
          "Americano with Milk",
          "Americano with Milk",
          "Americano with Milk",
          "Americano with Milk",
          "Americano with Milk",
          "Americano with Milk",
          "Cappuccino",
          "Americano",
          "Latte",
          "Americano",
          "Americano",
          "Latte",
          "Latte",
          "Cappuccino",
          "Americano",
          "Americano",
          "Cortado",
          "Americano",
          "Hot Chocolate",
          "Cocoa",
          "Cappuccino",
          "Latte",
          "Cappuccino",
          "Americano",
          "Americano",
          "Latte",
          "Cortado",
          "Americano",
          "Cortado",
          "Cortado",
          "Americano with Milk",
          "Cappuccino",
          "Cappuccino",
          "Cappuccino",
          "Latte",
          "Americano with Milk",
          "Americano with Milk",
          "Americano",
          "Americano with Milk",
          "Cappuccino",
          "Americano with Milk",
          "Latte",
          "Americano",
          "Americano with Milk",
          "Cappuccino",
          "Americano with Milk",
          "Latte",
          "Cappuccino",
          "Latte",
          "Latte",
          "Americano",
          "Cappuccino",
          "Americano with Milk",
          "Americano",
          "Cortado",
          "Cortado",
          "Americano",
          "Cappuccino",
          "Cappuccino",
          "Cocoa",
          "Cortado",
          "Cortado",
          "Cocoa",
          "Americano",
          "Cappuccino",
          "Latte",
          "Cappuccino",
          "Cappuccino",
          "Latte",
          "Cappuccino",
          "Americano",
          "Latte",
          "Latte",
          "Latte",
          "Americano",
          "Americano",
          "Americano",
          "Americano with Milk",
          "Latte",
          "Latte",
          "Latte",
          "Americano with Milk",
          "Cocoa",
          "Cappuccino",
          "Americano with Milk",
          "Cappuccino",
          "Latte",
          "Latte",
          "Latte",
          "Americano",
          "Latte",
          "Americano with Milk",
          "Americano with Milk",
          "Americano with Milk",
          "Americano with Milk",
          "Americano with Milk",
          "Americano",
          "Americano",
          "Americano",
          "Cappuccino",
          "Latte",
          "Cappuccino",
          "Cappuccino",
          "Americano with Milk",
          "Americano",
          "Americano with Milk",
          "Cappuccino",
          "Hot Chocolate",
          "Latte",
          "Espresso",
          "Americano",
          "Americano",
          "Americano",
          "Americano",
          "Americano with Milk",
          "Cortado",
          "Cortado",
          "Espresso",
          "Cappuccino",
          "Americano with Milk",
          "Americano with Milk",
          "Americano with Milk",
          "Hot Chocolate",
          "Latte",
          "Hot Chocolate",
          "Latte",
          "Americano",
          "Americano with Milk",
          "Americano with Milk",
          "Cappuccino",
          "Cappuccino",
          "Americano",
          "Latte",
          "Latte",
          "Cappuccino",
          "Cappuccino",
          "Americano with Milk",
          "Americano with Milk",
          "Americano with Milk",
          "Americano with Milk",
          "Latte",
          "Americano",
          "Americano",
          "Cappuccino",
          "Americano with Milk",
          "Americano",
          "Americano with Milk",
          "Americano with Milk",
          "Espresso",
          "Hot Chocolate",
          "Cappuccino",
          "Cappuccino",
          "Cappuccino",
          "Americano with Milk",
          "Latte",
          "Latte",
          "Americano",
          "Americano",
          "Americano",
          "Americano",
          "Americano with Milk",
          "Cappuccino",
          "Latte",
          "Latte",
          "Americano with Milk",
          "Cocoa",
          "Cortado",
          "Americano with Milk",
          "Americano with Milk",
          "Latte",
          "Latte",
          "Espresso",
          "Cappuccino",
          "Cappuccino",
          "Cappuccino",
          "Americano with Milk",
          "Cortado",
          "Americano with Milk",
          "Americano",
          "Americano",
          "Americano with Milk",
          "Cappuccino",
          "Cappuccino",
          "Hot Chocolate",
          "Cappuccino",
          "Cappuccino",
          "Espresso",
          "Cappuccino",
          "Cappuccino",
          "Cappuccino",
          "Latte",
          "Cappuccino",
          "Latte",
          "Cortado",
          "Cappuccino",
          "Cappuccino",
          "Cappuccino",
          "Cappuccino",
          "Latte",
          "Americano with Milk",
          "Cortado",
          "Americano",
          "Americano",
          "Hot Chocolate",
          "Cortado",
          "Cortado",
          "Americano with Milk",
          "Latte",
          "Americano with Milk",
          "Americano with Milk",
          "Americano with Milk",
          "Americano with Milk",
          "Americano",
          "Latte",
          "Americano with Milk",
          "Cortado",
          "Americano with Milk",
          "Cappuccino",
          "Hot Chocolate",
          "Hot Chocolate",
          "Americano",
          "Latte",
          "Hot Chocolate",
          "Cappuccino",
          "Cortado",
          "Cappuccino",
          "Latte",
          "Cappuccino",
          "Americano",
          "Americano with Milk",
          "Cocoa",
          "Americano",
          "Americano",
          "Latte",
          "Americano",
          "Latte",
          "Latte",
          "Americano with Milk",
          "Cappuccino",
          "Americano with Milk",
          "Americano with Milk",
          "Cappuccino",
          "Cappuccino",
          "Cocoa",
          "Cortado",
          "Americano",
          "Latte",
          "Americano with Milk",
          "Americano",
          "Latte",
          "Hot Chocolate",
          "Americano",
          "Latte",
          "Cappuccino",
          "Latte",
          "Cortado",
          "Latte",
          "Hot Chocolate",
          "Cocoa",
          "Cappuccino",
          "Latte",
          "Americano with Milk",
          "Latte",
          "Americano with Milk",
          "Espresso",
          "Espresso",
          "Cappuccino",
          "Latte",
          "Hot Chocolate",
          "Americano with Milk",
          "Americano with Milk",
          "Latte",
          "Hot Chocolate",
          "Cocoa",
          "Americano with Milk",
          "Latte",
          "Latte",
          "Cappuccino",
          "Americano with Milk",
          "Latte",
          "Cappuccino",
          "Americano with Milk",
          "Cortado",
          "Cortado",
          "Latte",
          "Latte",
          "Americano with Milk",
          "Americano with Milk",
          "Americano with Milk",
          "Cappuccino",
          "Cappuccino",
          "Cocoa",
          "Americano with Milk",
          "Latte",
          "Americano with Milk",
          "Cappuccino",
          "Americano with Milk",
          "Latte",
          "Latte",
          "Latte",
          "Cappuccino",
          "Americano with Milk",
          "Latte",
          "Cortado",
          "Americano with Milk",
          "Latte",
          "Hot Chocolate",
          "Latte",
          "Cortado",
          "Cappuccino",
          "Hot Chocolate",
          "Cappuccino",
          "Cortado",
          "Americano with Milk",
          "Americano with Milk",
          "Americano with Milk",
          "Americano with Milk",
          "Cappuccino",
          "Cappuccino",
          "Americano",
          "Latte",
          "Americano with Milk",
          "Americano with Milk",
          "Latte",
          "Cocoa",
          "Cortado",
          "Americano with Milk",
          "Americano with Milk",
          "Latte",
          "Americano",
          "Americano with Milk",
          "Cappuccino",
          "Latte",
          "Latte",
          "Cappuccino",
          "Americano with Milk",
          "Latte",
          "Cappuccino",
          "Espresso",
          "Americano with Milk",
          "Cortado",
          "Cortado",
          "Cortado",
          "Americano with Milk",
          "Cappuccino",
          "Cappuccino",
          "Latte",
          "Latte",
          "Cappuccino",
          "Cortado",
          "Espresso",
          "Cappuccino",
          "Americano with Milk",
          "Latte",
          "Latte",
          "Cortado",
          "Cappuccino",
          "Americano with Milk",
          "Americano",
          "Cappuccino",
          "Latte",
          "Hot Chocolate",
          "Hot Chocolate",
          "Latte",
          "Latte",
          "Americano with Milk",
          "Latte",
          "Latte",
          "Hot Chocolate",
          "Americano with Milk",
          "Americano with Milk",
          "Hot Chocolate",
          "Cappuccino",
          "Latte",
          "Latte",
          "Hot Chocolate",
          "Americano with Milk",
          "Americano",
          "Latte",
          "Americano with Milk",
          "Cortado",
          "Americano with Milk",
          "Hot Chocolate",
          "Latte",
          "Americano with Milk",
          "Espresso",
          "Espresso",
          "Americano with Milk",
          "Americano with Milk",
          "Cortado",
          "Americano",
          "Latte",
          "Americano with Milk",
          "Cappuccino",
          "Latte",
          "Americano with Milk",
          "Espresso",
          "Cocoa",
          "Americano with Milk",
          "Americano with Milk",
          "Americano",
          "Americano with Milk",
          "Latte",
          "Hot Chocolate",
          "Hot Chocolate",
          "Americano with Milk",
          "Espresso",
          "Americano with Milk",
          "Americano with Milk",
          "Hot Chocolate",
          "Hot Chocolate",
          "Americano with Milk",
          "Americano with Milk",
          "Americano",
          "Cortado",
          "Cortado",
          "Cappuccino",
          "Cappuccino",
          "Cappuccino",
          "Cappuccino",
          "Americano",
          "Americano",
          "Americano with Milk",
          "Americano",
          "Cappuccino",
          "Cappuccino",
          "Cappuccino",
          "Cortado",
          "Americano with Milk",
          "Americano with Milk",
          "Latte",
          "Cortado",
          "Americano",
          "Latte",
          "Cocoa",
          "Americano with Milk",
          "Cappuccino",
          "Latte",
          "Americano with Milk",
          "Cappuccino",
          "Americano with Milk",
          "Latte",
          "Latte",
          "Latte",
          "Latte",
          "Latte",
          "Americano with Milk",
          "Latte",
          "Americano",
          "Americano with Milk",
          "Americano with Milk",
          "Espresso",
          "Latte",
          "Cappuccino",
          "Cappuccino",
          "Cappuccino",
          "Cappuccino",
          "Americano",
          "Americano with Milk",
          "Cortado",
          "Americano with Milk",
          "Americano with Milk",
          "Latte",
          "Cappuccino",
          "Americano with Milk",
          "Americano with Milk",
          "Cappuccino",
          "Latte",
          "Cappuccino",
          "Americano with Milk",
          "Cappuccino",
          "Cappuccino",
          "Latte",
          "Cappuccino",
          "Cappuccino",
          "Latte",
          "Americano with Milk",
          "Americano with Milk",
          "Cappuccino",
          "Latte",
          "Espresso",
          "Americano",
          "Latte",
          "Cappuccino",
          "Americano with Milk",
          "Americano with Milk",
          "Cortado",
          "Americano with Milk",
          "Cappuccino",
          "Cortado",
          "Espresso",
          "Americano with Milk",
          "Latte",
          "Cappuccino",
          "Americano with Milk",
          "Americano with Milk",
          "Americano with Milk",
          "Cappuccino",
          "Cappuccino",
          "Cappuccino",
          "Hot Chocolate",
          "Latte",
          "Latte",
          "Espresso",
          "Hot Chocolate",
          "Americano with Milk",
          "Espresso",
          "Cappuccino",
          "Cappuccino",
          "Americano with Milk",
          "Americano",
          "Latte",
          "Americano",
          "Americano with Milk",
          "Americano with Milk",
          "Americano with Milk",
          "Cappuccino",
          "Cappuccino",
          "Americano with Milk",
          "Americano with Milk",
          "Latte",
          "Espresso",
          "Cappuccino",
          "Latte",
          "Americano with Milk",
          "Americano",
          "Cocoa",
          "Americano with Milk",
          "Americano with Milk",
          "Espresso",
          "Americano",
          "Espresso",
          "Americano",
          "Americano",
          "Cappuccino",
          "Americano with Milk",
          "Latte",
          "Latte",
          "Latte",
          "Latte",
          "Americano with Milk",
          "Cappuccino",
          "Americano with Milk",
          "Americano with Milk",
          "Cappuccino",
          "Cappuccino",
          "Hot Chocolate",
          "Cocoa",
          "Latte",
          "Cappuccino",
          "Hot Chocolate",
          "Americano with Milk",
          "Latte",
          "Americano",
          "Americano",
          "Americano with Milk",
          "Latte",
          "Americano with Milk",
          "Americano with Milk",
          "Americano with Milk",
          "Cappuccino",
          "Americano with Milk",
          "Americano",
          "Americano with Milk",
          "Latte",
          "Hot Chocolate",
          "Americano with Milk",
          "Latte",
          "Americano",
          "Cortado",
          "Hot Chocolate",
          "Hot Chocolate",
          "Hot Chocolate",
          "Hot Chocolate",
          "Latte",
          "Latte",
          "Americano",
          "Americano with Milk",
          "Cappuccino",
          "Latte",
          "Americano",
          "Latte",
          "Cappuccino",
          "Americano with Milk",
          "Hot Chocolate",
          "Americano with Milk",
          "Americano with Milk",
          "Espresso",
          "Americano",
          "Americano",
          "Cortado",
          "Latte",
          "Cappuccino",
          "Latte",
          "Hot Chocolate",
          "Latte",
          "Latte",
          "Americano",
          "Americano with Milk",
          "Latte",
          "Americano with Milk",
          "Latte",
          "Cocoa",
          "Latte",
          "Latte",
          "Americano",
          "Latte",
          "Americano",
          "Latte",
          "Latte",
          "Americano",
          "Latte",
          "Cocoa",
          "Cappuccino",
          "Cortado",
          "Latte",
          "Americano",
          "Americano",
          "Americano with Milk",
          "Latte",
          "Latte",
          "Americano",
          "Americano with Milk",
          "Cocoa",
          "Latte",
          "Americano",
          "Americano with Milk",
          "Americano with Milk",
          "Latte",
          "Latte",
          "Americano",
          "Americano",
          "Americano with Milk",
          "Americano with Milk",
          "Espresso",
          "Cappuccino",
          "Latte",
          "Espresso",
          "Latte",
          "Cappuccino",
          "Cappuccino",
          "Americano with Milk",
          "Americano",
          "Americano",
          "Americano",
          "Latte",
          "Americano with Milk",
          "Americano",
          "Cappuccino",
          "Cappuccino",
          "Cortado",
          "Espresso",
          "Cortado",
          "Cocoa",
          "Latte",
          "Americano with Milk",
          "Espresso",
          "Cortado",
          "Cortado",
          "Latte",
          "Latte",
          "Americano with Milk",
          "Americano with Milk",
          "Cappuccino",
          "Cappuccino",
          "Latte",
          "Americano",
          "Cappuccino",
          "Latte",
          "Americano with Milk",
          "Cappuccino",
          "Americano with Milk",
          "Americano with Milk",
          "Espresso",
          "Americano with Milk",
          "Espresso",
          "Latte",
          "Cappuccino",
          "Cappuccino",
          "Americano with Milk",
          "Americano with Milk",
          "Latte",
          "Cappuccino",
          "Espresso",
          "Americano with Milk",
          "Latte",
          "Latte",
          "Americano",
          "Americano with Milk",
          "Americano",
          "Americano with Milk",
          "Cappuccino",
          "Hot Chocolate",
          "Hot Chocolate",
          "Cappuccino",
          "Americano",
          "Cocoa",
          "Americano with Milk",
          "Cortado",
          "Cappuccino",
          "Americano with Milk",
          "Cortado",
          "Americano with Milk",
          "Latte",
          "Americano",
          "Espresso",
          "Americano with Milk",
          "Americano with Milk",
          "Americano with Milk",
          "Americano with Milk",
          "Latte",
          "Americano with Milk",
          "Cortado",
          "Americano with Milk",
          "Espresso",
          "Americano with Milk",
          "Americano with Milk",
          "Americano with Milk",
          "Latte",
          "Americano",
          "Cappuccino",
          "Americano with Milk",
          "Americano with Milk",
          "Americano with Milk",
          "Americano",
          "Americano",
          "Americano with Milk",
          "Cocoa",
          "Latte",
          "Americano with Milk",
          "Cortado",
          "Latte",
          "Cortado",
          "Latte",
          "Cocoa",
          "Cortado",
          "Latte",
          "Cappuccino",
          "Cortado",
          "Americano with Milk",
          "Latte",
          "Latte",
          "Latte"
         ],
         "xaxis": "x",
         "yaxis": "y"
        },
        {
         "alignmentgroup": "True",
         "bingroup": "x",
         "hovertemplate": "cash_type=cash<br>Coffee Type=%{x}<br>count=%{y}<extra></extra>",
         "legendgroup": "cash",
         "marker": {
          "color": "#EF553B",
          "pattern": {
           "shape": ""
          }
         },
         "name": "cash",
         "offsetgroup": "cash",
         "orientation": "v",
         "showlegend": true,
         "type": "histogram",
         "x": [
          "Latte",
          "Latte",
          "Americano with Milk",
          "Latte",
          "Latte",
          "Hot Chocolate",
          "Americano",
          "Americano with Milk",
          "Latte",
          "Americano with Milk",
          "Latte",
          "Cappuccino",
          "Cortado",
          "Americano",
          "Latte",
          "Espresso",
          "Latte",
          "Latte",
          "Latte",
          "Cortado",
          "Hot Chocolate",
          "Latte",
          "Cappuccino",
          "Americano",
          "Cappuccino",
          "Latte",
          "Americano with Milk",
          "Latte",
          "Cappuccino",
          "Cappuccino",
          "Americano",
          "Cappuccino",
          "Cappuccino",
          "Cortado",
          "Latte",
          "Latte",
          "Cappuccino",
          "Americano",
          "Cocoa",
          "Espresso",
          "Americano with Milk",
          "Cappuccino",
          "Americano",
          "Espresso",
          "Hot Chocolate",
          "Hot Chocolate",
          "Hot Chocolate",
          "Latte",
          "Cortado",
          "Cortado",
          "Americano with Milk",
          "Espresso",
          "Americano with Milk",
          "Cappuccino",
          "Americano with Milk",
          "Cocoa",
          "Cappuccino",
          "Latte",
          "Cappuccino",
          "Latte",
          "Latte",
          "Americano",
          "Americano with Milk",
          "Latte",
          "Americano with Milk",
          "Latte",
          "Americano",
          "Americano",
          "Americano",
          "Latte",
          "Cappuccino",
          "Americano with Milk",
          "Cappuccino",
          "Espresso",
          "Americano",
          "Americano",
          "Americano with Milk",
          "Cocoa",
          "Latte",
          "Hot Chocolate",
          "Americano",
          "Americano",
          "Cappuccino",
          "Latte",
          "Latte",
          "Cocoa",
          "Americano with Milk",
          "Americano with Milk",
          "Americano with Milk"
         ],
         "xaxis": "x",
         "yaxis": "y"
        }
       ],
       "layout": {
        "barmode": "relative",
        "height": 500,
        "legend": {
         "title": {
          "text": "cash_type"
         },
         "tracegroupgap": 0
        },
        "template": {
         "data": {
          "bar": [
           {
            "error_x": {
             "color": "#2a3f5f"
            },
            "error_y": {
             "color": "#2a3f5f"
            },
            "marker": {
             "line": {
              "color": "#E5ECF6",
              "width": 0.5
             },
             "pattern": {
              "fillmode": "overlay",
              "size": 10,
              "solidity": 0.2
             }
            },
            "type": "bar"
           }
          ],
          "barpolar": [
           {
            "marker": {
             "line": {
              "color": "#E5ECF6",
              "width": 0.5
             },
             "pattern": {
              "fillmode": "overlay",
              "size": 10,
              "solidity": 0.2
             }
            },
            "type": "barpolar"
           }
          ],
          "carpet": [
           {
            "aaxis": {
             "endlinecolor": "#2a3f5f",
             "gridcolor": "white",
             "linecolor": "white",
             "minorgridcolor": "white",
             "startlinecolor": "#2a3f5f"
            },
            "baxis": {
             "endlinecolor": "#2a3f5f",
             "gridcolor": "white",
             "linecolor": "white",
             "minorgridcolor": "white",
             "startlinecolor": "#2a3f5f"
            },
            "type": "carpet"
           }
          ],
          "choropleth": [
           {
            "colorbar": {
             "outlinewidth": 0,
             "ticks": ""
            },
            "type": "choropleth"
           }
          ],
          "contour": [
           {
            "colorbar": {
             "outlinewidth": 0,
             "ticks": ""
            },
            "colorscale": [
             [
              0,
              "#0d0887"
             ],
             [
              0.1111111111111111,
              "#46039f"
             ],
             [
              0.2222222222222222,
              "#7201a8"
             ],
             [
              0.3333333333333333,
              "#9c179e"
             ],
             [
              0.4444444444444444,
              "#bd3786"
             ],
             [
              0.5555555555555556,
              "#d8576b"
             ],
             [
              0.6666666666666666,
              "#ed7953"
             ],
             [
              0.7777777777777778,
              "#fb9f3a"
             ],
             [
              0.8888888888888888,
              "#fdca26"
             ],
             [
              1,
              "#f0f921"
             ]
            ],
            "type": "contour"
           }
          ],
          "contourcarpet": [
           {
            "colorbar": {
             "outlinewidth": 0,
             "ticks": ""
            },
            "type": "contourcarpet"
           }
          ],
          "heatmap": [
           {
            "colorbar": {
             "outlinewidth": 0,
             "ticks": ""
            },
            "colorscale": [
             [
              0,
              "#0d0887"
             ],
             [
              0.1111111111111111,
              "#46039f"
             ],
             [
              0.2222222222222222,
              "#7201a8"
             ],
             [
              0.3333333333333333,
              "#9c179e"
             ],
             [
              0.4444444444444444,
              "#bd3786"
             ],
             [
              0.5555555555555556,
              "#d8576b"
             ],
             [
              0.6666666666666666,
              "#ed7953"
             ],
             [
              0.7777777777777778,
              "#fb9f3a"
             ],
             [
              0.8888888888888888,
              "#fdca26"
             ],
             [
              1,
              "#f0f921"
             ]
            ],
            "type": "heatmap"
           }
          ],
          "heatmapgl": [
           {
            "colorbar": {
             "outlinewidth": 0,
             "ticks": ""
            },
            "colorscale": [
             [
              0,
              "#0d0887"
             ],
             [
              0.1111111111111111,
              "#46039f"
             ],
             [
              0.2222222222222222,
              "#7201a8"
             ],
             [
              0.3333333333333333,
              "#9c179e"
             ],
             [
              0.4444444444444444,
              "#bd3786"
             ],
             [
              0.5555555555555556,
              "#d8576b"
             ],
             [
              0.6666666666666666,
              "#ed7953"
             ],
             [
              0.7777777777777778,
              "#fb9f3a"
             ],
             [
              0.8888888888888888,
              "#fdca26"
             ],
             [
              1,
              "#f0f921"
             ]
            ],
            "type": "heatmapgl"
           }
          ],
          "histogram": [
           {
            "marker": {
             "pattern": {
              "fillmode": "overlay",
              "size": 10,
              "solidity": 0.2
             }
            },
            "type": "histogram"
           }
          ],
          "histogram2d": [
           {
            "colorbar": {
             "outlinewidth": 0,
             "ticks": ""
            },
            "colorscale": [
             [
              0,
              "#0d0887"
             ],
             [
              0.1111111111111111,
              "#46039f"
             ],
             [
              0.2222222222222222,
              "#7201a8"
             ],
             [
              0.3333333333333333,
              "#9c179e"
             ],
             [
              0.4444444444444444,
              "#bd3786"
             ],
             [
              0.5555555555555556,
              "#d8576b"
             ],
             [
              0.6666666666666666,
              "#ed7953"
             ],
             [
              0.7777777777777778,
              "#fb9f3a"
             ],
             [
              0.8888888888888888,
              "#fdca26"
             ],
             [
              1,
              "#f0f921"
             ]
            ],
            "type": "histogram2d"
           }
          ],
          "histogram2dcontour": [
           {
            "colorbar": {
             "outlinewidth": 0,
             "ticks": ""
            },
            "colorscale": [
             [
              0,
              "#0d0887"
             ],
             [
              0.1111111111111111,
              "#46039f"
             ],
             [
              0.2222222222222222,
              "#7201a8"
             ],
             [
              0.3333333333333333,
              "#9c179e"
             ],
             [
              0.4444444444444444,
              "#bd3786"
             ],
             [
              0.5555555555555556,
              "#d8576b"
             ],
             [
              0.6666666666666666,
              "#ed7953"
             ],
             [
              0.7777777777777778,
              "#fb9f3a"
             ],
             [
              0.8888888888888888,
              "#fdca26"
             ],
             [
              1,
              "#f0f921"
             ]
            ],
            "type": "histogram2dcontour"
           }
          ],
          "mesh3d": [
           {
            "colorbar": {
             "outlinewidth": 0,
             "ticks": ""
            },
            "type": "mesh3d"
           }
          ],
          "parcoords": [
           {
            "line": {
             "colorbar": {
              "outlinewidth": 0,
              "ticks": ""
             }
            },
            "type": "parcoords"
           }
          ],
          "pie": [
           {
            "automargin": true,
            "type": "pie"
           }
          ],
          "scatter": [
           {
            "fillpattern": {
             "fillmode": "overlay",
             "size": 10,
             "solidity": 0.2
            },
            "type": "scatter"
           }
          ],
          "scatter3d": [
           {
            "line": {
             "colorbar": {
              "outlinewidth": 0,
              "ticks": ""
             }
            },
            "marker": {
             "colorbar": {
              "outlinewidth": 0,
              "ticks": ""
             }
            },
            "type": "scatter3d"
           }
          ],
          "scattercarpet": [
           {
            "marker": {
             "colorbar": {
              "outlinewidth": 0,
              "ticks": ""
             }
            },
            "type": "scattercarpet"
           }
          ],
          "scattergeo": [
           {
            "marker": {
             "colorbar": {
              "outlinewidth": 0,
              "ticks": ""
             }
            },
            "type": "scattergeo"
           }
          ],
          "scattergl": [
           {
            "marker": {
             "colorbar": {
              "outlinewidth": 0,
              "ticks": ""
             }
            },
            "type": "scattergl"
           }
          ],
          "scattermapbox": [
           {
            "marker": {
             "colorbar": {
              "outlinewidth": 0,
              "ticks": ""
             }
            },
            "type": "scattermapbox"
           }
          ],
          "scatterpolar": [
           {
            "marker": {
             "colorbar": {
              "outlinewidth": 0,
              "ticks": ""
             }
            },
            "type": "scatterpolar"
           }
          ],
          "scatterpolargl": [
           {
            "marker": {
             "colorbar": {
              "outlinewidth": 0,
              "ticks": ""
             }
            },
            "type": "scatterpolargl"
           }
          ],
          "scatterternary": [
           {
            "marker": {
             "colorbar": {
              "outlinewidth": 0,
              "ticks": ""
             }
            },
            "type": "scatterternary"
           }
          ],
          "surface": [
           {
            "colorbar": {
             "outlinewidth": 0,
             "ticks": ""
            },
            "colorscale": [
             [
              0,
              "#0d0887"
             ],
             [
              0.1111111111111111,
              "#46039f"
             ],
             [
              0.2222222222222222,
              "#7201a8"
             ],
             [
              0.3333333333333333,
              "#9c179e"
             ],
             [
              0.4444444444444444,
              "#bd3786"
             ],
             [
              0.5555555555555556,
              "#d8576b"
             ],
             [
              0.6666666666666666,
              "#ed7953"
             ],
             [
              0.7777777777777778,
              "#fb9f3a"
             ],
             [
              0.8888888888888888,
              "#fdca26"
             ],
             [
              1,
              "#f0f921"
             ]
            ],
            "type": "surface"
           }
          ],
          "table": [
           {
            "cells": {
             "fill": {
              "color": "#EBF0F8"
             },
             "line": {
              "color": "white"
             }
            },
            "header": {
             "fill": {
              "color": "#C8D4E3"
             },
             "line": {
              "color": "white"
             }
            },
            "type": "table"
           }
          ]
         },
         "layout": {
          "annotationdefaults": {
           "arrowcolor": "#2a3f5f",
           "arrowhead": 0,
           "arrowwidth": 1
          },
          "autotypenumbers": "strict",
          "coloraxis": {
           "colorbar": {
            "outlinewidth": 0,
            "ticks": ""
           }
          },
          "colorscale": {
           "diverging": [
            [
             0,
             "#8e0152"
            ],
            [
             0.1,
             "#c51b7d"
            ],
            [
             0.2,
             "#de77ae"
            ],
            [
             0.3,
             "#f1b6da"
            ],
            [
             0.4,
             "#fde0ef"
            ],
            [
             0.5,
             "#f7f7f7"
            ],
            [
             0.6,
             "#e6f5d0"
            ],
            [
             0.7,
             "#b8e186"
            ],
            [
             0.8,
             "#7fbc41"
            ],
            [
             0.9,
             "#4d9221"
            ],
            [
             1,
             "#276419"
            ]
           ],
           "sequential": [
            [
             0,
             "#0d0887"
            ],
            [
             0.1111111111111111,
             "#46039f"
            ],
            [
             0.2222222222222222,
             "#7201a8"
            ],
            [
             0.3333333333333333,
             "#9c179e"
            ],
            [
             0.4444444444444444,
             "#bd3786"
            ],
            [
             0.5555555555555556,
             "#d8576b"
            ],
            [
             0.6666666666666666,
             "#ed7953"
            ],
            [
             0.7777777777777778,
             "#fb9f3a"
            ],
            [
             0.8888888888888888,
             "#fdca26"
            ],
            [
             1,
             "#f0f921"
            ]
           ],
           "sequentialminus": [
            [
             0,
             "#0d0887"
            ],
            [
             0.1111111111111111,
             "#46039f"
            ],
            [
             0.2222222222222222,
             "#7201a8"
            ],
            [
             0.3333333333333333,
             "#9c179e"
            ],
            [
             0.4444444444444444,
             "#bd3786"
            ],
            [
             0.5555555555555556,
             "#d8576b"
            ],
            [
             0.6666666666666666,
             "#ed7953"
            ],
            [
             0.7777777777777778,
             "#fb9f3a"
            ],
            [
             0.8888888888888888,
             "#fdca26"
            ],
            [
             1,
             "#f0f921"
            ]
           ]
          },
          "colorway": [
           "#636efa",
           "#EF553B",
           "#00cc96",
           "#ab63fa",
           "#FFA15A",
           "#19d3f3",
           "#FF6692",
           "#B6E880",
           "#FF97FF",
           "#FECB52"
          ],
          "font": {
           "color": "#2a3f5f"
          },
          "geo": {
           "bgcolor": "white",
           "lakecolor": "white",
           "landcolor": "#E5ECF6",
           "showlakes": true,
           "showland": true,
           "subunitcolor": "white"
          },
          "hoverlabel": {
           "align": "left"
          },
          "hovermode": "closest",
          "mapbox": {
           "style": "light"
          },
          "paper_bgcolor": "white",
          "plot_bgcolor": "#E5ECF6",
          "polar": {
           "angularaxis": {
            "gridcolor": "white",
            "linecolor": "white",
            "ticks": ""
           },
           "bgcolor": "#E5ECF6",
           "radialaxis": {
            "gridcolor": "white",
            "linecolor": "white",
            "ticks": ""
           }
          },
          "scene": {
           "xaxis": {
            "backgroundcolor": "#E5ECF6",
            "gridcolor": "white",
            "gridwidth": 2,
            "linecolor": "white",
            "showbackground": true,
            "ticks": "",
            "zerolinecolor": "white"
           },
           "yaxis": {
            "backgroundcolor": "#E5ECF6",
            "gridcolor": "white",
            "gridwidth": 2,
            "linecolor": "white",
            "showbackground": true,
            "ticks": "",
            "zerolinecolor": "white"
           },
           "zaxis": {
            "backgroundcolor": "#E5ECF6",
            "gridcolor": "white",
            "gridwidth": 2,
            "linecolor": "white",
            "showbackground": true,
            "ticks": "",
            "zerolinecolor": "white"
           }
          },
          "shapedefaults": {
           "line": {
            "color": "#2a3f5f"
           }
          },
          "ternary": {
           "aaxis": {
            "gridcolor": "white",
            "linecolor": "white",
            "ticks": ""
           },
           "baxis": {
            "gridcolor": "white",
            "linecolor": "white",
            "ticks": ""
           },
           "bgcolor": "#E5ECF6",
           "caxis": {
            "gridcolor": "white",
            "linecolor": "white",
            "ticks": ""
           }
          },
          "title": {
           "x": 0.05
          },
          "xaxis": {
           "automargin": true,
           "gridcolor": "white",
           "linecolor": "white",
           "ticks": "",
           "title": {
            "standoff": 15
           },
           "zerolinecolor": "white",
           "zerolinewidth": 2
          },
          "yaxis": {
           "automargin": true,
           "gridcolor": "white",
           "linecolor": "white",
           "ticks": "",
           "title": {
            "standoff": 15
           },
           "zerolinecolor": "white",
           "zerolinewidth": 2
          }
         }
        },
        "title": {
         "text": "Coffee Sales Distribution by Payment Method"
        },
        "xaxis": {
         "anchor": "y",
         "domain": [
          0,
          1
         ],
         "title": {
          "text": "Coffee Type"
         }
        },
        "yaxis": {
         "anchor": "x",
         "domain": [
          0,
          1
         ],
         "title": {
          "text": "count"
         }
        }
       }
      }
     },
     "metadata": {},
     "output_type": "display_data"
    },
    {
     "data": {
      "application/vnd.plotly.v1+json": {
       "config": {
        "plotlyServerURL": "https://plot.ly"
       },
       "data": [
        {
         "alignmentgroup": "True",
         "customdata": [
          [
           27.31,
           155
          ],
          [
           31.95,
           253
          ],
          [
           37.23,
           181
          ],
          [
           36.74,
           31
          ],
          [
           27.61,
           94
          ],
          [
           22.2,
           44
          ],
          [
           37.35,
           68
          ],
          [
           36.78,
           218
          ]
         ],
         "hovertemplate": "cash_type=card<br>coffee_name=%{x}<br>Total_Revenue=%{y}<br>Avg_Price=%{customdata[0]}<br>Sales_Count=%{customdata[1]}<extra></extra>",
         "legendgroup": "card",
         "marker": {
          "color": "#636efa",
          "pattern": {
           "shape": ""
          }
         },
         "name": "card",
         "offsetgroup": "card",
         "orientation": "v",
         "showlegend": true,
         "textposition": "auto",
         "type": "bar",
         "x": [
          "Americano",
          "Americano with Milk",
          "Cappuccino",
          "Cocoa",
          "Cortado",
          "Espresso",
          "Hot Chocolate",
          "Latte"
         ],
         "xaxis": "x",
         "y": [
          4232.54,
          8083.94,
          6738.14,
          1138.94,
          2595.08,
          976.62,
          2539.48,
          8018.14
         ],
         "yaxis": "y"
        },
        {
         "alignmentgroup": "True",
         "customdata": [
          [
           29.43,
           14
          ],
          [
           34.53,
           15
          ],
          [
           39.67,
           15
          ],
          [
           39.25,
           4
          ],
          [
           30,
           5
          ],
          [
           24.8,
           5
          ],
          [
           39.83,
           6
          ],
          [
           39.64,
           25
          ]
         ],
         "hovertemplate": "cash_type=cash<br>coffee_name=%{x}<br>Total_Revenue=%{y}<br>Avg_Price=%{customdata[0]}<br>Sales_Count=%{customdata[1]}<extra></extra>",
         "legendgroup": "cash",
         "marker": {
          "color": "#EF553B",
          "pattern": {
           "shape": ""
          }
         },
         "name": "cash",
         "offsetgroup": "cash",
         "orientation": "v",
         "showlegend": true,
         "textposition": "auto",
         "type": "bar",
         "x": [
          "Americano",
          "Americano with Milk",
          "Cappuccino",
          "Cocoa",
          "Cortado",
          "Espresso",
          "Hot Chocolate",
          "Latte"
         ],
         "xaxis": "x",
         "y": [
          412,
          518,
          595,
          157,
          150,
          124,
          239,
          991
         ],
         "yaxis": "y"
        }
       ],
       "layout": {
        "barmode": "relative",
        "legend": {
         "title": {
          "text": "cash_type"
         },
         "tracegroupgap": 0
        },
        "template": {
         "data": {
          "bar": [
           {
            "error_x": {
             "color": "#2a3f5f"
            },
            "error_y": {
             "color": "#2a3f5f"
            },
            "marker": {
             "line": {
              "color": "#E5ECF6",
              "width": 0.5
             },
             "pattern": {
              "fillmode": "overlay",
              "size": 10,
              "solidity": 0.2
             }
            },
            "type": "bar"
           }
          ],
          "barpolar": [
           {
            "marker": {
             "line": {
              "color": "#E5ECF6",
              "width": 0.5
             },
             "pattern": {
              "fillmode": "overlay",
              "size": 10,
              "solidity": 0.2
             }
            },
            "type": "barpolar"
           }
          ],
          "carpet": [
           {
            "aaxis": {
             "endlinecolor": "#2a3f5f",
             "gridcolor": "white",
             "linecolor": "white",
             "minorgridcolor": "white",
             "startlinecolor": "#2a3f5f"
            },
            "baxis": {
             "endlinecolor": "#2a3f5f",
             "gridcolor": "white",
             "linecolor": "white",
             "minorgridcolor": "white",
             "startlinecolor": "#2a3f5f"
            },
            "type": "carpet"
           }
          ],
          "choropleth": [
           {
            "colorbar": {
             "outlinewidth": 0,
             "ticks": ""
            },
            "type": "choropleth"
           }
          ],
          "contour": [
           {
            "colorbar": {
             "outlinewidth": 0,
             "ticks": ""
            },
            "colorscale": [
             [
              0,
              "#0d0887"
             ],
             [
              0.1111111111111111,
              "#46039f"
             ],
             [
              0.2222222222222222,
              "#7201a8"
             ],
             [
              0.3333333333333333,
              "#9c179e"
             ],
             [
              0.4444444444444444,
              "#bd3786"
             ],
             [
              0.5555555555555556,
              "#d8576b"
             ],
             [
              0.6666666666666666,
              "#ed7953"
             ],
             [
              0.7777777777777778,
              "#fb9f3a"
             ],
             [
              0.8888888888888888,
              "#fdca26"
             ],
             [
              1,
              "#f0f921"
             ]
            ],
            "type": "contour"
           }
          ],
          "contourcarpet": [
           {
            "colorbar": {
             "outlinewidth": 0,
             "ticks": ""
            },
            "type": "contourcarpet"
           }
          ],
          "heatmap": [
           {
            "colorbar": {
             "outlinewidth": 0,
             "ticks": ""
            },
            "colorscale": [
             [
              0,
              "#0d0887"
             ],
             [
              0.1111111111111111,
              "#46039f"
             ],
             [
              0.2222222222222222,
              "#7201a8"
             ],
             [
              0.3333333333333333,
              "#9c179e"
             ],
             [
              0.4444444444444444,
              "#bd3786"
             ],
             [
              0.5555555555555556,
              "#d8576b"
             ],
             [
              0.6666666666666666,
              "#ed7953"
             ],
             [
              0.7777777777777778,
              "#fb9f3a"
             ],
             [
              0.8888888888888888,
              "#fdca26"
             ],
             [
              1,
              "#f0f921"
             ]
            ],
            "type": "heatmap"
           }
          ],
          "heatmapgl": [
           {
            "colorbar": {
             "outlinewidth": 0,
             "ticks": ""
            },
            "colorscale": [
             [
              0,
              "#0d0887"
             ],
             [
              0.1111111111111111,
              "#46039f"
             ],
             [
              0.2222222222222222,
              "#7201a8"
             ],
             [
              0.3333333333333333,
              "#9c179e"
             ],
             [
              0.4444444444444444,
              "#bd3786"
             ],
             [
              0.5555555555555556,
              "#d8576b"
             ],
             [
              0.6666666666666666,
              "#ed7953"
             ],
             [
              0.7777777777777778,
              "#fb9f3a"
             ],
             [
              0.8888888888888888,
              "#fdca26"
             ],
             [
              1,
              "#f0f921"
             ]
            ],
            "type": "heatmapgl"
           }
          ],
          "histogram": [
           {
            "marker": {
             "pattern": {
              "fillmode": "overlay",
              "size": 10,
              "solidity": 0.2
             }
            },
            "type": "histogram"
           }
          ],
          "histogram2d": [
           {
            "colorbar": {
             "outlinewidth": 0,
             "ticks": ""
            },
            "colorscale": [
             [
              0,
              "#0d0887"
             ],
             [
              0.1111111111111111,
              "#46039f"
             ],
             [
              0.2222222222222222,
              "#7201a8"
             ],
             [
              0.3333333333333333,
              "#9c179e"
             ],
             [
              0.4444444444444444,
              "#bd3786"
             ],
             [
              0.5555555555555556,
              "#d8576b"
             ],
             [
              0.6666666666666666,
              "#ed7953"
             ],
             [
              0.7777777777777778,
              "#fb9f3a"
             ],
             [
              0.8888888888888888,
              "#fdca26"
             ],
             [
              1,
              "#f0f921"
             ]
            ],
            "type": "histogram2d"
           }
          ],
          "histogram2dcontour": [
           {
            "colorbar": {
             "outlinewidth": 0,
             "ticks": ""
            },
            "colorscale": [
             [
              0,
              "#0d0887"
             ],
             [
              0.1111111111111111,
              "#46039f"
             ],
             [
              0.2222222222222222,
              "#7201a8"
             ],
             [
              0.3333333333333333,
              "#9c179e"
             ],
             [
              0.4444444444444444,
              "#bd3786"
             ],
             [
              0.5555555555555556,
              "#d8576b"
             ],
             [
              0.6666666666666666,
              "#ed7953"
             ],
             [
              0.7777777777777778,
              "#fb9f3a"
             ],
             [
              0.8888888888888888,
              "#fdca26"
             ],
             [
              1,
              "#f0f921"
             ]
            ],
            "type": "histogram2dcontour"
           }
          ],
          "mesh3d": [
           {
            "colorbar": {
             "outlinewidth": 0,
             "ticks": ""
            },
            "type": "mesh3d"
           }
          ],
          "parcoords": [
           {
            "line": {
             "colorbar": {
              "outlinewidth": 0,
              "ticks": ""
             }
            },
            "type": "parcoords"
           }
          ],
          "pie": [
           {
            "automargin": true,
            "type": "pie"
           }
          ],
          "scatter": [
           {
            "fillpattern": {
             "fillmode": "overlay",
             "size": 10,
             "solidity": 0.2
            },
            "type": "scatter"
           }
          ],
          "scatter3d": [
           {
            "line": {
             "colorbar": {
              "outlinewidth": 0,
              "ticks": ""
             }
            },
            "marker": {
             "colorbar": {
              "outlinewidth": 0,
              "ticks": ""
             }
            },
            "type": "scatter3d"
           }
          ],
          "scattercarpet": [
           {
            "marker": {
             "colorbar": {
              "outlinewidth": 0,
              "ticks": ""
             }
            },
            "type": "scattercarpet"
           }
          ],
          "scattergeo": [
           {
            "marker": {
             "colorbar": {
              "outlinewidth": 0,
              "ticks": ""
             }
            },
            "type": "scattergeo"
           }
          ],
          "scattergl": [
           {
            "marker": {
             "colorbar": {
              "outlinewidth": 0,
              "ticks": ""
             }
            },
            "type": "scattergl"
           }
          ],
          "scattermapbox": [
           {
            "marker": {
             "colorbar": {
              "outlinewidth": 0,
              "ticks": ""
             }
            },
            "type": "scattermapbox"
           }
          ],
          "scatterpolar": [
           {
            "marker": {
             "colorbar": {
              "outlinewidth": 0,
              "ticks": ""
             }
            },
            "type": "scatterpolar"
           }
          ],
          "scatterpolargl": [
           {
            "marker": {
             "colorbar": {
              "outlinewidth": 0,
              "ticks": ""
             }
            },
            "type": "scatterpolargl"
           }
          ],
          "scatterternary": [
           {
            "marker": {
             "colorbar": {
              "outlinewidth": 0,
              "ticks": ""
             }
            },
            "type": "scatterternary"
           }
          ],
          "surface": [
           {
            "colorbar": {
             "outlinewidth": 0,
             "ticks": ""
            },
            "colorscale": [
             [
              0,
              "#0d0887"
             ],
             [
              0.1111111111111111,
              "#46039f"
             ],
             [
              0.2222222222222222,
              "#7201a8"
             ],
             [
              0.3333333333333333,
              "#9c179e"
             ],
             [
              0.4444444444444444,
              "#bd3786"
             ],
             [
              0.5555555555555556,
              "#d8576b"
             ],
             [
              0.6666666666666666,
              "#ed7953"
             ],
             [
              0.7777777777777778,
              "#fb9f3a"
             ],
             [
              0.8888888888888888,
              "#fdca26"
             ],
             [
              1,
              "#f0f921"
             ]
            ],
            "type": "surface"
           }
          ],
          "table": [
           {
            "cells": {
             "fill": {
              "color": "#EBF0F8"
             },
             "line": {
              "color": "white"
             }
            },
            "header": {
             "fill": {
              "color": "#C8D4E3"
             },
             "line": {
              "color": "white"
             }
            },
            "type": "table"
           }
          ]
         },
         "layout": {
          "annotationdefaults": {
           "arrowcolor": "#2a3f5f",
           "arrowhead": 0,
           "arrowwidth": 1
          },
          "autotypenumbers": "strict",
          "coloraxis": {
           "colorbar": {
            "outlinewidth": 0,
            "ticks": ""
           }
          },
          "colorscale": {
           "diverging": [
            [
             0,
             "#8e0152"
            ],
            [
             0.1,
             "#c51b7d"
            ],
            [
             0.2,
             "#de77ae"
            ],
            [
             0.3,
             "#f1b6da"
            ],
            [
             0.4,
             "#fde0ef"
            ],
            [
             0.5,
             "#f7f7f7"
            ],
            [
             0.6,
             "#e6f5d0"
            ],
            [
             0.7,
             "#b8e186"
            ],
            [
             0.8,
             "#7fbc41"
            ],
            [
             0.9,
             "#4d9221"
            ],
            [
             1,
             "#276419"
            ]
           ],
           "sequential": [
            [
             0,
             "#0d0887"
            ],
            [
             0.1111111111111111,
             "#46039f"
            ],
            [
             0.2222222222222222,
             "#7201a8"
            ],
            [
             0.3333333333333333,
             "#9c179e"
            ],
            [
             0.4444444444444444,
             "#bd3786"
            ],
            [
             0.5555555555555556,
             "#d8576b"
            ],
            [
             0.6666666666666666,
             "#ed7953"
            ],
            [
             0.7777777777777778,
             "#fb9f3a"
            ],
            [
             0.8888888888888888,
             "#fdca26"
            ],
            [
             1,
             "#f0f921"
            ]
           ],
           "sequentialminus": [
            [
             0,
             "#0d0887"
            ],
            [
             0.1111111111111111,
             "#46039f"
            ],
            [
             0.2222222222222222,
             "#7201a8"
            ],
            [
             0.3333333333333333,
             "#9c179e"
            ],
            [
             0.4444444444444444,
             "#bd3786"
            ],
            [
             0.5555555555555556,
             "#d8576b"
            ],
            [
             0.6666666666666666,
             "#ed7953"
            ],
            [
             0.7777777777777778,
             "#fb9f3a"
            ],
            [
             0.8888888888888888,
             "#fdca26"
            ],
            [
             1,
             "#f0f921"
            ]
           ]
          },
          "colorway": [
           "#636efa",
           "#EF553B",
           "#00cc96",
           "#ab63fa",
           "#FFA15A",
           "#19d3f3",
           "#FF6692",
           "#B6E880",
           "#FF97FF",
           "#FECB52"
          ],
          "font": {
           "color": "#2a3f5f"
          },
          "geo": {
           "bgcolor": "white",
           "lakecolor": "white",
           "landcolor": "#E5ECF6",
           "showlakes": true,
           "showland": true,
           "subunitcolor": "white"
          },
          "hoverlabel": {
           "align": "left"
          },
          "hovermode": "closest",
          "mapbox": {
           "style": "light"
          },
          "paper_bgcolor": "white",
          "plot_bgcolor": "#E5ECF6",
          "polar": {
           "angularaxis": {
            "gridcolor": "white",
            "linecolor": "white",
            "ticks": ""
           },
           "bgcolor": "#E5ECF6",
           "radialaxis": {
            "gridcolor": "white",
            "linecolor": "white",
            "ticks": ""
           }
          },
          "scene": {
           "xaxis": {
            "backgroundcolor": "#E5ECF6",
            "gridcolor": "white",
            "gridwidth": 2,
            "linecolor": "white",
            "showbackground": true,
            "ticks": "",
            "zerolinecolor": "white"
           },
           "yaxis": {
            "backgroundcolor": "#E5ECF6",
            "gridcolor": "white",
            "gridwidth": 2,
            "linecolor": "white",
            "showbackground": true,
            "ticks": "",
            "zerolinecolor": "white"
           },
           "zaxis": {
            "backgroundcolor": "#E5ECF6",
            "gridcolor": "white",
            "gridwidth": 2,
            "linecolor": "white",
            "showbackground": true,
            "ticks": "",
            "zerolinecolor": "white"
           }
          },
          "shapedefaults": {
           "line": {
            "color": "#2a3f5f"
           }
          },
          "ternary": {
           "aaxis": {
            "gridcolor": "white",
            "linecolor": "white",
            "ticks": ""
           },
           "baxis": {
            "gridcolor": "white",
            "linecolor": "white",
            "ticks": ""
           },
           "bgcolor": "#E5ECF6",
           "caxis": {
            "gridcolor": "white",
            "linecolor": "white",
            "ticks": ""
           }
          },
          "title": {
           "x": 0.05
          },
          "xaxis": {
           "automargin": true,
           "gridcolor": "white",
           "linecolor": "white",
           "ticks": "",
           "title": {
            "standoff": 15
           },
           "zerolinecolor": "white",
           "zerolinewidth": 2
          },
          "yaxis": {
           "automargin": true,
           "gridcolor": "white",
           "linecolor": "white",
           "ticks": "",
           "title": {
            "standoff": 15
           },
           "zerolinecolor": "white",
           "zerolinewidth": 2
          }
         }
        },
        "title": {
         "text": "Total Revenue by Coffee Type and Payment Method"
        },
        "xaxis": {
         "anchor": "y",
         "domain": [
          0,
          1
         ],
         "title": {
          "text": "coffee_name"
         }
        },
        "yaxis": {
         "anchor": "x",
         "domain": [
          0,
          1
         ],
         "title": {
          "text": "Total_Revenue"
         }
        }
       }
      }
     },
     "metadata": {},
     "output_type": "display_data"
    },
    {
     "name": "stdout",
     "output_type": "stream",
     "text": [
      "💰 Revenue Analysis:\n"
     ]
    },
    {
     "data": {
      "text/html": [
       "<div>\n",
       "<style scoped>\n",
       "    .dataframe tbody tr th:only-of-type {\n",
       "        vertical-align: middle;\n",
       "    }\n",
       "\n",
       "    .dataframe tbody tr th {\n",
       "        vertical-align: top;\n",
       "    }\n",
       "\n",
       "    .dataframe thead th {\n",
       "        text-align: right;\n",
       "    }\n",
       "</style>\n",
       "<table border=\"1\" class=\"dataframe\">\n",
       "  <thead>\n",
       "    <tr style=\"text-align: right;\">\n",
       "      <th></th>\n",
       "      <th>coffee_name</th>\n",
       "      <th>cash_type</th>\n",
       "      <th>Total_Revenue</th>\n",
       "      <th>Avg_Price</th>\n",
       "      <th>Sales_Count</th>\n",
       "    </tr>\n",
       "  </thead>\n",
       "  <tbody>\n",
       "    <tr>\n",
       "      <th>0</th>\n",
       "      <td>Americano</td>\n",
       "      <td>card</td>\n",
       "      <td>4232.54</td>\n",
       "      <td>27.31</td>\n",
       "      <td>155</td>\n",
       "    </tr>\n",
       "    <tr>\n",
       "      <th>1</th>\n",
       "      <td>Americano</td>\n",
       "      <td>cash</td>\n",
       "      <td>412.00</td>\n",
       "      <td>29.43</td>\n",
       "      <td>14</td>\n",
       "    </tr>\n",
       "    <tr>\n",
       "      <th>2</th>\n",
       "      <td>Americano with Milk</td>\n",
       "      <td>card</td>\n",
       "      <td>8083.94</td>\n",
       "      <td>31.95</td>\n",
       "      <td>253</td>\n",
       "    </tr>\n",
       "    <tr>\n",
       "      <th>3</th>\n",
       "      <td>Americano with Milk</td>\n",
       "      <td>cash</td>\n",
       "      <td>518.00</td>\n",
       "      <td>34.53</td>\n",
       "      <td>15</td>\n",
       "    </tr>\n",
       "    <tr>\n",
       "      <th>4</th>\n",
       "      <td>Cappuccino</td>\n",
       "      <td>card</td>\n",
       "      <td>6738.14</td>\n",
       "      <td>37.23</td>\n",
       "      <td>181</td>\n",
       "    </tr>\n",
       "    <tr>\n",
       "      <th>5</th>\n",
       "      <td>Cappuccino</td>\n",
       "      <td>cash</td>\n",
       "      <td>595.00</td>\n",
       "      <td>39.67</td>\n",
       "      <td>15</td>\n",
       "    </tr>\n",
       "    <tr>\n",
       "      <th>6</th>\n",
       "      <td>Cocoa</td>\n",
       "      <td>card</td>\n",
       "      <td>1138.94</td>\n",
       "      <td>36.74</td>\n",
       "      <td>31</td>\n",
       "    </tr>\n",
       "    <tr>\n",
       "      <th>7</th>\n",
       "      <td>Cocoa</td>\n",
       "      <td>cash</td>\n",
       "      <td>157.00</td>\n",
       "      <td>39.25</td>\n",
       "      <td>4</td>\n",
       "    </tr>\n",
       "    <tr>\n",
       "      <th>8</th>\n",
       "      <td>Cortado</td>\n",
       "      <td>card</td>\n",
       "      <td>2595.08</td>\n",
       "      <td>27.61</td>\n",
       "      <td>94</td>\n",
       "    </tr>\n",
       "    <tr>\n",
       "      <th>9</th>\n",
       "      <td>Cortado</td>\n",
       "      <td>cash</td>\n",
       "      <td>150.00</td>\n",
       "      <td>30.00</td>\n",
       "      <td>5</td>\n",
       "    </tr>\n",
       "    <tr>\n",
       "      <th>10</th>\n",
       "      <td>Espresso</td>\n",
       "      <td>card</td>\n",
       "      <td>976.62</td>\n",
       "      <td>22.20</td>\n",
       "      <td>44</td>\n",
       "    </tr>\n",
       "    <tr>\n",
       "      <th>11</th>\n",
       "      <td>Espresso</td>\n",
       "      <td>cash</td>\n",
       "      <td>124.00</td>\n",
       "      <td>24.80</td>\n",
       "      <td>5</td>\n",
       "    </tr>\n",
       "    <tr>\n",
       "      <th>12</th>\n",
       "      <td>Hot Chocolate</td>\n",
       "      <td>card</td>\n",
       "      <td>2539.48</td>\n",
       "      <td>37.35</td>\n",
       "      <td>68</td>\n",
       "    </tr>\n",
       "    <tr>\n",
       "      <th>13</th>\n",
       "      <td>Hot Chocolate</td>\n",
       "      <td>cash</td>\n",
       "      <td>239.00</td>\n",
       "      <td>39.83</td>\n",
       "      <td>6</td>\n",
       "    </tr>\n",
       "    <tr>\n",
       "      <th>14</th>\n",
       "      <td>Latte</td>\n",
       "      <td>card</td>\n",
       "      <td>8018.14</td>\n",
       "      <td>36.78</td>\n",
       "      <td>218</td>\n",
       "    </tr>\n",
       "    <tr>\n",
       "      <th>15</th>\n",
       "      <td>Latte</td>\n",
       "      <td>cash</td>\n",
       "      <td>991.00</td>\n",
       "      <td>39.64</td>\n",
       "      <td>25</td>\n",
       "    </tr>\n",
       "  </tbody>\n",
       "</table>\n",
       "</div>"
      ],
      "text/plain": [
       "            coffee_name cash_type  Total_Revenue  Avg_Price  Sales_Count\n",
       "0             Americano      card        4232.54      27.31          155\n",
       "1             Americano      cash         412.00      29.43           14\n",
       "2   Americano with Milk      card        8083.94      31.95          253\n",
       "3   Americano with Milk      cash         518.00      34.53           15\n",
       "4            Cappuccino      card        6738.14      37.23          181\n",
       "5            Cappuccino      cash         595.00      39.67           15\n",
       "6                 Cocoa      card        1138.94      36.74           31\n",
       "7                 Cocoa      cash         157.00      39.25            4\n",
       "8               Cortado      card        2595.08      27.61           94\n",
       "9               Cortado      cash         150.00      30.00            5\n",
       "10             Espresso      card         976.62      22.20           44\n",
       "11             Espresso      cash         124.00      24.80            5\n",
       "12        Hot Chocolate      card        2539.48      37.35           68\n",
       "13        Hot Chocolate      cash         239.00      39.83            6\n",
       "14                Latte      card        8018.14      36.78          218\n",
       "15                Latte      cash         991.00      39.64           25"
      ]
     },
     "metadata": {},
     "output_type": "display_data"
    }
   ],
   "source": [
    "# Interactive sales distribution\n",
    "fig = px.histogram(df_processed, x='coffee_name', color='cash_type',\n",
    "                   title='Coffee Sales Distribution by Payment Method',\n",
    "                   labels={'count': 'Number of Sales', 'coffee_name': 'Coffee Type'})\n",
    "fig.update_layout(height=500)\n",
    "fig.show()\n",
    "\n",
    "# Revenue analysis with interactive bar chart\n",
    "revenue_analysis = df_processed.groupby(['coffee_name', 'cash_type'])['money'].agg(['sum', 'mean', 'count']).round(2)\n",
    "revenue_analysis.columns = ['Total_Revenue', 'Avg_Price', 'Sales_Count']\n",
    "revenue_analysis = revenue_analysis.reset_index()\n",
    "\n",
    "fig2 = px.bar(revenue_analysis, x='coffee_name', y='Total_Revenue', color='cash_type',\n",
    "              title='Total Revenue by Coffee Type and Payment Method',\n",
    "              hover_data=['Avg_Price', 'Sales_Count'])\n",
    "fig2.show()\n",
    "\n",
    "print(\"💰 Revenue Analysis:\")\n",
    "display(revenue_analysis)"
   ]
  },
  {
   "cell_type": "code",
   "execution_count": 5,
   "metadata": {},
   "outputs": [
    {
     "data": {
      "application/vnd.plotly.v1+json": {
       "config": {
        "plotlyServerURL": "https://plot.ly"
       },
       "data": [
        {
         "mode": "lines+markers",
         "name": "Revenue",
         "type": "scatter",
         "x": [
          7,
          8,
          9,
          10,
          11,
          12,
          13,
          14,
          15,
          16,
          17,
          18,
          19,
          20,
          21,
          22
         ],
         "xaxis": "x",
         "y": [
          392.8,
          1380.38,
          1515.48,
          4553.18,
          3258.64,
          2850.6,
          2511.6,
          2484.92,
          2158.76,
          2525.36,
          2639.08,
          2558.04,
          3388.32,
          1819.92,
          2343.86,
          1127.94
         ],
         "yaxis": "y"
        },
        {
         "name": "Transactions",
         "type": "bar",
         "x": [
          7,
          8,
          9,
          10,
          11,
          12,
          13,
          14,
          15,
          16,
          17,
          18,
          19,
          20,
          21,
          22
         ],
         "xaxis": "x2",
         "y": [
          13,
          44,
          50,
          133,
          103,
          87,
          78,
          76,
          65,
          77,
          77,
          75,
          96,
          54,
          70,
          35
         ],
         "yaxis": "y2"
        },
        {
         "mode": "lines",
         "name": "Daily Revenue",
         "type": "scatter",
         "x": [
          "2024-03-01T00:00:00",
          "2024-03-02T00:00:00",
          "2024-03-03T00:00:00",
          "2024-03-04T00:00:00",
          "2024-03-05T00:00:00",
          "2024-03-06T00:00:00",
          "2024-03-07T00:00:00",
          "2024-03-08T00:00:00",
          "2024-03-09T00:00:00",
          "2024-03-10T00:00:00",
          "2024-03-11T00:00:00",
          "2024-03-12T00:00:00",
          "2024-03-13T00:00:00",
          "2024-03-14T00:00:00",
          "2024-03-15T00:00:00",
          "2024-03-16T00:00:00",
          "2024-03-17T00:00:00",
          "2024-03-18T00:00:00",
          "2024-03-19T00:00:00",
          "2024-03-20T00:00:00",
          "2024-03-21T00:00:00",
          "2024-03-22T00:00:00",
          "2024-03-23T00:00:00",
          "2024-03-24T00:00:00",
          "2024-03-25T00:00:00",
          "2024-03-26T00:00:00",
          "2024-03-27T00:00:00",
          "2024-03-28T00:00:00",
          "2024-03-29T00:00:00",
          "2024-03-30T00:00:00",
          "2024-03-31T00:00:00",
          "2024-04-01T00:00:00",
          "2024-04-02T00:00:00",
          "2024-04-03T00:00:00",
          "2024-04-04T00:00:00",
          "2024-04-05T00:00:00",
          "2024-04-06T00:00:00",
          "2024-04-07T00:00:00",
          "2024-04-08T00:00:00",
          "2024-04-09T00:00:00",
          "2024-04-10T00:00:00",
          "2024-04-11T00:00:00",
          "2024-04-12T00:00:00",
          "2024-04-13T00:00:00",
          "2024-04-14T00:00:00",
          "2024-04-15T00:00:00",
          "2024-04-16T00:00:00",
          "2024-04-17T00:00:00",
          "2024-04-18T00:00:00",
          "2024-04-19T00:00:00",
          "2024-04-20T00:00:00",
          "2024-04-21T00:00:00",
          "2024-04-22T00:00:00",
          "2024-04-23T00:00:00",
          "2024-04-24T00:00:00",
          "2024-04-25T00:00:00",
          "2024-04-26T00:00:00",
          "2024-04-27T00:00:00",
          "2024-04-28T00:00:00",
          "2024-04-29T00:00:00",
          "2024-04-30T00:00:00",
          "2024-05-02T00:00:00",
          "2024-05-03T00:00:00",
          "2024-05-06T00:00:00",
          "2024-05-07T00:00:00",
          "2024-05-08T00:00:00",
          "2024-05-09T00:00:00",
          "2024-05-10T00:00:00",
          "2024-05-11T00:00:00",
          "2024-05-12T00:00:00",
          "2024-05-13T00:00:00",
          "2024-05-14T00:00:00",
          "2024-05-15T00:00:00",
          "2024-05-16T00:00:00",
          "2024-05-17T00:00:00",
          "2024-05-18T00:00:00",
          "2024-05-19T00:00:00",
          "2024-05-20T00:00:00",
          "2024-05-21T00:00:00",
          "2024-05-22T00:00:00",
          "2024-05-23T00:00:00",
          "2024-05-24T00:00:00",
          "2024-05-25T00:00:00",
          "2024-05-26T00:00:00",
          "2024-05-27T00:00:00",
          "2024-05-28T00:00:00",
          "2024-05-29T00:00:00",
          "2024-05-30T00:00:00",
          "2024-05-31T00:00:00",
          "2024-06-01T00:00:00",
          "2024-06-02T00:00:00",
          "2024-06-03T00:00:00",
          "2024-06-04T00:00:00",
          "2024-06-05T00:00:00",
          "2024-06-06T00:00:00",
          "2024-06-07T00:00:00",
          "2024-06-08T00:00:00",
          "2024-06-09T00:00:00",
          "2024-06-10T00:00:00",
          "2024-06-11T00:00:00",
          "2024-06-12T00:00:00",
          "2024-06-13T00:00:00",
          "2024-06-14T00:00:00",
          "2024-06-15T00:00:00",
          "2024-06-16T00:00:00",
          "2024-06-17T00:00:00",
          "2024-06-18T00:00:00",
          "2024-06-19T00:00:00",
          "2024-06-20T00:00:00",
          "2024-06-21T00:00:00",
          "2024-06-22T00:00:00",
          "2024-06-23T00:00:00",
          "2024-06-24T00:00:00",
          "2024-06-25T00:00:00",
          "2024-06-26T00:00:00",
          "2024-06-27T00:00:00",
          "2024-06-28T00:00:00",
          "2024-06-29T00:00:00",
          "2024-06-30T00:00:00",
          "2024-07-01T00:00:00",
          "2024-07-02T00:00:00",
          "2024-07-03T00:00:00",
          "2024-07-04T00:00:00",
          "2024-07-05T00:00:00",
          "2024-07-06T00:00:00",
          "2024-07-07T00:00:00",
          "2024-07-08T00:00:00",
          "2024-07-09T00:00:00",
          "2024-07-10T00:00:00",
          "2024-07-11T00:00:00",
          "2024-07-12T00:00:00",
          "2024-07-13T00:00:00",
          "2024-07-14T00:00:00",
          "2024-07-15T00:00:00",
          "2024-07-16T00:00:00",
          "2024-07-17T00:00:00",
          "2024-07-18T00:00:00",
          "2024-07-19T00:00:00",
          "2024-07-20T00:00:00",
          "2024-07-21T00:00:00",
          "2024-07-22T00:00:00",
          "2024-07-23T00:00:00",
          "2024-07-24T00:00:00",
          "2024-07-25T00:00:00",
          "2024-07-26T00:00:00",
          "2024-07-27T00:00:00",
          "2024-07-28T00:00:00",
          "2024-07-29T00:00:00",
          "2024-07-30T00:00:00",
          "2024-07-31T00:00:00"
         ],
         "xaxis": "x3",
         "y": [
          396.3,
          228.1,
          349.1,
          135.2,
          338.5,
          170.2,
          220.1,
          265.5,
          479.4,
          231.6,
          275.2,
          228.1,
          256.2,
          397.1,
          107.6,
          183.2,
          68.9,
          115.6,
          219.9,
          213.9,
          205.2,
          189.39999999999998,
          285.1,
          78.7,
          223.60000000000002,
          376.7,
          271.7,
          125.4,
          156.10000000000002,
          189.9,
          68.7,
          242.79999999999998,
          136.5,
          126.5,
          185,
          362.1,
          140.1,
          241.5,
          340.2,
          186.10000000000002,
          166.4,
          169,
          67.6,
          302.40000000000003,
          434.3,
          150.39999999999998,
          276.5,
          199.2,
          352.7,
          261.1,
          494.3,
          104.64,
          176.46,
          173.9,
          272.36,
          121.48,
          300.28,
          37.72,
          169,
          257.66,
          272.36,
          245.72,
          114.44,
          314.58,
          344.08,
          37.72,
          295.38,
          148.44,
          293.24,
          272.36,
          90.82,
          403.64,
          350.82,
          327.34,
          306.36,
          283.44,
          417.84000000000003,
          559.02,
          314.9,
          370.82,
          575.4,
          210.14000000000001,
          254.92000000000002,
          526.6,
          365.92,
          372.1,
          396.6,
          370.82,
          499.96,
          386.8,
          212.8,
          251.7,
          474.18,
          310.08,
          385.52,
          149.4,
          136.18,
          436.46,
          226.32,
          211.62,
          221.42,
          379.14,
          126.38,
          262.56,
          408.54,
          323.3,
          234.64,
          380.62,
          221.42,
          403.64,
          169,
          178.8,
          221.42,
          141.07999999999998,
          196.92,
          131.28,
          159.2,
          287.06,
          131.28,
          98.46,
          192.02,
          310.08,
          60.74,
          303.7,
          164.1,
          346.32,
          139.6,
          144.5,
          83.76,
          116.58,
          154.3,
          65.64,
          172.42000000000002,
          32.82,
          60.74,
          27.92,
          312.02,
          242.96,
          200.33999999999997,
          121.48,
          106.78,
          339.94,
          330.14,
          269.4,
          461.42,
          372.76,
          78.86,
          321.82,
          650.48,
          633.84
         ],
         "yaxis": "y3"
        },
        {
         "name": "Avg Daily Revenue",
         "type": "bar",
         "x": [
          "Monday",
          "Tuesday",
          "Wednesday",
          "Thursday",
          "Friday",
          "Saturday",
          "Sunday"
         ],
         "xaxis": "x4",
         "y": [
          32.9117880794702,
          32.93232432432433,
          32.2860606060606,
          33.33378048780488,
          33.04490797546012,
          33.871818181818185,
          33.44503311258278
         ],
         "yaxis": "y4"
        }
       ],
       "layout": {
        "annotations": [
         {
          "font": {
           "size": 16
          },
          "showarrow": false,
          "text": "Hourly Revenue",
          "x": 0.225,
          "xanchor": "center",
          "xref": "paper",
          "y": 1,
          "yanchor": "bottom",
          "yref": "paper"
         },
         {
          "font": {
           "size": 16
          },
          "showarrow": false,
          "text": "Hourly Transaction Count",
          "x": 0.775,
          "xanchor": "center",
          "xref": "paper",
          "y": 1,
          "yanchor": "bottom",
          "yref": "paper"
         },
         {
          "font": {
           "size": 16
          },
          "showarrow": false,
          "text": "Daily Revenue Trend",
          "x": 0.225,
          "xanchor": "center",
          "xref": "paper",
          "y": 0.375,
          "yanchor": "bottom",
          "yref": "paper"
         },
         {
          "font": {
           "size": 16
          },
          "showarrow": false,
          "text": "Weekly Pattern",
          "x": 0.775,
          "xanchor": "center",
          "xref": "paper",
          "y": 0.375,
          "yanchor": "bottom",
          "yref": "paper"
         }
        ],
        "height": 800,
        "showlegend": false,
        "template": {
         "data": {
          "bar": [
           {
            "error_x": {
             "color": "#2a3f5f"
            },
            "error_y": {
             "color": "#2a3f5f"
            },
            "marker": {
             "line": {
              "color": "#E5ECF6",
              "width": 0.5
             },
             "pattern": {
              "fillmode": "overlay",
              "size": 10,
              "solidity": 0.2
             }
            },
            "type": "bar"
           }
          ],
          "barpolar": [
           {
            "marker": {
             "line": {
              "color": "#E5ECF6",
              "width": 0.5
             },
             "pattern": {
              "fillmode": "overlay",
              "size": 10,
              "solidity": 0.2
             }
            },
            "type": "barpolar"
           }
          ],
          "carpet": [
           {
            "aaxis": {
             "endlinecolor": "#2a3f5f",
             "gridcolor": "white",
             "linecolor": "white",
             "minorgridcolor": "white",
             "startlinecolor": "#2a3f5f"
            },
            "baxis": {
             "endlinecolor": "#2a3f5f",
             "gridcolor": "white",
             "linecolor": "white",
             "minorgridcolor": "white",
             "startlinecolor": "#2a3f5f"
            },
            "type": "carpet"
           }
          ],
          "choropleth": [
           {
            "colorbar": {
             "outlinewidth": 0,
             "ticks": ""
            },
            "type": "choropleth"
           }
          ],
          "contour": [
           {
            "colorbar": {
             "outlinewidth": 0,
             "ticks": ""
            },
            "colorscale": [
             [
              0,
              "#0d0887"
             ],
             [
              0.1111111111111111,
              "#46039f"
             ],
             [
              0.2222222222222222,
              "#7201a8"
             ],
             [
              0.3333333333333333,
              "#9c179e"
             ],
             [
              0.4444444444444444,
              "#bd3786"
             ],
             [
              0.5555555555555556,
              "#d8576b"
             ],
             [
              0.6666666666666666,
              "#ed7953"
             ],
             [
              0.7777777777777778,
              "#fb9f3a"
             ],
             [
              0.8888888888888888,
              "#fdca26"
             ],
             [
              1,
              "#f0f921"
             ]
            ],
            "type": "contour"
           }
          ],
          "contourcarpet": [
           {
            "colorbar": {
             "outlinewidth": 0,
             "ticks": ""
            },
            "type": "contourcarpet"
           }
          ],
          "heatmap": [
           {
            "colorbar": {
             "outlinewidth": 0,
             "ticks": ""
            },
            "colorscale": [
             [
              0,
              "#0d0887"
             ],
             [
              0.1111111111111111,
              "#46039f"
             ],
             [
              0.2222222222222222,
              "#7201a8"
             ],
             [
              0.3333333333333333,
              "#9c179e"
             ],
             [
              0.4444444444444444,
              "#bd3786"
             ],
             [
              0.5555555555555556,
              "#d8576b"
             ],
             [
              0.6666666666666666,
              "#ed7953"
             ],
             [
              0.7777777777777778,
              "#fb9f3a"
             ],
             [
              0.8888888888888888,
              "#fdca26"
             ],
             [
              1,
              "#f0f921"
             ]
            ],
            "type": "heatmap"
           }
          ],
          "heatmapgl": [
           {
            "colorbar": {
             "outlinewidth": 0,
             "ticks": ""
            },
            "colorscale": [
             [
              0,
              "#0d0887"
             ],
             [
              0.1111111111111111,
              "#46039f"
             ],
             [
              0.2222222222222222,
              "#7201a8"
             ],
             [
              0.3333333333333333,
              "#9c179e"
             ],
             [
              0.4444444444444444,
              "#bd3786"
             ],
             [
              0.5555555555555556,
              "#d8576b"
             ],
             [
              0.6666666666666666,
              "#ed7953"
             ],
             [
              0.7777777777777778,
              "#fb9f3a"
             ],
             [
              0.8888888888888888,
              "#fdca26"
             ],
             [
              1,
              "#f0f921"
             ]
            ],
            "type": "heatmapgl"
           }
          ],
          "histogram": [
           {
            "marker": {
             "pattern": {
              "fillmode": "overlay",
              "size": 10,
              "solidity": 0.2
             }
            },
            "type": "histogram"
           }
          ],
          "histogram2d": [
           {
            "colorbar": {
             "outlinewidth": 0,
             "ticks": ""
            },
            "colorscale": [
             [
              0,
              "#0d0887"
             ],
             [
              0.1111111111111111,
              "#46039f"
             ],
             [
              0.2222222222222222,
              "#7201a8"
             ],
             [
              0.3333333333333333,
              "#9c179e"
             ],
             [
              0.4444444444444444,
              "#bd3786"
             ],
             [
              0.5555555555555556,
              "#d8576b"
             ],
             [
              0.6666666666666666,
              "#ed7953"
             ],
             [
              0.7777777777777778,
              "#fb9f3a"
             ],
             [
              0.8888888888888888,
              "#fdca26"
             ],
             [
              1,
              "#f0f921"
             ]
            ],
            "type": "histogram2d"
           }
          ],
          "histogram2dcontour": [
           {
            "colorbar": {
             "outlinewidth": 0,
             "ticks": ""
            },
            "colorscale": [
             [
              0,
              "#0d0887"
             ],
             [
              0.1111111111111111,
              "#46039f"
             ],
             [
              0.2222222222222222,
              "#7201a8"
             ],
             [
              0.3333333333333333,
              "#9c179e"
             ],
             [
              0.4444444444444444,
              "#bd3786"
             ],
             [
              0.5555555555555556,
              "#d8576b"
             ],
             [
              0.6666666666666666,
              "#ed7953"
             ],
             [
              0.7777777777777778,
              "#fb9f3a"
             ],
             [
              0.8888888888888888,
              "#fdca26"
             ],
             [
              1,
              "#f0f921"
             ]
            ],
            "type": "histogram2dcontour"
           }
          ],
          "mesh3d": [
           {
            "colorbar": {
             "outlinewidth": 0,
             "ticks": ""
            },
            "type": "mesh3d"
           }
          ],
          "parcoords": [
           {
            "line": {
             "colorbar": {
              "outlinewidth": 0,
              "ticks": ""
             }
            },
            "type": "parcoords"
           }
          ],
          "pie": [
           {
            "automargin": true,
            "type": "pie"
           }
          ],
          "scatter": [
           {
            "fillpattern": {
             "fillmode": "overlay",
             "size": 10,
             "solidity": 0.2
            },
            "type": "scatter"
           }
          ],
          "scatter3d": [
           {
            "line": {
             "colorbar": {
              "outlinewidth": 0,
              "ticks": ""
             }
            },
            "marker": {
             "colorbar": {
              "outlinewidth": 0,
              "ticks": ""
             }
            },
            "type": "scatter3d"
           }
          ],
          "scattercarpet": [
           {
            "marker": {
             "colorbar": {
              "outlinewidth": 0,
              "ticks": ""
             }
            },
            "type": "scattercarpet"
           }
          ],
          "scattergeo": [
           {
            "marker": {
             "colorbar": {
              "outlinewidth": 0,
              "ticks": ""
             }
            },
            "type": "scattergeo"
           }
          ],
          "scattergl": [
           {
            "marker": {
             "colorbar": {
              "outlinewidth": 0,
              "ticks": ""
             }
            },
            "type": "scattergl"
           }
          ],
          "scattermapbox": [
           {
            "marker": {
             "colorbar": {
              "outlinewidth": 0,
              "ticks": ""
             }
            },
            "type": "scattermapbox"
           }
          ],
          "scatterpolar": [
           {
            "marker": {
             "colorbar": {
              "outlinewidth": 0,
              "ticks": ""
             }
            },
            "type": "scatterpolar"
           }
          ],
          "scatterpolargl": [
           {
            "marker": {
             "colorbar": {
              "outlinewidth": 0,
              "ticks": ""
             }
            },
            "type": "scatterpolargl"
           }
          ],
          "scatterternary": [
           {
            "marker": {
             "colorbar": {
              "outlinewidth": 0,
              "ticks": ""
             }
            },
            "type": "scatterternary"
           }
          ],
          "surface": [
           {
            "colorbar": {
             "outlinewidth": 0,
             "ticks": ""
            },
            "colorscale": [
             [
              0,
              "#0d0887"
             ],
             [
              0.1111111111111111,
              "#46039f"
             ],
             [
              0.2222222222222222,
              "#7201a8"
             ],
             [
              0.3333333333333333,
              "#9c179e"
             ],
             [
              0.4444444444444444,
              "#bd3786"
             ],
             [
              0.5555555555555556,
              "#d8576b"
             ],
             [
              0.6666666666666666,
              "#ed7953"
             ],
             [
              0.7777777777777778,
              "#fb9f3a"
             ],
             [
              0.8888888888888888,
              "#fdca26"
             ],
             [
              1,
              "#f0f921"
             ]
            ],
            "type": "surface"
           }
          ],
          "table": [
           {
            "cells": {
             "fill": {
              "color": "#EBF0F8"
             },
             "line": {
              "color": "white"
             }
            },
            "header": {
             "fill": {
              "color": "#C8D4E3"
             },
             "line": {
              "color": "white"
             }
            },
            "type": "table"
           }
          ]
         },
         "layout": {
          "annotationdefaults": {
           "arrowcolor": "#2a3f5f",
           "arrowhead": 0,
           "arrowwidth": 1
          },
          "autotypenumbers": "strict",
          "coloraxis": {
           "colorbar": {
            "outlinewidth": 0,
            "ticks": ""
           }
          },
          "colorscale": {
           "diverging": [
            [
             0,
             "#8e0152"
            ],
            [
             0.1,
             "#c51b7d"
            ],
            [
             0.2,
             "#de77ae"
            ],
            [
             0.3,
             "#f1b6da"
            ],
            [
             0.4,
             "#fde0ef"
            ],
            [
             0.5,
             "#f7f7f7"
            ],
            [
             0.6,
             "#e6f5d0"
            ],
            [
             0.7,
             "#b8e186"
            ],
            [
             0.8,
             "#7fbc41"
            ],
            [
             0.9,
             "#4d9221"
            ],
            [
             1,
             "#276419"
            ]
           ],
           "sequential": [
            [
             0,
             "#0d0887"
            ],
            [
             0.1111111111111111,
             "#46039f"
            ],
            [
             0.2222222222222222,
             "#7201a8"
            ],
            [
             0.3333333333333333,
             "#9c179e"
            ],
            [
             0.4444444444444444,
             "#bd3786"
            ],
            [
             0.5555555555555556,
             "#d8576b"
            ],
            [
             0.6666666666666666,
             "#ed7953"
            ],
            [
             0.7777777777777778,
             "#fb9f3a"
            ],
            [
             0.8888888888888888,
             "#fdca26"
            ],
            [
             1,
             "#f0f921"
            ]
           ],
           "sequentialminus": [
            [
             0,
             "#0d0887"
            ],
            [
             0.1111111111111111,
             "#46039f"
            ],
            [
             0.2222222222222222,
             "#7201a8"
            ],
            [
             0.3333333333333333,
             "#9c179e"
            ],
            [
             0.4444444444444444,
             "#bd3786"
            ],
            [
             0.5555555555555556,
             "#d8576b"
            ],
            [
             0.6666666666666666,
             "#ed7953"
            ],
            [
             0.7777777777777778,
             "#fb9f3a"
            ],
            [
             0.8888888888888888,
             "#fdca26"
            ],
            [
             1,
             "#f0f921"
            ]
           ]
          },
          "colorway": [
           "#636efa",
           "#EF553B",
           "#00cc96",
           "#ab63fa",
           "#FFA15A",
           "#19d3f3",
           "#FF6692",
           "#B6E880",
           "#FF97FF",
           "#FECB52"
          ],
          "font": {
           "color": "#2a3f5f"
          },
          "geo": {
           "bgcolor": "white",
           "lakecolor": "white",
           "landcolor": "#E5ECF6",
           "showlakes": true,
           "showland": true,
           "subunitcolor": "white"
          },
          "hoverlabel": {
           "align": "left"
          },
          "hovermode": "closest",
          "mapbox": {
           "style": "light"
          },
          "paper_bgcolor": "white",
          "plot_bgcolor": "#E5ECF6",
          "polar": {
           "angularaxis": {
            "gridcolor": "white",
            "linecolor": "white",
            "ticks": ""
           },
           "bgcolor": "#E5ECF6",
           "radialaxis": {
            "gridcolor": "white",
            "linecolor": "white",
            "ticks": ""
           }
          },
          "scene": {
           "xaxis": {
            "backgroundcolor": "#E5ECF6",
            "gridcolor": "white",
            "gridwidth": 2,
            "linecolor": "white",
            "showbackground": true,
            "ticks": "",
            "zerolinecolor": "white"
           },
           "yaxis": {
            "backgroundcolor": "#E5ECF6",
            "gridcolor": "white",
            "gridwidth": 2,
            "linecolor": "white",
            "showbackground": true,
            "ticks": "",
            "zerolinecolor": "white"
           },
           "zaxis": {
            "backgroundcolor": "#E5ECF6",
            "gridcolor": "white",
            "gridwidth": 2,
            "linecolor": "white",
            "showbackground": true,
            "ticks": "",
            "zerolinecolor": "white"
           }
          },
          "shapedefaults": {
           "line": {
            "color": "#2a3f5f"
           }
          },
          "ternary": {
           "aaxis": {
            "gridcolor": "white",
            "linecolor": "white",
            "ticks": ""
           },
           "baxis": {
            "gridcolor": "white",
            "linecolor": "white",
            "ticks": ""
           },
           "bgcolor": "#E5ECF6",
           "caxis": {
            "gridcolor": "white",
            "linecolor": "white",
            "ticks": ""
           }
          },
          "title": {
           "x": 0.05
          },
          "xaxis": {
           "automargin": true,
           "gridcolor": "white",
           "linecolor": "white",
           "ticks": "",
           "title": {
            "standoff": 15
           },
           "zerolinecolor": "white",
           "zerolinewidth": 2
          },
          "yaxis": {
           "automargin": true,
           "gridcolor": "white",
           "linecolor": "white",
           "ticks": "",
           "title": {
            "standoff": 15
           },
           "zerolinecolor": "white",
           "zerolinewidth": 2
          }
         }
        },
        "title": {
         "text": "Comprehensive Time Series Analysis"
        },
        "xaxis": {
         "anchor": "y",
         "domain": [
          0,
          0.45
         ]
        },
        "xaxis2": {
         "anchor": "y2",
         "domain": [
          0.55,
          1
         ]
        },
        "xaxis3": {
         "anchor": "y3",
         "domain": [
          0,
          0.45
         ]
        },
        "xaxis4": {
         "anchor": "y4",
         "domain": [
          0.55,
          1
         ]
        },
        "yaxis": {
         "anchor": "x",
         "domain": [
          0.625,
          1
         ]
        },
        "yaxis2": {
         "anchor": "x2",
         "domain": [
          0.625,
          1
         ]
        },
        "yaxis3": {
         "anchor": "x3",
         "domain": [
          0,
          0.375
         ]
        },
        "yaxis4": {
         "anchor": "x4",
         "domain": [
          0,
          0.375
         ]
        }
       }
      }
     },
     "metadata": {},
     "output_type": "display_data"
    },
    {
     "name": "stdout",
     "output_type": "stream",
     "text": [
      "⏰ Hourly Sales Analysis:\n"
     ]
    },
    {
     "data": {
      "text/html": [
       "<div>\n",
       "<style scoped>\n",
       "    .dataframe tbody tr th:only-of-type {\n",
       "        vertical-align: middle;\n",
       "    }\n",
       "\n",
       "    .dataframe tbody tr th {\n",
       "        vertical-align: top;\n",
       "    }\n",
       "\n",
       "    .dataframe thead th {\n",
       "        text-align: right;\n",
       "    }\n",
       "</style>\n",
       "<table border=\"1\" class=\"dataframe\">\n",
       "  <thead>\n",
       "    <tr style=\"text-align: right;\">\n",
       "      <th></th>\n",
       "      <th>hour</th>\n",
       "      <th>Total_Revenue</th>\n",
       "      <th>Transaction_Count</th>\n",
       "      <th>Avg_Transaction</th>\n",
       "      <th>Popular_Coffee</th>\n",
       "    </tr>\n",
       "  </thead>\n",
       "  <tbody>\n",
       "    <tr>\n",
       "      <th>0</th>\n",
       "      <td>7</td>\n",
       "      <td>392.80</td>\n",
       "      <td>13</td>\n",
       "      <td>30.22</td>\n",
       "      <td>Americano</td>\n",
       "    </tr>\n",
       "    <tr>\n",
       "      <th>1</th>\n",
       "      <td>8</td>\n",
       "      <td>1380.38</td>\n",
       "      <td>44</td>\n",
       "      <td>31.37</td>\n",
       "      <td>Latte</td>\n",
       "    </tr>\n",
       "    <tr>\n",
       "      <th>2</th>\n",
       "      <td>9</td>\n",
       "      <td>1515.48</td>\n",
       "      <td>50</td>\n",
       "      <td>30.31</td>\n",
       "      <td>Americano with Milk</td>\n",
       "    </tr>\n",
       "    <tr>\n",
       "      <th>3</th>\n",
       "      <td>10</td>\n",
       "      <td>4553.18</td>\n",
       "      <td>133</td>\n",
       "      <td>34.23</td>\n",
       "      <td>Latte</td>\n",
       "    </tr>\n",
       "    <tr>\n",
       "      <th>4</th>\n",
       "      <td>11</td>\n",
       "      <td>3258.64</td>\n",
       "      <td>103</td>\n",
       "      <td>31.64</td>\n",
       "      <td>Americano with Milk</td>\n",
       "    </tr>\n",
       "    <tr>\n",
       "      <th>5</th>\n",
       "      <td>12</td>\n",
       "      <td>2850.60</td>\n",
       "      <td>87</td>\n",
       "      <td>32.77</td>\n",
       "      <td>Americano with Milk</td>\n",
       "    </tr>\n",
       "    <tr>\n",
       "      <th>6</th>\n",
       "      <td>13</td>\n",
       "      <td>2511.60</td>\n",
       "      <td>78</td>\n",
       "      <td>32.20</td>\n",
       "      <td>Americano</td>\n",
       "    </tr>\n",
       "    <tr>\n",
       "      <th>7</th>\n",
       "      <td>14</td>\n",
       "      <td>2484.92</td>\n",
       "      <td>76</td>\n",
       "      <td>32.70</td>\n",
       "      <td>Americano with Milk</td>\n",
       "    </tr>\n",
       "    <tr>\n",
       "      <th>8</th>\n",
       "      <td>15</td>\n",
       "      <td>2158.76</td>\n",
       "      <td>65</td>\n",
       "      <td>33.21</td>\n",
       "      <td>Americano with Milk</td>\n",
       "    </tr>\n",
       "    <tr>\n",
       "      <th>9</th>\n",
       "      <td>16</td>\n",
       "      <td>2525.36</td>\n",
       "      <td>77</td>\n",
       "      <td>32.80</td>\n",
       "      <td>Americano with Milk</td>\n",
       "    </tr>\n",
       "    <tr>\n",
       "      <th>10</th>\n",
       "      <td>17</td>\n",
       "      <td>2639.08</td>\n",
       "      <td>77</td>\n",
       "      <td>34.27</td>\n",
       "      <td>Cappuccino</td>\n",
       "    </tr>\n",
       "    <tr>\n",
       "      <th>11</th>\n",
       "      <td>18</td>\n",
       "      <td>2558.04</td>\n",
       "      <td>75</td>\n",
       "      <td>34.11</td>\n",
       "      <td>Americano with Milk</td>\n",
       "    </tr>\n",
       "    <tr>\n",
       "      <th>12</th>\n",
       "      <td>19</td>\n",
       "      <td>3388.32</td>\n",
       "      <td>96</td>\n",
       "      <td>35.30</td>\n",
       "      <td>Cappuccino</td>\n",
       "    </tr>\n",
       "    <tr>\n",
       "      <th>13</th>\n",
       "      <td>20</td>\n",
       "      <td>1819.92</td>\n",
       "      <td>54</td>\n",
       "      <td>33.70</td>\n",
       "      <td>Cappuccino</td>\n",
       "    </tr>\n",
       "    <tr>\n",
       "      <th>14</th>\n",
       "      <td>21</td>\n",
       "      <td>2343.86</td>\n",
       "      <td>70</td>\n",
       "      <td>33.48</td>\n",
       "      <td>Americano with Milk</td>\n",
       "    </tr>\n",
       "    <tr>\n",
       "      <th>15</th>\n",
       "      <td>22</td>\n",
       "      <td>1127.94</td>\n",
       "      <td>35</td>\n",
       "      <td>32.23</td>\n",
       "      <td>Americano with Milk</td>\n",
       "    </tr>\n",
       "  </tbody>\n",
       "</table>\n",
       "</div>"
      ],
      "text/plain": [
       "    hour  Total_Revenue  Transaction_Count  Avg_Transaction  \\\n",
       "0      7         392.80                 13            30.22   \n",
       "1      8        1380.38                 44            31.37   \n",
       "2      9        1515.48                 50            30.31   \n",
       "3     10        4553.18                133            34.23   \n",
       "4     11        3258.64                103            31.64   \n",
       "5     12        2850.60                 87            32.77   \n",
       "6     13        2511.60                 78            32.20   \n",
       "7     14        2484.92                 76            32.70   \n",
       "8     15        2158.76                 65            33.21   \n",
       "9     16        2525.36                 77            32.80   \n",
       "10    17        2639.08                 77            34.27   \n",
       "11    18        2558.04                 75            34.11   \n",
       "12    19        3388.32                 96            35.30   \n",
       "13    20        1819.92                 54            33.70   \n",
       "14    21        2343.86                 70            33.48   \n",
       "15    22        1127.94                 35            32.23   \n",
       "\n",
       "         Popular_Coffee  \n",
       "0             Americano  \n",
       "1                 Latte  \n",
       "2   Americano with Milk  \n",
       "3                 Latte  \n",
       "4   Americano with Milk  \n",
       "5   Americano with Milk  \n",
       "6             Americano  \n",
       "7   Americano with Milk  \n",
       "8   Americano with Milk  \n",
       "9   Americano with Milk  \n",
       "10           Cappuccino  \n",
       "11  Americano with Milk  \n",
       "12           Cappuccino  \n",
       "13           Cappuccino  \n",
       "14  Americano with Milk  \n",
       "15  Americano with Milk  "
      ]
     },
     "metadata": {},
     "output_type": "display_data"
    }
   ],
   "source": [
    "# Advanced time series analysis\n",
    "hourly_sales = df_processed.groupby('hour').agg({\n",
    "    'money': ['sum', 'count', 'mean'],\n",
    "    'coffee_name': lambda x: x.mode().iloc[0]\n",
    "}).round(2)\n",
    "\n",
    "hourly_sales.columns = ['Total_Revenue', 'Transaction_Count', 'Avg_Transaction', 'Popular_Coffee']\n",
    "hourly_sales = hourly_sales.reset_index()\n",
    "\n",
    "# Create subplots for comprehensive time analysis\n",
    "fig = make_subplots(\n",
    "    rows=2, cols=2,\n",
    "    subplot_titles=('Hourly Revenue', 'Hourly Transaction Count', \n",
    "                   'Daily Revenue Trend', 'Weekly Pattern'),\n",
    "    specs=[[{}, {}],\n",
    "           [{}, {}]]\n",
    ")\n",
    "\n",
    "# Hourly revenue\n",
    "fig.add_trace(go.Scatter(x=hourly_sales['hour'], y=hourly_sales['Total_Revenue'],\n",
    "                        mode='lines+markers', name='Revenue'), row=1, col=1)\n",
    "\n",
    "# Hourly transactions\n",
    "fig.add_trace(go.Bar(x=hourly_sales['hour'], y=hourly_sales['Transaction_Count'],\n",
    "                    name='Transactions'), row=1, col=2)\n",
    "\n",
    "# Daily trend\n",
    "daily_sales = df_processed.groupby('date')['money'].sum().reset_index()\n",
    "fig.add_trace(go.Scatter(x=daily_sales['date'], y=daily_sales['money'],\n",
    "                        mode='lines', name='Daily Revenue'), row=2, col=1)\n",
    "\n",
    "# Weekly pattern\n",
    "weekly_avg = df_processed.groupby('day_of_week')['money'].mean().reindex(\n",
    "    ['Monday', 'Tuesday', 'Wednesday', 'Thursday', 'Friday', 'Saturday', 'Sunday'])\n",
    "fig.add_trace(go.Bar(x=weekly_avg.index, y=weekly_avg.values,\n",
    "                    name='Avg Daily Revenue'), row=2, col=2)\n",
    "\n",
    "fig.update_layout(height=800, title_text=\"Comprehensive Time Series Analysis\", showlegend=False)\n",
    "fig.show()\n",
    "\n",
    "print(\"⏰ Hourly Sales Analysis:\")\n",
    "display(hourly_sales)"
   ]
  },
  {
   "cell_type": "markdown",
   "metadata": {},
   "source": [
    "## 3. Statistical Analysis & Correlation"
   ]
  },
  {
   "cell_type": "code",
   "execution_count": 6,
   "metadata": {},
   "outputs": [
    {
     "data": {
      "application/vnd.plotly.v1+json": {
       "config": {
        "plotlyServerURL": "https://plot.ly"
       },
       "data": [
        {
         "colorscale": [
          [
           0,
           "rgb(103,0,31)"
          ],
          [
           0.1,
           "rgb(178,24,43)"
          ],
          [
           0.2,
           "rgb(214,96,77)"
          ],
          [
           0.3,
           "rgb(244,165,130)"
          ],
          [
           0.4,
           "rgb(253,219,199)"
          ],
          [
           0.5,
           "rgb(247,247,247)"
          ],
          [
           0.6,
           "rgb(209,229,240)"
          ],
          [
           0.7,
           "rgb(146,197,222)"
          ],
          [
           0.8,
           "rgb(67,147,195)"
          ],
          [
           0.9,
           "rgb(33,102,172)"
          ],
          [
           1,
           "rgb(5,48,97)"
          ]
         ],
         "reversescale": false,
         "showscale": true,
         "type": "heatmap",
         "x": [
          "money",
          "hour",
          "day_of_week_num",
          "month",
          "week"
         ],
         "y": [
          "money",
          "hour",
          "day_of_week_num",
          "month",
          "week"
         ],
         "z": [
          [
           1,
           0.1338177980628559,
           0.05936529313599005,
           -0.29143323338448707,
           -0.30430154851037683
          ],
          [
           0.1338177980628559,
           1,
           0.01814324705513621,
           0.058284651690263554,
           0.05598469807343039
          ],
          [
           0.05936529313599005,
           0.01814324705513621,
           1,
           -0.026677385389564434,
           -0.08073909879064944
          ],
          [
           -0.29143323338448707,
           0.058284651690263554,
           -0.026677385389564434,
           1,
           0.978909975335925
          ],
          [
           -0.30430154851037683,
           0.05598469807343039,
           -0.08073909879064944,
           0.978909975335925,
           1
          ]
         ]
        }
       ],
       "layout": {
        "annotations": [
         {
          "font": {
           "color": "#FFFFFF"
          },
          "showarrow": false,
          "text": "1.0",
          "x": "money",
          "xref": "x",
          "y": "money",
          "yref": "y"
         },
         {
          "font": {
           "color": "#FFFFFF"
          },
          "showarrow": false,
          "text": "0.134",
          "x": "hour",
          "xref": "x",
          "y": "money",
          "yref": "y"
         },
         {
          "font": {
           "color": "#FFFFFF"
          },
          "showarrow": false,
          "text": "0.059",
          "x": "day_of_week_num",
          "xref": "x",
          "y": "money",
          "yref": "y"
         },
         {
          "font": {
           "color": "#FFFFFF"
          },
          "showarrow": false,
          "text": "-0.291",
          "x": "month",
          "xref": "x",
          "y": "money",
          "yref": "y"
         },
         {
          "font": {
           "color": "#FFFFFF"
          },
          "showarrow": false,
          "text": "-0.304",
          "x": "week",
          "xref": "x",
          "y": "money",
          "yref": "y"
         },
         {
          "font": {
           "color": "#FFFFFF"
          },
          "showarrow": false,
          "text": "0.134",
          "x": "money",
          "xref": "x",
          "y": "hour",
          "yref": "y"
         },
         {
          "font": {
           "color": "#FFFFFF"
          },
          "showarrow": false,
          "text": "1.0",
          "x": "hour",
          "xref": "x",
          "y": "hour",
          "yref": "y"
         },
         {
          "font": {
           "color": "#FFFFFF"
          },
          "showarrow": false,
          "text": "0.018",
          "x": "day_of_week_num",
          "xref": "x",
          "y": "hour",
          "yref": "y"
         },
         {
          "font": {
           "color": "#FFFFFF"
          },
          "showarrow": false,
          "text": "0.058",
          "x": "month",
          "xref": "x",
          "y": "hour",
          "yref": "y"
         },
         {
          "font": {
           "color": "#FFFFFF"
          },
          "showarrow": false,
          "text": "0.056",
          "x": "week",
          "xref": "x",
          "y": "hour",
          "yref": "y"
         },
         {
          "font": {
           "color": "#FFFFFF"
          },
          "showarrow": false,
          "text": "0.059",
          "x": "money",
          "xref": "x",
          "y": "day_of_week_num",
          "yref": "y"
         },
         {
          "font": {
           "color": "#FFFFFF"
          },
          "showarrow": false,
          "text": "0.018",
          "x": "hour",
          "xref": "x",
          "y": "day_of_week_num",
          "yref": "y"
         },
         {
          "font": {
           "color": "#FFFFFF"
          },
          "showarrow": false,
          "text": "1.0",
          "x": "day_of_week_num",
          "xref": "x",
          "y": "day_of_week_num",
          "yref": "y"
         },
         {
          "font": {
           "color": "#FFFFFF"
          },
          "showarrow": false,
          "text": "-0.027",
          "x": "month",
          "xref": "x",
          "y": "day_of_week_num",
          "yref": "y"
         },
         {
          "font": {
           "color": "#FFFFFF"
          },
          "showarrow": false,
          "text": "-0.081",
          "x": "week",
          "xref": "x",
          "y": "day_of_week_num",
          "yref": "y"
         },
         {
          "font": {
           "color": "#FFFFFF"
          },
          "showarrow": false,
          "text": "-0.291",
          "x": "money",
          "xref": "x",
          "y": "month",
          "yref": "y"
         },
         {
          "font": {
           "color": "#FFFFFF"
          },
          "showarrow": false,
          "text": "0.058",
          "x": "hour",
          "xref": "x",
          "y": "month",
          "yref": "y"
         },
         {
          "font": {
           "color": "#FFFFFF"
          },
          "showarrow": false,
          "text": "-0.027",
          "x": "day_of_week_num",
          "xref": "x",
          "y": "month",
          "yref": "y"
         },
         {
          "font": {
           "color": "#FFFFFF"
          },
          "showarrow": false,
          "text": "1.0",
          "x": "month",
          "xref": "x",
          "y": "month",
          "yref": "y"
         },
         {
          "font": {
           "color": "#FFFFFF"
          },
          "showarrow": false,
          "text": "0.979",
          "x": "week",
          "xref": "x",
          "y": "month",
          "yref": "y"
         },
         {
          "font": {
           "color": "#FFFFFF"
          },
          "showarrow": false,
          "text": "-0.304",
          "x": "money",
          "xref": "x",
          "y": "week",
          "yref": "y"
         },
         {
          "font": {
           "color": "#FFFFFF"
          },
          "showarrow": false,
          "text": "0.056",
          "x": "hour",
          "xref": "x",
          "y": "week",
          "yref": "y"
         },
         {
          "font": {
           "color": "#FFFFFF"
          },
          "showarrow": false,
          "text": "-0.081",
          "x": "day_of_week_num",
          "xref": "x",
          "y": "week",
          "yref": "y"
         },
         {
          "font": {
           "color": "#FFFFFF"
          },
          "showarrow": false,
          "text": "0.979",
          "x": "month",
          "xref": "x",
          "y": "week",
          "yref": "y"
         },
         {
          "font": {
           "color": "#FFFFFF"
          },
          "showarrow": false,
          "text": "1.0",
          "x": "week",
          "xref": "x",
          "y": "week",
          "yref": "y"
         }
        ],
        "template": {
         "data": {
          "bar": [
           {
            "error_x": {
             "color": "#2a3f5f"
            },
            "error_y": {
             "color": "#2a3f5f"
            },
            "marker": {
             "line": {
              "color": "#E5ECF6",
              "width": 0.5
             },
             "pattern": {
              "fillmode": "overlay",
              "size": 10,
              "solidity": 0.2
             }
            },
            "type": "bar"
           }
          ],
          "barpolar": [
           {
            "marker": {
             "line": {
              "color": "#E5ECF6",
              "width": 0.5
             },
             "pattern": {
              "fillmode": "overlay",
              "size": 10,
              "solidity": 0.2
             }
            },
            "type": "barpolar"
           }
          ],
          "carpet": [
           {
            "aaxis": {
             "endlinecolor": "#2a3f5f",
             "gridcolor": "white",
             "linecolor": "white",
             "minorgridcolor": "white",
             "startlinecolor": "#2a3f5f"
            },
            "baxis": {
             "endlinecolor": "#2a3f5f",
             "gridcolor": "white",
             "linecolor": "white",
             "minorgridcolor": "white",
             "startlinecolor": "#2a3f5f"
            },
            "type": "carpet"
           }
          ],
          "choropleth": [
           {
            "colorbar": {
             "outlinewidth": 0,
             "ticks": ""
            },
            "type": "choropleth"
           }
          ],
          "contour": [
           {
            "colorbar": {
             "outlinewidth": 0,
             "ticks": ""
            },
            "colorscale": [
             [
              0,
              "#0d0887"
             ],
             [
              0.1111111111111111,
              "#46039f"
             ],
             [
              0.2222222222222222,
              "#7201a8"
             ],
             [
              0.3333333333333333,
              "#9c179e"
             ],
             [
              0.4444444444444444,
              "#bd3786"
             ],
             [
              0.5555555555555556,
              "#d8576b"
             ],
             [
              0.6666666666666666,
              "#ed7953"
             ],
             [
              0.7777777777777778,
              "#fb9f3a"
             ],
             [
              0.8888888888888888,
              "#fdca26"
             ],
             [
              1,
              "#f0f921"
             ]
            ],
            "type": "contour"
           }
          ],
          "contourcarpet": [
           {
            "colorbar": {
             "outlinewidth": 0,
             "ticks": ""
            },
            "type": "contourcarpet"
           }
          ],
          "heatmap": [
           {
            "colorbar": {
             "outlinewidth": 0,
             "ticks": ""
            },
            "colorscale": [
             [
              0,
              "#0d0887"
             ],
             [
              0.1111111111111111,
              "#46039f"
             ],
             [
              0.2222222222222222,
              "#7201a8"
             ],
             [
              0.3333333333333333,
              "#9c179e"
             ],
             [
              0.4444444444444444,
              "#bd3786"
             ],
             [
              0.5555555555555556,
              "#d8576b"
             ],
             [
              0.6666666666666666,
              "#ed7953"
             ],
             [
              0.7777777777777778,
              "#fb9f3a"
             ],
             [
              0.8888888888888888,
              "#fdca26"
             ],
             [
              1,
              "#f0f921"
             ]
            ],
            "type": "heatmap"
           }
          ],
          "heatmapgl": [
           {
            "colorbar": {
             "outlinewidth": 0,
             "ticks": ""
            },
            "colorscale": [
             [
              0,
              "#0d0887"
             ],
             [
              0.1111111111111111,
              "#46039f"
             ],
             [
              0.2222222222222222,
              "#7201a8"
             ],
             [
              0.3333333333333333,
              "#9c179e"
             ],
             [
              0.4444444444444444,
              "#bd3786"
             ],
             [
              0.5555555555555556,
              "#d8576b"
             ],
             [
              0.6666666666666666,
              "#ed7953"
             ],
             [
              0.7777777777777778,
              "#fb9f3a"
             ],
             [
              0.8888888888888888,
              "#fdca26"
             ],
             [
              1,
              "#f0f921"
             ]
            ],
            "type": "heatmapgl"
           }
          ],
          "histogram": [
           {
            "marker": {
             "pattern": {
              "fillmode": "overlay",
              "size": 10,
              "solidity": 0.2
             }
            },
            "type": "histogram"
           }
          ],
          "histogram2d": [
           {
            "colorbar": {
             "outlinewidth": 0,
             "ticks": ""
            },
            "colorscale": [
             [
              0,
              "#0d0887"
             ],
             [
              0.1111111111111111,
              "#46039f"
             ],
             [
              0.2222222222222222,
              "#7201a8"
             ],
             [
              0.3333333333333333,
              "#9c179e"
             ],
             [
              0.4444444444444444,
              "#bd3786"
             ],
             [
              0.5555555555555556,
              "#d8576b"
             ],
             [
              0.6666666666666666,
              "#ed7953"
             ],
             [
              0.7777777777777778,
              "#fb9f3a"
             ],
             [
              0.8888888888888888,
              "#fdca26"
             ],
             [
              1,
              "#f0f921"
             ]
            ],
            "type": "histogram2d"
           }
          ],
          "histogram2dcontour": [
           {
            "colorbar": {
             "outlinewidth": 0,
             "ticks": ""
            },
            "colorscale": [
             [
              0,
              "#0d0887"
             ],
             [
              0.1111111111111111,
              "#46039f"
             ],
             [
              0.2222222222222222,
              "#7201a8"
             ],
             [
              0.3333333333333333,
              "#9c179e"
             ],
             [
              0.4444444444444444,
              "#bd3786"
             ],
             [
              0.5555555555555556,
              "#d8576b"
             ],
             [
              0.6666666666666666,
              "#ed7953"
             ],
             [
              0.7777777777777778,
              "#fb9f3a"
             ],
             [
              0.8888888888888888,
              "#fdca26"
             ],
             [
              1,
              "#f0f921"
             ]
            ],
            "type": "histogram2dcontour"
           }
          ],
          "mesh3d": [
           {
            "colorbar": {
             "outlinewidth": 0,
             "ticks": ""
            },
            "type": "mesh3d"
           }
          ],
          "parcoords": [
           {
            "line": {
             "colorbar": {
              "outlinewidth": 0,
              "ticks": ""
             }
            },
            "type": "parcoords"
           }
          ],
          "pie": [
           {
            "automargin": true,
            "type": "pie"
           }
          ],
          "scatter": [
           {
            "fillpattern": {
             "fillmode": "overlay",
             "size": 10,
             "solidity": 0.2
            },
            "type": "scatter"
           }
          ],
          "scatter3d": [
           {
            "line": {
             "colorbar": {
              "outlinewidth": 0,
              "ticks": ""
             }
            },
            "marker": {
             "colorbar": {
              "outlinewidth": 0,
              "ticks": ""
             }
            },
            "type": "scatter3d"
           }
          ],
          "scattercarpet": [
           {
            "marker": {
             "colorbar": {
              "outlinewidth": 0,
              "ticks": ""
             }
            },
            "type": "scattercarpet"
           }
          ],
          "scattergeo": [
           {
            "marker": {
             "colorbar": {
              "outlinewidth": 0,
              "ticks": ""
             }
            },
            "type": "scattergeo"
           }
          ],
          "scattergl": [
           {
            "marker": {
             "colorbar": {
              "outlinewidth": 0,
              "ticks": ""
             }
            },
            "type": "scattergl"
           }
          ],
          "scattermapbox": [
           {
            "marker": {
             "colorbar": {
              "outlinewidth": 0,
              "ticks": ""
             }
            },
            "type": "scattermapbox"
           }
          ],
          "scatterpolar": [
           {
            "marker": {
             "colorbar": {
              "outlinewidth": 0,
              "ticks": ""
             }
            },
            "type": "scatterpolar"
           }
          ],
          "scatterpolargl": [
           {
            "marker": {
             "colorbar": {
              "outlinewidth": 0,
              "ticks": ""
             }
            },
            "type": "scatterpolargl"
           }
          ],
          "scatterternary": [
           {
            "marker": {
             "colorbar": {
              "outlinewidth": 0,
              "ticks": ""
             }
            },
            "type": "scatterternary"
           }
          ],
          "surface": [
           {
            "colorbar": {
             "outlinewidth": 0,
             "ticks": ""
            },
            "colorscale": [
             [
              0,
              "#0d0887"
             ],
             [
              0.1111111111111111,
              "#46039f"
             ],
             [
              0.2222222222222222,
              "#7201a8"
             ],
             [
              0.3333333333333333,
              "#9c179e"
             ],
             [
              0.4444444444444444,
              "#bd3786"
             ],
             [
              0.5555555555555556,
              "#d8576b"
             ],
             [
              0.6666666666666666,
              "#ed7953"
             ],
             [
              0.7777777777777778,
              "#fb9f3a"
             ],
             [
              0.8888888888888888,
              "#fdca26"
             ],
             [
              1,
              "#f0f921"
             ]
            ],
            "type": "surface"
           }
          ],
          "table": [
           {
            "cells": {
             "fill": {
              "color": "#EBF0F8"
             },
             "line": {
              "color": "white"
             }
            },
            "header": {
             "fill": {
              "color": "#C8D4E3"
             },
             "line": {
              "color": "white"
             }
            },
            "type": "table"
           }
          ]
         },
         "layout": {
          "annotationdefaults": {
           "arrowcolor": "#2a3f5f",
           "arrowhead": 0,
           "arrowwidth": 1
          },
          "autotypenumbers": "strict",
          "coloraxis": {
           "colorbar": {
            "outlinewidth": 0,
            "ticks": ""
           }
          },
          "colorscale": {
           "diverging": [
            [
             0,
             "#8e0152"
            ],
            [
             0.1,
             "#c51b7d"
            ],
            [
             0.2,
             "#de77ae"
            ],
            [
             0.3,
             "#f1b6da"
            ],
            [
             0.4,
             "#fde0ef"
            ],
            [
             0.5,
             "#f7f7f7"
            ],
            [
             0.6,
             "#e6f5d0"
            ],
            [
             0.7,
             "#b8e186"
            ],
            [
             0.8,
             "#7fbc41"
            ],
            [
             0.9,
             "#4d9221"
            ],
            [
             1,
             "#276419"
            ]
           ],
           "sequential": [
            [
             0,
             "#0d0887"
            ],
            [
             0.1111111111111111,
             "#46039f"
            ],
            [
             0.2222222222222222,
             "#7201a8"
            ],
            [
             0.3333333333333333,
             "#9c179e"
            ],
            [
             0.4444444444444444,
             "#bd3786"
            ],
            [
             0.5555555555555556,
             "#d8576b"
            ],
            [
             0.6666666666666666,
             "#ed7953"
            ],
            [
             0.7777777777777778,
             "#fb9f3a"
            ],
            [
             0.8888888888888888,
             "#fdca26"
            ],
            [
             1,
             "#f0f921"
            ]
           ],
           "sequentialminus": [
            [
             0,
             "#0d0887"
            ],
            [
             0.1111111111111111,
             "#46039f"
            ],
            [
             0.2222222222222222,
             "#7201a8"
            ],
            [
             0.3333333333333333,
             "#9c179e"
            ],
            [
             0.4444444444444444,
             "#bd3786"
            ],
            [
             0.5555555555555556,
             "#d8576b"
            ],
            [
             0.6666666666666666,
             "#ed7953"
            ],
            [
             0.7777777777777778,
             "#fb9f3a"
            ],
            [
             0.8888888888888888,
             "#fdca26"
            ],
            [
             1,
             "#f0f921"
            ]
           ]
          },
          "colorway": [
           "#636efa",
           "#EF553B",
           "#00cc96",
           "#ab63fa",
           "#FFA15A",
           "#19d3f3",
           "#FF6692",
           "#B6E880",
           "#FF97FF",
           "#FECB52"
          ],
          "font": {
           "color": "#2a3f5f"
          },
          "geo": {
           "bgcolor": "white",
           "lakecolor": "white",
           "landcolor": "#E5ECF6",
           "showlakes": true,
           "showland": true,
           "subunitcolor": "white"
          },
          "hoverlabel": {
           "align": "left"
          },
          "hovermode": "closest",
          "mapbox": {
           "style": "light"
          },
          "paper_bgcolor": "white",
          "plot_bgcolor": "#E5ECF6",
          "polar": {
           "angularaxis": {
            "gridcolor": "white",
            "linecolor": "white",
            "ticks": ""
           },
           "bgcolor": "#E5ECF6",
           "radialaxis": {
            "gridcolor": "white",
            "linecolor": "white",
            "ticks": ""
           }
          },
          "scene": {
           "xaxis": {
            "backgroundcolor": "#E5ECF6",
            "gridcolor": "white",
            "gridwidth": 2,
            "linecolor": "white",
            "showbackground": true,
            "ticks": "",
            "zerolinecolor": "white"
           },
           "yaxis": {
            "backgroundcolor": "#E5ECF6",
            "gridcolor": "white",
            "gridwidth": 2,
            "linecolor": "white",
            "showbackground": true,
            "ticks": "",
            "zerolinecolor": "white"
           },
           "zaxis": {
            "backgroundcolor": "#E5ECF6",
            "gridcolor": "white",
            "gridwidth": 2,
            "linecolor": "white",
            "showbackground": true,
            "ticks": "",
            "zerolinecolor": "white"
           }
          },
          "shapedefaults": {
           "line": {
            "color": "#2a3f5f"
           }
          },
          "ternary": {
           "aaxis": {
            "gridcolor": "white",
            "linecolor": "white",
            "ticks": ""
           },
           "baxis": {
            "gridcolor": "white",
            "linecolor": "white",
            "ticks": ""
           },
           "bgcolor": "#E5ECF6",
           "caxis": {
            "gridcolor": "white",
            "linecolor": "white",
            "ticks": ""
           }
          },
          "title": {
           "x": 0.05
          },
          "xaxis": {
           "automargin": true,
           "gridcolor": "white",
           "linecolor": "white",
           "ticks": "",
           "title": {
            "standoff": 15
           },
           "zerolinecolor": "white",
           "zerolinewidth": 2
          },
          "yaxis": {
           "automargin": true,
           "gridcolor": "white",
           "linecolor": "white",
           "ticks": "",
           "title": {
            "standoff": 15
           },
           "zerolinecolor": "white",
           "zerolinewidth": 2
          }
         }
        },
        "title": {
         "text": "Correlation Matrix of Numerical Variables"
        },
        "xaxis": {
         "dtick": 1,
         "gridcolor": "rgb(0, 0, 0)",
         "side": "top",
         "ticks": ""
        },
        "yaxis": {
         "dtick": 1,
         "ticks": "",
         "ticksuffix": "  "
        }
       }
      }
     },
     "metadata": {},
     "output_type": "display_data"
    },
    {
     "name": "stdout",
     "output_type": "stream",
     "text": [
      "📊 Statistical Analysis Results:\n",
      "==================================================\n",
      "Chi-square test (Coffee Type vs Payment Method):\n",
      "Chi-square statistic: 6.0025\n",
      "P-value: 0.5395\n",
      "Degrees of freedom: 7\n",
      "Significant association: No\n",
      "\n",
      "ANOVA test (Price differences across coffee types):\n",
      "F-statistic: 725.1820\n",
      "P-value: 0.0000\n",
      "Significant differences: Yes\n",
      "\n",
      "T-test (Weekend vs Weekday average transaction):\n",
      "T-statistic: 2.2546\n",
      "P-value: 0.0243\n",
      "Significant difference: Yes\n",
      "Weekend mean: $33.66\n",
      "Weekday mean: $32.90\n"
     ]
    }
   ],
   "source": [
    "# Create numerical correlation matrix\n",
    "numerical_cols = ['money', 'hour', 'day_of_week_num', 'month', 'week']\n",
    "correlation_matrix = df_processed[numerical_cols].corr()\n",
    "\n",
    "# Interactive correlation heatmap\n",
    "fig = ff.create_annotated_heatmap(\n",
    "    z=correlation_matrix.values,\n",
    "    x=list(correlation_matrix.columns),\n",
    "    y=list(correlation_matrix.index),\n",
    "    annotation_text=correlation_matrix.round(3).values,\n",
    "    showscale=True,\n",
    "    colorscale='RdBu'\n",
    ")\n",
    "fig.update_layout(title='Correlation Matrix of Numerical Variables')\n",
    "fig.show()\n",
    "\n",
    "# --- Statistical Tests ---\n",
    "print(\"📊 Statistical Analysis Results:\")\n",
    "print(\"=\" * 50)\n",
    "\n",
    "# Chi-square test for coffee type vs payment method\n",
    "contingency_table = pd.crosstab(df_processed['coffee_name'], df_processed['cash_type'])\n",
    "chi2, p_value, dof, expected = chi2_contingency(contingency_table)\n",
    "print(f\"Chi-square test (Coffee Type vs Payment Method):\")\n",
    "print(f\"Chi-square statistic: {chi2:.4f}\")\n",
    "print(f\"P-value: {p_value:.4f}\")\n",
    "print(f\"Degrees of freedom: {dof}\")\n",
    "print(f\"Significant association: {'Yes' if p_value < 0.05 else 'No'}\\n\")\n",
    "\n",
    "# ANOVA for price differences across coffee types\n",
    "coffee_groups = [df_processed[df_processed['coffee_name'] == coffee]['money'].values \n",
    "                for coffee in df_processed['coffee_name'].unique()]\n",
    "f_stat, p_value_anova = stats.f_oneway(*coffee_groups)\n",
    "print(f\"ANOVA test (Price differences across coffee types):\")\n",
    "print(f\"F-statistic: {f_stat:.4f}\")\n",
    "print(f\"P-value: {p_value_anova:.4f}\")\n",
    "print(f\"Significant differences: {'Yes' if p_value_anova < 0.05 else 'No'}\\n\")\n",
    "\n",
    "# T-test for weekend vs weekday sales\n",
    "weekend_sales = df_processed[df_processed['is_weekend']]['money']\n",
    "weekday_sales = df_processed[~df_processed['is_weekend']]['money']\n",
    "t_stat, p_value_ttest = stats.ttest_ind(weekend_sales, weekday_sales)\n",
    "print(f\"T-test (Weekend vs Weekday average transaction):\")\n",
    "print(f\"T-statistic: {t_stat:.4f}\")\n",
    "print(f\"P-value: {p_value_ttest:.4f}\")\n",
    "print(f\"Significant difference: {'Yes' if p_value_ttest < 0.05 else 'No'}\")\n",
    "print(f\"Weekend mean: ${weekend_sales.mean():.2f}\")\n",
    "print(f\"Weekday mean: ${weekday_sales.mean():.2f}\")"
   ]
  },
  {
   "cell_type": "markdown",
   "metadata": {},
   "source": [
    "## 4. Advanced Customer Segmentation\n",
    "\n",
    "### Segmentation Approach\n",
    "\n",
    "We use **K-Means clustering**, an unsupervised machine learning algorithm, to group customers into distinct segments. The segmentation is based on the following key behavioral features:\n",
    "\n",
    "- **Total_Spent**: Total monetary value of a customer.\n",
    "- **Visit_Frequency**: Total number of transactions.\n",
    "- **Avg_Transaction**: Average value per transaction.\n",
    "- **Days_Since_Last**: Recency of the last purchase.\n",
    "\n",
    "These features provide a comprehensive view of a customer's purchasing habits. We chose **k=4** clusters as it provided a clear and actionable separation of customers into archetypes: *VIP*, *Regular*, *Occasional*, and *At-Risk*."
   ]
  },
  {
   "cell_type": "code",
   "execution_count": 7,
   "metadata": {},
   "outputs": [
    {
     "data": {
      "application/vnd.plotly.v1+json": {
       "config": {
        "plotlyServerURL": "https://plot.ly"
       },
       "data": [
        {
         "customdata": [
          [
           "ANON-0000-0000-0001",
           "Latte"
          ],
          [
           "ANON-0000-0000-0019",
           "Latte"
          ],
          [
           "ANON-0000-0000-0024",
           "Americano with Milk"
          ],
          [
           "ANON-0000-0000-0025",
           "Cappuccino"
          ],
          [
           "ANON-0000-0000-0026",
           "Cocoa"
          ],
          [
           "ANON-0000-0000-0040",
           "Americano with Milk"
          ],
          [
           "ANON-0000-0000-0042",
           "Americano with Milk"
          ],
          [
           "ANON-0000-0000-0058",
           "Cocoa"
          ],
          [
           "ANON-0000-0000-0069",
           "Latte"
          ],
          [
           "ANON-0000-0000-0077",
           "Latte"
          ],
          [
           "ANON-0000-0000-0081",
           "Hot Chocolate"
          ],
          [
           "ANON-0000-0000-0097",
           "Americano with Milk"
          ],
          [
           "ANON-0000-0000-0115",
           "Cappuccino"
          ],
          [
           "ANON-0000-0000-0118",
           "Americano"
          ],
          [
           "ANON-0000-0000-0120",
           "Cappuccino"
          ],
          [
           "ANON-0000-0000-0134",
           "Cappuccino"
          ],
          [
           "ANON-0000-0000-0148",
           "Americano"
          ],
          [
           "ANON-0000-0000-0153",
           "Cappuccino"
          ],
          [
           "ANON-0000-0000-0154",
           "Cappuccino"
          ],
          [
           "ANON-0000-0000-0155",
           "Cappuccino"
          ],
          [
           "ANON-0000-0000-0156",
           "Latte"
          ],
          [
           "ANON-0000-0000-0158",
           "Latte"
          ],
          [
           "ANON-0000-0000-0159",
           "Latte"
          ],
          [
           "ANON-0000-0000-0160",
           "Latte"
          ],
          [
           "ANON-0000-0000-0162",
           "Americano with Milk"
          ],
          [
           "ANON-0000-0000-0163",
           "Americano with Milk"
          ],
          [
           "ANON-0000-0000-0164",
           "Americano with Milk"
          ],
          [
           "ANON-0000-0000-0165",
           "Cappuccino"
          ],
          [
           "ANON-0000-0000-0166",
           "Americano with Milk"
          ],
          [
           "ANON-0000-0000-0167",
           "Hot Chocolate"
          ],
          [
           "ANON-0000-0000-0168",
           "Latte"
          ],
          [
           "ANON-0000-0000-0171",
           "Cappuccino"
          ],
          [
           "ANON-0000-0000-0172",
           "Americano with Milk"
          ],
          [
           "ANON-0000-0000-0173",
           "Americano with Milk"
          ],
          [
           "ANON-0000-0000-0174",
           "Hot Chocolate"
          ],
          [
           "ANON-0000-0000-0175",
           "Hot Chocolate"
          ],
          [
           "ANON-0000-0000-0176",
           "Cappuccino"
          ],
          [
           "ANON-0000-0000-0178",
           "Hot Chocolate"
          ],
          [
           "ANON-0000-0000-0179",
           "Hot Chocolate"
          ],
          [
           "ANON-0000-0000-0180",
           "Cappuccino"
          ],
          [
           "ANON-0000-0000-0181",
           "Americano with Milk"
          ],
          [
           "ANON-0000-0000-0183",
           "Cappuccino"
          ],
          [
           "ANON-0000-0000-0184",
           "Americano with Milk"
          ],
          [
           "ANON-0000-0000-0185",
           "Americano with Milk"
          ],
          [
           "ANON-0000-0000-0186",
           "Americano with Milk"
          ],
          [
           "ANON-0000-0000-0187",
           "Cappuccino"
          ],
          [
           "ANON-0000-0000-0188",
           "Cappuccino"
          ],
          [
           "ANON-0000-0000-0189",
           "Cappuccino"
          ],
          [
           "ANON-0000-0000-0190",
           "Americano with Milk"
          ],
          [
           "ANON-0000-0000-0191",
           "Latte"
          ],
          [
           "ANON-0000-0000-0192",
           "Americano with Milk"
          ],
          [
           "ANON-0000-0000-0193",
           "Latte"
          ],
          [
           "ANON-0000-0000-0194",
           "Americano with Milk"
          ],
          [
           "ANON-0000-0000-0196",
           "Latte"
          ],
          [
           "ANON-0000-0000-0197",
           "Latte"
          ],
          [
           "ANON-0000-0000-0198",
           "Cappuccino"
          ],
          [
           "ANON-0000-0000-0199",
           "Cappuccino"
          ],
          [
           "ANON-0000-0000-0200",
           "Cappuccino"
          ],
          [
           "ANON-0000-0000-0201",
           "Cappuccino"
          ],
          [
           "ANON-0000-0000-0203",
           "Cappuccino"
          ],
          [
           "ANON-0000-0000-0205",
           "Cappuccino"
          ],
          [
           "ANON-0000-0000-0206",
           "Cappuccino"
          ],
          [
           "ANON-0000-0000-0207",
           "Cappuccino"
          ],
          [
           "ANON-0000-0000-0208",
           "Americano with Milk"
          ],
          [
           "ANON-0000-0000-0210",
           "Americano with Milk"
          ],
          [
           "ANON-0000-0000-0211",
           "Latte"
          ],
          [
           "ANON-0000-0000-0212",
           "Americano with Milk"
          ],
          [
           "ANON-0000-0000-0213",
           "Americano with Milk"
          ],
          [
           "ANON-0000-0000-0214",
           "Americano with Milk"
          ],
          [
           "ANON-0000-0000-0216",
           "Americano with Milk"
          ],
          [
           "ANON-0000-0000-0217",
           "Cappuccino"
          ],
          [
           "ANON-0000-0000-0218",
           "Hot Chocolate"
          ],
          [
           "ANON-0000-0000-0219",
           "Latte"
          ],
          [
           "ANON-0000-0000-0220",
           "Cappuccino"
          ],
          [
           "ANON-0000-0000-0221",
           "Cortado"
          ],
          [
           "ANON-0000-0000-0222",
           "Cappuccino"
          ],
          [
           "ANON-0000-0000-0223",
           "Cappuccino"
          ],
          [
           "ANON-0000-0000-0224",
           "Americano with Milk"
          ],
          [
           "ANON-0000-0000-0227",
           "Latte"
          ],
          [
           "ANON-0000-0000-0228",
           "Latte"
          ],
          [
           "ANON-0000-0000-0229",
           "Cappuccino"
          ],
          [
           "ANON-0000-0000-0230",
           "Cappuccino"
          ],
          [
           "ANON-0000-0000-0231",
           "Americano"
          ],
          [
           "ANON-0000-0000-0232",
           "Latte"
          ],
          [
           "ANON-0000-0000-0233",
           "Hot Chocolate"
          ],
          [
           "ANON-0000-0000-0235",
           "Latte"
          ],
          [
           "ANON-0000-0000-0236",
           "Cappuccino"
          ],
          [
           "ANON-0000-0000-0237",
           "Latte"
          ],
          [
           "ANON-0000-0000-0238",
           "Cortado"
          ],
          [
           "ANON-0000-0000-0239",
           "Hot Chocolate"
          ],
          [
           "ANON-0000-0000-0240",
           "Cocoa"
          ],
          [
           "ANON-0000-0000-0241",
           "Cappuccino"
          ],
          [
           "ANON-0000-0000-0242",
           "Americano with Milk"
          ],
          [
           "ANON-0000-0000-0244",
           "Latte"
          ],
          [
           "ANON-0000-0000-0245",
           "Americano with Milk"
          ],
          [
           "ANON-0000-0000-0246",
           "Latte"
          ],
          [
           "ANON-0000-0000-0247",
           "Hot Chocolate"
          ],
          [
           "ANON-0000-0000-0248",
           "Cocoa"
          ],
          [
           "ANON-0000-0000-0249",
           "Americano with Milk"
          ],
          [
           "ANON-0000-0000-0250",
           "Latte"
          ],
          [
           "ANON-0000-0000-0251",
           "Americano with Milk"
          ],
          [
           "ANON-0000-0000-0252",
           "Cocoa"
          ],
          [
           "ANON-0000-0000-0253",
           "Latte"
          ],
          [
           "ANON-0000-0000-0254",
           "Hot Chocolate"
          ],
          [
           "ANON-0000-0000-0255",
           "Latte"
          ],
          [
           "ANON-0000-0000-0256",
           "Hot Chocolate"
          ],
          [
           "ANON-0000-0000-0257",
           "Cappuccino"
          ],
          [
           "ANON-0000-0000-0259",
           "Americano with Milk"
          ],
          [
           "ANON-0000-0000-0260",
           "Americano with Milk"
          ],
          [
           "ANON-0000-0000-0261",
           "Cappuccino"
          ],
          [
           "ANON-0000-0000-0263",
           "Americano with Milk"
          ],
          [
           "ANON-0000-0000-0264",
           "Latte"
          ],
          [
           "ANON-0000-0000-0266",
           "Cappuccino"
          ],
          [
           "ANON-0000-0000-0267",
           "Latte"
          ],
          [
           "ANON-0000-0000-0268",
           "Cappuccino"
          ],
          [
           "ANON-0000-0000-0270",
           "Cortado"
          ],
          [
           "ANON-0000-0000-0272",
           "Latte"
          ],
          [
           "ANON-0000-0000-0273",
           "Cappuccino"
          ],
          [
           "ANON-0000-0000-0275",
           "Cappuccino"
          ],
          [
           "ANON-0000-0000-0276",
           "Americano with Milk"
          ],
          [
           "ANON-0000-0000-0278",
           "Cappuccino"
          ],
          [
           "ANON-0000-0000-0279",
           "Americano with Milk"
          ],
          [
           "ANON-0000-0000-0281",
           "Cappuccino"
          ],
          [
           "ANON-0000-0000-0282",
           "Hot Chocolate"
          ],
          [
           "ANON-0000-0000-0283",
           "Latte"
          ],
          [
           "ANON-0000-0000-0284",
           "Americano with Milk"
          ],
          [
           "ANON-0000-0000-0285",
           "Latte"
          ],
          [
           "ANON-0000-0000-0286",
           "Hot Chocolate"
          ],
          [
           "ANON-0000-0000-0287",
           "Americano with Milk"
          ],
          [
           "ANON-0000-0000-0288",
           "Hot Chocolate"
          ],
          [
           "ANON-0000-0000-0289",
           "Cappuccino"
          ],
          [
           "ANON-0000-0000-0290",
           "Latte"
          ],
          [
           "ANON-0000-0000-0291",
           "Americano with Milk"
          ],
          [
           "ANON-0000-0000-0293",
           "Americano with Milk"
          ],
          [
           "ANON-0000-0000-0294",
           "Americano with Milk"
          ],
          [
           "ANON-0000-0000-0296",
           "Latte"
          ],
          [
           "ANON-0000-0000-0298",
           "Americano with Milk"
          ],
          [
           "ANON-0000-0000-0299",
           "Cappuccino"
          ],
          [
           "ANON-0000-0000-0300",
           "Americano with Milk"
          ],
          [
           "ANON-0000-0000-0301",
           "Americano with Milk"
          ],
          [
           "ANON-0000-0000-0303",
           "Hot Chocolate"
          ],
          [
           "ANON-0000-0000-0304",
           "Americano with Milk"
          ],
          [
           "ANON-0000-0000-0305",
           "Hot Chocolate"
          ],
          [
           "ANON-0000-0000-0306",
           "Hot Chocolate"
          ],
          [
           "ANON-0000-0000-0311",
           "Americano with Milk"
          ],
          [
           "ANON-0000-0000-0313",
           "Cocoa"
          ],
          [
           "ANON-0000-0000-0314",
           "Latte"
          ],
          [
           "ANON-0000-0000-0317",
           "Americano with Milk"
          ],
          [
           "ANON-0000-0000-0318",
           "Cappuccino"
          ],
          [
           "ANON-0000-0000-0319",
           "Cappuccino"
          ],
          [
           "ANON-0000-0000-0320",
           "Cappuccino"
          ],
          [
           "ANON-0000-0000-0321",
           "Latte"
          ],
          [
           "ANON-0000-0000-0322",
           "Latte"
          ],
          [
           "ANON-0000-0000-0323",
           "Latte"
          ],
          [
           "ANON-0000-0000-0326",
           "Americano with Milk"
          ],
          [
           "ANON-0000-0000-0329",
           "Americano with Milk"
          ],
          [
           "ANON-0000-0000-0330",
           "Americano with Milk"
          ],
          [
           "ANON-0000-0000-0331",
           "Latte"
          ],
          [
           "ANON-0000-0000-0332",
           "Cappuccino"
          ],
          [
           "ANON-0000-0000-0333",
           "Americano with Milk"
          ],
          [
           "ANON-0000-0000-0334",
           "Cappuccino"
          ],
          [
           "ANON-0000-0000-0335",
           "Cappuccino"
          ],
          [
           "ANON-0000-0000-0336",
           "Latte"
          ],
          [
           "ANON-0000-0000-0338",
           "Cappuccino"
          ],
          [
           "ANON-0000-0000-0339",
           "Cappuccino"
          ],
          [
           "ANON-0000-0000-0341",
           "Americano with Milk"
          ],
          [
           "ANON-0000-0000-0342",
           "Cappuccino"
          ],
          [
           "ANON-0000-0000-0343",
           "Cappuccino"
          ],
          [
           "ANON-0000-0000-0344",
           "Americano with Milk"
          ],
          [
           "ANON-0000-0000-0346",
           "Cappuccino"
          ],
          [
           "ANON-0000-0000-0351",
           "Americano with Milk"
          ],
          [
           "ANON-0000-0000-0352",
           "Latte"
          ],
          [
           "ANON-0000-0000-0354",
           "Cappuccino"
          ],
          [
           "ANON-0000-0000-0355",
           "Cocoa"
          ],
          [
           "ANON-0000-0000-0356",
           "Latte"
          ],
          [
           "ANON-0000-0000-0357",
           "Cappuccino"
          ],
          [
           "ANON-0000-0000-0358",
           "Hot Chocolate"
          ],
          [
           "ANON-0000-0000-0360",
           "Latte"
          ],
          [
           "ANON-0000-0000-0367",
           "Hot Chocolate"
          ],
          [
           "ANON-0000-0000-0369",
           "Latte"
          ],
          [
           "ANON-0000-0000-0372",
           "Hot Chocolate"
          ],
          [
           "ANON-0000-0000-0374",
           "Latte"
          ],
          [
           "ANON-0000-0000-0376",
           "Latte"
          ],
          [
           "ANON-0000-0000-0377",
           "Cappuccino"
          ],
          [
           "ANON-0000-0000-0382",
           "Cappuccino"
          ],
          [
           "ANON-0000-0000-0383",
           "Hot Chocolate"
          ],
          [
           "ANON-0000-0000-0384",
           "Latte"
          ],
          [
           "ANON-0000-0000-0389",
           "Latte"
          ],
          [
           "ANON-0000-0000-0391",
           "Latte"
          ],
          [
           "ANON-0000-0000-0392",
           "Cappuccino"
          ],
          [
           "ANON-0000-0000-0394",
           "Latte"
          ],
          [
           "ANON-0000-0000-0396",
           "Latte"
          ],
          [
           "ANON-0000-0000-0398",
           "Cocoa"
          ],
          [
           "ANON-0000-0000-0399",
           "Latte"
          ],
          [
           "ANON-0000-0000-0403",
           "Cappuccino"
          ],
          [
           "ANON-0000-0000-0405",
           "Cocoa"
          ],
          [
           "ANON-0000-0000-0406",
           "Latte"
          ],
          [
           "ANON-0000-0000-0408",
           "Latte"
          ],
          [
           "ANON-0000-0000-0409",
           "Latte"
          ],
          [
           "ANON-0000-0000-0411",
           "Cappuccino"
          ],
          [
           "ANON-0000-0000-0414",
           "Cappuccino"
          ],
          [
           "ANON-0000-0000-0415",
           "Cappuccino"
          ],
          [
           "ANON-0000-0000-0417",
           "Cappuccino"
          ],
          [
           "ANON-0000-0000-0418",
           "Latte"
          ],
          [
           "ANON-0000-0000-0420",
           "Cappuccino"
          ],
          [
           "ANON-0000-0000-0421",
           "Hot Chocolate"
          ],
          [
           "ANON-0000-0000-0422",
           "Cappuccino"
          ],
          [
           "ANON-0000-0000-0425",
           "Cappuccino"
          ],
          [
           "ANON-0000-0000-0431",
           "Latte"
          ],
          [
           "ANON-0000-0000-0435",
           "Latte"
          ],
          [
           "ANON-0000-0000-0440",
           "Latte"
          ],
          [
           "ANON-0000-0000-0442",
           "Cocoa"
          ],
          [
           "ANON-0000-0000-0444",
           "Latte"
          ],
          [
           "ANON-0000-0000-0445",
           "Latte"
          ],
          [
           "ANON-0000-0000-0446",
           "Latte"
          ]
         ],
         "hovertemplate": "Segment_Name=Regular<br>Total_Spent=%{x}<br>Visit_Frequency=%{y}<br>Avg_Transaction=%{z}<br>card=%{customdata[0]}<br>Favorite_Coffee=%{customdata[1]}<extra></extra>",
         "legendgroup": "Regular",
         "marker": {
          "color": "#636efa",
          "symbol": "circle"
         },
         "mode": "markers",
         "name": "Regular",
         "scene": "scene",
         "showlegend": true,
         "type": "scatter3d",
         "x": [
          646.14,
          253.26,
          422.26,
          151.86,
          76.42,
          706.36,
          71.52,
          76.42,
          191.54,
          174.88,
          76.42,
          882.22,
          76.42,
          186.14,
          115.12,
          405.12,
          159.2,
          259.14,
          301.76,
          37.72,
          141.08,
          75.44,
          37.72,
          37.72,
          32.82,
          32.82,
          234.64,
          75.44,
          70.54,
          37.72,
          37.72,
          37.72,
          65.64,
          32.82,
          37.72,
          75.44,
          37.72,
          70.54,
          70.54,
          442.84,
          32.82,
          37.72,
          32.82,
          32.82,
          93.56,
          37.72,
          37.72,
          37.72,
          32.82,
          108.26,
          239.54,
          37.72,
          169,
          37.72,
          70.54,
          37.72,
          37.72,
          37.72,
          37.72,
          188.6,
          103.36,
          314.98,
          75.44,
          32.82,
          32.82,
          37.72,
          65.64,
          32.82,
          32.82,
          32.82,
          37.72,
          103.36,
          37.72,
          141.08,
          65.64,
          37.72,
          37.72,
          103.36,
          37.72,
          37.72,
          37.72,
          37.72,
          65.64,
          75.44,
          37.72,
          37.72,
          37.72,
          37.72,
          65.64,
          37.72,
          37.72,
          75.44,
          32.82,
          37.72,
          32.82,
          37.72,
          37.72,
          37.72,
          32.82,
          145.98,
          65.64,
          37.72,
          37.72,
          75.44,
          37.72,
          75.44,
          108.26,
          32.82,
          98.46,
          75.44,
          32.82,
          37.72,
          37.72,
          113.16,
          37.72,
          126.38,
          37.72,
          37.72,
          37.72,
          285.58,
          37.72,
          32.82,
          37.72,
          75.44,
          113.16,
          32.82,
          75.44,
          37.72,
          65.64,
          37.72,
          37.72,
          37.72,
          32.82,
          32.82,
          32.82,
          37.72,
          32.82,
          103.36,
          164.1,
          32.82,
          145.98,
          126.38,
          37.72,
          37.72,
          141.08,
          75.44,
          75.44,
          32.82,
          37.72,
          37.72,
          75.44,
          37.72,
          37.72,
          37.72,
          32.82,
          70.54,
          32.82,
          37.72,
          37.72,
          93.56,
          75.44,
          75.44,
          37.72,
          37.72,
          103.36,
          32.82,
          37.72,
          37.72,
          32.82,
          37.72,
          70.54,
          37.72,
          65.64,
          65.64,
          32.82,
          32.82,
          32.82,
          32.82,
          98.46,
          32.82,
          32.82,
          32.82,
          32.82,
          32.82,
          32.82,
          65.64,
          229.74,
          32.82,
          32.82,
          32.82,
          32.82,
          32.82,
          32.82,
          98.46,
          32.82,
          32.82,
          32.82,
          65.64,
          32.82,
          32.82,
          32.82,
          32.82,
          32.82,
          32.82,
          32.82,
          65.64,
          32.82,
          32.82,
          32.82,
          32.82,
          32.82,
          32.82,
          32.82,
          32.82,
          32.82
         ],
         "y": [
          17,
          7,
          12,
          4,
          2,
          22,
          2,
          2,
          5,
          5,
          2,
          27,
          2,
          6,
          3,
          11,
          5,
          7,
          8,
          1,
          4,
          2,
          1,
          1,
          1,
          1,
          7,
          2,
          2,
          1,
          1,
          1,
          2,
          1,
          1,
          2,
          1,
          2,
          2,
          12,
          1,
          1,
          1,
          1,
          3,
          1,
          1,
          1,
          1,
          3,
          7,
          1,
          5,
          1,
          2,
          1,
          1,
          1,
          1,
          5,
          3,
          9,
          2,
          1,
          1,
          1,
          2,
          1,
          1,
          1,
          1,
          3,
          1,
          4,
          2,
          1,
          1,
          3,
          1,
          1,
          1,
          1,
          2,
          2,
          1,
          1,
          1,
          1,
          2,
          1,
          1,
          2,
          1,
          1,
          1,
          1,
          1,
          1,
          1,
          4,
          2,
          1,
          1,
          2,
          1,
          2,
          3,
          1,
          3,
          2,
          1,
          1,
          1,
          3,
          1,
          4,
          1,
          1,
          1,
          9,
          1,
          1,
          1,
          2,
          3,
          1,
          2,
          1,
          2,
          1,
          1,
          1,
          1,
          1,
          1,
          1,
          1,
          3,
          5,
          1,
          4,
          4,
          1,
          1,
          4,
          2,
          2,
          1,
          1,
          1,
          2,
          1,
          1,
          1,
          1,
          2,
          1,
          1,
          1,
          3,
          2,
          2,
          1,
          1,
          3,
          1,
          1,
          1,
          1,
          1,
          2,
          1,
          2,
          2,
          1,
          1,
          1,
          1,
          3,
          1,
          1,
          1,
          1,
          1,
          1,
          2,
          7,
          1,
          1,
          1,
          1,
          1,
          1,
          3,
          1,
          1,
          1,
          2,
          1,
          1,
          1,
          1,
          1,
          1,
          1,
          2,
          1,
          1,
          1,
          1,
          1,
          1,
          1,
          1,
          1
         ],
         "z": [
          38.01,
          36.18,
          35.19,
          37.97,
          38.21,
          32.11,
          35.76,
          38.21,
          38.31,
          34.98,
          38.21,
          32.67,
          38.21,
          31.02,
          38.37,
          36.83,
          31.84,
          37.02,
          37.72,
          37.72,
          35.27,
          37.72,
          37.72,
          37.72,
          32.82,
          32.82,
          33.52,
          37.72,
          35.27,
          37.72,
          37.72,
          37.72,
          32.82,
          32.82,
          37.72,
          37.72,
          37.72,
          35.27,
          35.27,
          36.9,
          32.82,
          37.72,
          32.82,
          32.82,
          31.19,
          37.72,
          37.72,
          37.72,
          32.82,
          36.09,
          34.22,
          37.72,
          33.8,
          37.72,
          35.27,
          37.72,
          37.72,
          37.72,
          37.72,
          37.72,
          34.45,
          35,
          37.72,
          32.82,
          32.82,
          37.72,
          32.82,
          32.82,
          32.82,
          32.82,
          37.72,
          34.45,
          37.72,
          35.27,
          32.82,
          37.72,
          37.72,
          34.45,
          37.72,
          37.72,
          37.72,
          37.72,
          32.82,
          37.72,
          37.72,
          37.72,
          37.72,
          37.72,
          32.82,
          37.72,
          37.72,
          37.72,
          32.82,
          37.72,
          32.82,
          37.72,
          37.72,
          37.72,
          32.82,
          36.49,
          32.82,
          37.72,
          37.72,
          37.72,
          37.72,
          37.72,
          36.09,
          32.82,
          32.82,
          37.72,
          32.82,
          37.72,
          37.72,
          37.72,
          37.72,
          31.6,
          37.72,
          37.72,
          37.72,
          31.73,
          37.72,
          32.82,
          37.72,
          37.72,
          37.72,
          32.82,
          37.72,
          37.72,
          32.82,
          37.72,
          37.72,
          37.72,
          32.82,
          32.82,
          32.82,
          37.72,
          32.82,
          34.45,
          32.82,
          32.82,
          36.49,
          31.6,
          37.72,
          37.72,
          35.27,
          37.72,
          37.72,
          32.82,
          37.72,
          37.72,
          37.72,
          37.72,
          37.72,
          37.72,
          32.82,
          35.27,
          32.82,
          37.72,
          37.72,
          31.19,
          37.72,
          37.72,
          37.72,
          37.72,
          34.45,
          32.82,
          37.72,
          37.72,
          32.82,
          37.72,
          35.27,
          37.72,
          32.82,
          32.82,
          32.82,
          32.82,
          32.82,
          32.82,
          32.82,
          32.82,
          32.82,
          32.82,
          32.82,
          32.82,
          32.82,
          32.82,
          32.82,
          32.82,
          32.82,
          32.82,
          32.82,
          32.82,
          32.82,
          32.82,
          32.82,
          32.82,
          32.82,
          32.82,
          32.82,
          32.82,
          32.82,
          32.82,
          32.82,
          32.82,
          32.82,
          32.82,
          32.82,
          32.82,
          32.82,
          32.82,
          32.82,
          32.82,
          32.82,
          32.82,
          32.82
         ]
        },
        {
         "customdata": [
          [
           "ANON-0000-0000-0002",
           "Hot Chocolate"
          ],
          [
           "ANON-0000-0000-0004",
           "Americano"
          ],
          [
           "ANON-0000-0000-0005",
           "Americano with Milk"
          ],
          [
           "ANON-0000-0000-0006",
           "Hot Chocolate"
          ],
          [
           "ANON-0000-0000-0007",
           "Americano with Milk"
          ],
          [
           "ANON-0000-0000-0008",
           "Americano with Milk"
          ],
          [
           "ANON-0000-0000-0010",
           "Americano"
          ],
          [
           "ANON-0000-0000-0011",
           "Americano with Milk"
          ],
          [
           "ANON-0000-0000-0013",
           "Americano"
          ],
          [
           "ANON-0000-0000-0014",
           "Americano with Milk"
          ],
          [
           "ANON-0000-0000-0015",
           "Latte"
          ],
          [
           "ANON-0000-0000-0016",
           "Cortado"
          ],
          [
           "ANON-0000-0000-0017",
           "Latte"
          ],
          [
           "ANON-0000-0000-0018",
           "Cocoa"
          ],
          [
           "ANON-0000-0000-0020",
           "Americano with Milk"
          ],
          [
           "ANON-0000-0000-0021",
           "Latte"
          ],
          [
           "ANON-0000-0000-0022",
           "Espresso"
          ],
          [
           "ANON-0000-0000-0023",
           "Latte"
          ],
          [
           "ANON-0000-0000-0027",
           "Hot Chocolate"
          ],
          [
           "ANON-0000-0000-0028",
           "Cortado"
          ],
          [
           "ANON-0000-0000-0029",
           "Cappuccino"
          ],
          [
           "ANON-0000-0000-0030",
           "Hot Chocolate"
          ],
          [
           "ANON-0000-0000-0031",
           "Latte"
          ],
          [
           "ANON-0000-0000-0032",
           "Americano"
          ],
          [
           "ANON-0000-0000-0034",
           "Cappuccino"
          ],
          [
           "ANON-0000-0000-0035",
           "Americano"
          ],
          [
           "ANON-0000-0000-0036",
           "Latte"
          ],
          [
           "ANON-0000-0000-0037",
           "Latte"
          ],
          [
           "ANON-0000-0000-0038",
           "Espresso"
          ],
          [
           "ANON-0000-0000-0039",
           "Americano"
          ],
          [
           "ANON-0000-0000-0041",
           "Latte"
          ],
          [
           "ANON-0000-0000-0043",
           "Cappuccino"
          ],
          [
           "ANON-0000-0000-0044",
           "Hot Chocolate"
          ],
          [
           "ANON-0000-0000-0045",
           "Espresso"
          ],
          [
           "ANON-0000-0000-0046",
           "Cortado"
          ],
          [
           "ANON-0000-0000-0047",
           "Americano"
          ],
          [
           "ANON-0000-0000-0048",
           "Cortado"
          ],
          [
           "ANON-0000-0000-0049",
           "Hot Chocolate"
          ],
          [
           "ANON-0000-0000-0050",
           "Americano"
          ],
          [
           "ANON-0000-0000-0051",
           "Americano"
          ],
          [
           "ANON-0000-0000-0052",
           "Americano with Milk"
          ],
          [
           "ANON-0000-0000-0053",
           "Espresso"
          ],
          [
           "ANON-0000-0000-0054",
           "Espresso"
          ],
          [
           "ANON-0000-0000-0055",
           "Latte"
          ],
          [
           "ANON-0000-0000-0056",
           "Americano with Milk"
          ],
          [
           "ANON-0000-0000-0057",
           "Espresso"
          ],
          [
           "ANON-0000-0000-0060",
           "Hot Chocolate"
          ],
          [
           "ANON-0000-0000-0061",
           "Americano"
          ],
          [
           "ANON-0000-0000-0062",
           "Americano with Milk"
          ],
          [
           "ANON-0000-0000-0063",
           "Cortado"
          ],
          [
           "ANON-0000-0000-0064",
           "Cortado"
          ],
          [
           "ANON-0000-0000-0065",
           "Latte"
          ],
          [
           "ANON-0000-0000-0066",
           "Americano with Milk"
          ],
          [
           "ANON-0000-0000-0067",
           "Cappuccino"
          ],
          [
           "ANON-0000-0000-0068",
           "Latte"
          ],
          [
           "ANON-0000-0000-0070",
           "Americano with Milk"
          ],
          [
           "ANON-0000-0000-0071",
           "Americano with Milk"
          ],
          [
           "ANON-0000-0000-0072",
           "Latte"
          ],
          [
           "ANON-0000-0000-0073",
           "Americano with Milk"
          ],
          [
           "ANON-0000-0000-0074",
           "Cappuccino"
          ],
          [
           "ANON-0000-0000-0075",
           "Americano with Milk"
          ],
          [
           "ANON-0000-0000-0076",
           "Americano with Milk"
          ],
          [
           "ANON-0000-0000-0078",
           "Latte"
          ],
          [
           "ANON-0000-0000-0079",
           "Cappuccino"
          ],
          [
           "ANON-0000-0000-0080",
           "Latte"
          ],
          [
           "ANON-0000-0000-0082",
           "Americano with Milk"
          ],
          [
           "ANON-0000-0000-0083",
           "Hot Chocolate"
          ],
          [
           "ANON-0000-0000-0084",
           "Cortado"
          ],
          [
           "ANON-0000-0000-0085",
           "Cappuccino"
          ],
          [
           "ANON-0000-0000-0086",
           "Latte"
          ],
          [
           "ANON-0000-0000-0087",
           "Latte"
          ],
          [
           "ANON-0000-0000-0088",
           "Cappuccino"
          ],
          [
           "ANON-0000-0000-0089",
           "Cappuccino"
          ],
          [
           "ANON-0000-0000-0090",
           "Hot Chocolate"
          ],
          [
           "ANON-0000-0000-0091",
           "Latte"
          ],
          [
           "ANON-0000-0000-0092",
           "Latte"
          ],
          [
           "ANON-0000-0000-0093",
           "Cappuccino"
          ],
          [
           "ANON-0000-0000-0094",
           "Cortado"
          ],
          [
           "ANON-0000-0000-0095",
           "Americano"
          ],
          [
           "ANON-0000-0000-0096",
           "Cortado"
          ],
          [
           "ANON-0000-0000-0098",
           "Cortado"
          ],
          [
           "ANON-0000-0000-0100",
           "Cortado"
          ],
          [
           "ANON-0000-0000-0101",
           "Americano with Milk"
          ],
          [
           "ANON-0000-0000-0102",
           "Americano with Milk"
          ],
          [
           "ANON-0000-0000-0103",
           "Cappuccino"
          ],
          [
           "ANON-0000-0000-0104",
           "Cappuccino"
          ],
          [
           "ANON-0000-0000-0105",
           "Americano"
          ],
          [
           "ANON-0000-0000-0106",
           "Cappuccino"
          ],
          [
           "ANON-0000-0000-0107",
           "Hot Chocolate"
          ],
          [
           "ANON-0000-0000-0109",
           "Latte"
          ],
          [
           "ANON-0000-0000-0110",
           "Americano"
          ],
          [
           "ANON-0000-0000-0111",
           "Cappuccino"
          ],
          [
           "ANON-0000-0000-0112",
           "Cappuccino"
          ],
          [
           "ANON-0000-0000-0113",
           "Cappuccino"
          ],
          [
           "ANON-0000-0000-0114",
           "Cortado"
          ],
          [
           "ANON-0000-0000-0116",
           "Americano with Milk"
          ],
          [
           "ANON-0000-0000-0117",
           "Cocoa"
          ],
          [
           "ANON-0000-0000-0121",
           "Cortado"
          ],
          [
           "ANON-0000-0000-0122",
           "Americano with Milk"
          ],
          [
           "ANON-0000-0000-0123",
           "Cappuccino"
          ],
          [
           "ANON-0000-0000-0124",
           "Cappuccino"
          ],
          [
           "ANON-0000-0000-0125",
           "Americano with Milk"
          ],
          [
           "ANON-0000-0000-0126",
           "Americano with Milk"
          ],
          [
           "ANON-0000-0000-0127",
           "Cappuccino"
          ],
          [
           "ANON-0000-0000-0128",
           "Latte"
          ],
          [
           "ANON-0000-0000-0129",
           "Americano with Milk"
          ],
          [
           "ANON-0000-0000-0130",
           "Americano with Milk"
          ],
          [
           "ANON-0000-0000-0131",
           "Americano with Milk"
          ],
          [
           "ANON-0000-0000-0132",
           "Americano with Milk"
          ],
          [
           "ANON-0000-0000-0133",
           "Americano with Milk"
          ],
          [
           "ANON-0000-0000-0136",
           "Latte"
          ],
          [
           "ANON-0000-0000-0137",
           "Cappuccino"
          ],
          [
           "ANON-0000-0000-0140",
           "Cappuccino"
          ],
          [
           "ANON-0000-0000-0142",
           "Americano with Milk"
          ],
          [
           "ANON-0000-0000-0144",
           "Cappuccino"
          ],
          [
           "ANON-0000-0000-0145",
           "Cappuccino"
          ],
          [
           "ANON-0000-0000-0146",
           "Latte"
          ],
          [
           "ANON-0000-0000-0147",
           "Latte"
          ],
          [
           "ANON-0000-0000-0149",
           "Americano with Milk"
          ],
          [
           "ANON-0000-0000-0151",
           "Cappuccino"
          ]
         ],
         "hovertemplate": "Segment_Name=At-Risk<br>Total_Spent=%{x}<br>Visit_Frequency=%{y}<br>Avg_Transaction=%{z}<br>card=%{customdata[0]}<br>Favorite_Coffee=%{customdata[1]}<extra></extra>",
         "legendgroup": "At-Risk",
         "marker": {
          "color": "#EF553B",
          "symbol": "circle"
         },
         "mode": "markers",
         "name": "At-Risk",
         "scene": "scene",
         "showlegend": true,
         "type": "scatter3d",
         "x": [
          77.4,
          289.5,
          33.8,
          38.7,
          33.8,
          72.5,
          28.9,
          33.8,
          28.9,
          33.8,
          38.7,
          28.9,
          232.2,
          38.7,
          106.3,
          38.7,
          24,
          38.7,
          38.7,
          67.6,
          77.4,
          38.7,
          38.7,
          57.8,
          38.7,
          67.6,
          38.7,
          38.7,
          24,
          28.9,
          38.7,
          67.6,
          38.7,
          24,
          67.6,
          67.6,
          67.6,
          145,
          188.1,
          57.8,
          33.8,
          48,
          24,
          154.8,
          33.8,
          24,
          38.7,
          62.7,
          33.8,
          28.9,
          86.7,
          77.4,
          33.8,
          38.7,
          38.7,
          33.8,
          33.8,
          38.7,
          33.8,
          77.4,
          33.8,
          72.5,
          38.7,
          38.7,
          38.7,
          33.8,
          38.7,
          28.9,
          67.6,
          38.7,
          38.7,
          77.4,
          38.7,
          38.7,
          116.1,
          38.7,
          38.7,
          28.9,
          28.9,
          28.9,
          67.6,
          52.9,
          72.5,
          33.8,
          38.7,
          38.7,
          28.9,
          77.4,
          38.7,
          38.7,
          57.8,
          77.4,
          38.7,
          38.7,
          28.9,
          33.8,
          38.7,
          28.9,
          62.7,
          77.4,
          77.4,
          67.6,
          32.82,
          75.44,
          37.72,
          32.82,
          65.64,
          32.82,
          32.82,
          65.64,
          37.72,
          37.72,
          75.44,
          272.36,
          37.72,
          75.44,
          37.72,
          37.72,
          70.54,
          75.44
         ],
         "y": [
          2,
          9,
          1,
          1,
          1,
          2,
          1,
          1,
          1,
          1,
          1,
          1,
          6,
          1,
          3,
          1,
          1,
          1,
          1,
          2,
          2,
          1,
          1,
          2,
          1,
          2,
          1,
          1,
          1,
          1,
          1,
          2,
          1,
          1,
          2,
          2,
          2,
          4,
          6,
          2,
          1,
          2,
          1,
          4,
          1,
          1,
          1,
          2,
          1,
          1,
          3,
          2,
          1,
          1,
          1,
          1,
          1,
          1,
          1,
          2,
          1,
          2,
          1,
          1,
          1,
          1,
          1,
          1,
          2,
          1,
          1,
          2,
          1,
          1,
          3,
          1,
          1,
          1,
          1,
          1,
          2,
          2,
          2,
          1,
          1,
          1,
          1,
          2,
          1,
          1,
          2,
          2,
          1,
          1,
          1,
          1,
          1,
          1,
          2,
          2,
          2,
          2,
          1,
          2,
          1,
          1,
          2,
          1,
          1,
          2,
          1,
          1,
          2,
          8,
          1,
          2,
          1,
          1,
          2,
          2
         ],
         "z": [
          38.7,
          32.17,
          33.8,
          38.7,
          33.8,
          36.25,
          28.9,
          33.8,
          28.9,
          33.8,
          38.7,
          28.9,
          38.7,
          38.7,
          35.43,
          38.7,
          24,
          38.7,
          38.7,
          33.8,
          38.7,
          38.7,
          38.7,
          28.9,
          38.7,
          33.8,
          38.7,
          38.7,
          24,
          28.9,
          38.7,
          33.8,
          38.7,
          24,
          33.8,
          33.8,
          33.8,
          36.25,
          31.35,
          28.9,
          33.8,
          24,
          24,
          38.7,
          33.8,
          24,
          38.7,
          31.35,
          33.8,
          28.9,
          28.9,
          38.7,
          33.8,
          38.7,
          38.7,
          33.8,
          33.8,
          38.7,
          33.8,
          38.7,
          33.8,
          36.25,
          38.7,
          38.7,
          38.7,
          33.8,
          38.7,
          28.9,
          33.8,
          38.7,
          38.7,
          38.7,
          38.7,
          38.7,
          38.7,
          38.7,
          38.7,
          28.9,
          28.9,
          28.9,
          33.8,
          26.45,
          36.25,
          33.8,
          38.7,
          38.7,
          28.9,
          38.7,
          38.7,
          38.7,
          28.9,
          38.7,
          38.7,
          38.7,
          28.9,
          33.8,
          38.7,
          28.9,
          31.35,
          38.7,
          38.7,
          33.8,
          32.82,
          37.72,
          37.72,
          32.82,
          32.82,
          32.82,
          32.82,
          32.82,
          37.72,
          37.72,
          37.72,
          34.04,
          37.72,
          37.72,
          37.72,
          37.72,
          35.27,
          37.72
         ]
        },
        {
         "customdata": [
          [
           "ANON-0000-0000-0003",
           "Americano"
          ],
          [
           "ANON-0000-0000-0033",
           "Americano"
          ],
          [
           "ANON-0000-0000-0059",
           "Americano with Milk"
          ],
          [
           "ANON-0000-0000-0099",
           "Americano"
          ],
          [
           "ANON-0000-0000-0108",
           "Espresso"
          ],
          [
           "ANON-0000-0000-0119",
           "Espresso"
          ],
          [
           "ANON-0000-0000-0135",
           "Americano"
          ],
          [
           "ANON-0000-0000-0138",
           "Cortado"
          ],
          [
           "ANON-0000-0000-0139",
           "Americano"
          ],
          [
           "ANON-0000-0000-0141",
           "Cortado"
          ],
          [
           "ANON-0000-0000-0143",
           "Americano"
          ],
          [
           "ANON-0000-0000-0150",
           "Americano"
          ],
          [
           "ANON-0000-0000-0152",
           "Americano"
          ],
          [
           "ANON-0000-0000-0157",
           "Americano"
          ],
          [
           "ANON-0000-0000-0161",
           "Americano"
          ],
          [
           "ANON-0000-0000-0169",
           "Cortado"
          ],
          [
           "ANON-0000-0000-0170",
           "Espresso"
          ],
          [
           "ANON-0000-0000-0177",
           "Americano"
          ],
          [
           "ANON-0000-0000-0182",
           "Americano"
          ],
          [
           "ANON-0000-0000-0195",
           "Cortado"
          ],
          [
           "ANON-0000-0000-0202",
           "Espresso"
          ],
          [
           "ANON-0000-0000-0204",
           "Cortado"
          ],
          [
           "ANON-0000-0000-0209",
           "Cortado"
          ],
          [
           "ANON-0000-0000-0215",
           "Cortado"
          ],
          [
           "ANON-0000-0000-0225",
           "Americano"
          ],
          [
           "ANON-0000-0000-0226",
           "Americano"
          ],
          [
           "ANON-0000-0000-0234",
           "Americano"
          ],
          [
           "ANON-0000-0000-0243",
           "Espresso"
          ],
          [
           "ANON-0000-0000-0258",
           "Cortado"
          ],
          [
           "ANON-0000-0000-0262",
           "Americano"
          ],
          [
           "ANON-0000-0000-0265",
           "Americano"
          ],
          [
           "ANON-0000-0000-0269",
           "Espresso"
          ],
          [
           "ANON-0000-0000-0271",
           "Cortado"
          ],
          [
           "ANON-0000-0000-0274",
           "Espresso"
          ],
          [
           "ANON-0000-0000-0277",
           "Cortado"
          ],
          [
           "ANON-0000-0000-0280",
           "Americano"
          ],
          [
           "ANON-0000-0000-0292",
           "Americano"
          ],
          [
           "ANON-0000-0000-0295",
           "Espresso"
          ],
          [
           "ANON-0000-0000-0297",
           "Americano"
          ],
          [
           "ANON-0000-0000-0302",
           "Americano"
          ],
          [
           "ANON-0000-0000-0307",
           "Americano"
          ],
          [
           "ANON-0000-0000-0308",
           "Cortado"
          ],
          [
           "ANON-0000-0000-0309",
           "Americano"
          ],
          [
           "ANON-0000-0000-0310",
           "Cortado"
          ],
          [
           "ANON-0000-0000-0312",
           "Americano"
          ],
          [
           "ANON-0000-0000-0315",
           "Americano"
          ],
          [
           "ANON-0000-0000-0316",
           "Espresso"
          ],
          [
           "ANON-0000-0000-0324",
           "Espresso"
          ],
          [
           "ANON-0000-0000-0325",
           "Americano"
          ],
          [
           "ANON-0000-0000-0327",
           "Cortado"
          ],
          [
           "ANON-0000-0000-0328",
           "Americano with Milk"
          ],
          [
           "ANON-0000-0000-0337",
           "Espresso"
          ],
          [
           "ANON-0000-0000-0340",
           "Americano"
          ],
          [
           "ANON-0000-0000-0345",
           "Espresso"
          ],
          [
           "ANON-0000-0000-0347",
           "Americano with Milk"
          ],
          [
           "ANON-0000-0000-0348",
           "Espresso"
          ],
          [
           "ANON-0000-0000-0349",
           "Espresso"
          ],
          [
           "ANON-0000-0000-0350",
           "Americano"
          ],
          [
           "ANON-0000-0000-0353",
           "Americano with Milk"
          ],
          [
           "ANON-0000-0000-0359",
           "Americano with Milk"
          ],
          [
           "ANON-0000-0000-0361",
           "Americano"
          ],
          [
           "ANON-0000-0000-0362",
           "Americano"
          ],
          [
           "ANON-0000-0000-0363",
           "Americano with Milk"
          ],
          [
           "ANON-0000-0000-0364",
           "Americano with Milk"
          ],
          [
           "ANON-0000-0000-0365",
           "Latte"
          ],
          [
           "ANON-0000-0000-0366",
           "Americano with Milk"
          ],
          [
           "ANON-0000-0000-0368",
           "Americano with Milk"
          ],
          [
           "ANON-0000-0000-0370",
           "Americano"
          ],
          [
           "ANON-0000-0000-0371",
           "Cortado"
          ],
          [
           "ANON-0000-0000-0373",
           "Americano"
          ],
          [
           "ANON-0000-0000-0375",
           "Americano"
          ],
          [
           "ANON-0000-0000-0378",
           "Americano with Milk"
          ],
          [
           "ANON-0000-0000-0379",
           "Americano with Milk"
          ],
          [
           "ANON-0000-0000-0380",
           "Americano with Milk"
          ],
          [
           "ANON-0000-0000-0381",
           "Espresso"
          ],
          [
           "ANON-0000-0000-0385",
           "Americano with Milk"
          ],
          [
           "ANON-0000-0000-0386",
           "Americano with Milk"
          ],
          [
           "ANON-0000-0000-0387",
           "Americano"
          ],
          [
           "ANON-0000-0000-0388",
           "Americano"
          ],
          [
           "ANON-0000-0000-0390",
           "Americano"
          ],
          [
           "ANON-0000-0000-0393",
           "Cortado"
          ],
          [
           "ANON-0000-0000-0395",
           "Americano"
          ],
          [
           "ANON-0000-0000-0397",
           "Americano with Milk"
          ],
          [
           "ANON-0000-0000-0400",
           "Americano with Milk"
          ],
          [
           "ANON-0000-0000-0401",
           "Americano with Milk"
          ],
          [
           "ANON-0000-0000-0402",
           "Espresso"
          ],
          [
           "ANON-0000-0000-0404",
           "Cortado"
          ],
          [
           "ANON-0000-0000-0407",
           "Cortado"
          ],
          [
           "ANON-0000-0000-0410",
           "Americano"
          ],
          [
           "ANON-0000-0000-0412",
           "Americano with Milk"
          ],
          [
           "ANON-0000-0000-0413",
           "Americano with Milk"
          ],
          [
           "ANON-0000-0000-0416",
           "Americano with Milk"
          ],
          [
           "ANON-0000-0000-0419",
           "Americano with Milk"
          ],
          [
           "ANON-0000-0000-0423",
           "Americano with Milk"
          ],
          [
           "ANON-0000-0000-0424",
           "Cortado"
          ],
          [
           "ANON-0000-0000-0426",
           "Americano"
          ],
          [
           "ANON-0000-0000-0427",
           "Americano with Milk"
          ],
          [
           "ANON-0000-0000-0428",
           "Americano with Milk"
          ],
          [
           "ANON-0000-0000-0429",
           "Americano with Milk"
          ],
          [
           "ANON-0000-0000-0430",
           "Americano with Milk"
          ],
          [
           "ANON-0000-0000-0432",
           "Americano with Milk"
          ],
          [
           "ANON-0000-0000-0433",
           "Americano with Milk"
          ],
          [
           "ANON-0000-0000-0434",
           "Espresso"
          ],
          [
           "ANON-0000-0000-0436",
           "Americano"
          ],
          [
           "ANON-0000-0000-0437",
           "Americano with Milk"
          ],
          [
           "ANON-0000-0000-0438",
           "Americano with Milk"
          ],
          [
           "ANON-0000-0000-0439",
           "Cortado"
          ],
          [
           "ANON-0000-0000-0441",
           "Cortado"
          ],
          [
           "ANON-0000-0000-0443",
           "Cortado"
          ]
         ],
         "hovertemplate": "Segment_Name=Occasional<br>Total_Spent=%{x}<br>Visit_Frequency=%{y}<br>Avg_Transaction=%{z}<br>card=%{customdata[0]}<br>Favorite_Coffee=%{customdata[1]}<extra></extra>",
         "legendgroup": "Occasional",
         "marker": {
          "color": "#00cc96",
          "symbol": "circle"
         },
         "mode": "markers",
         "name": "Occasional",
         "scene": "scene",
         "showlegend": true,
         "type": "scatter3d",
         "x": [
          651.96,
          148.42,
          337,
          112.66,
          24,
          24,
          27.92,
          27.92,
          27.92,
          474.64,
          149.4,
          27.92,
          27.92,
          27.92,
          27.92,
          27.92,
          23.02,
          60.74,
          55.84,
          27.92,
          23.02,
          27.92,
          55.84,
          27.92,
          73.96,
          27.92,
          27.92,
          23.02,
          27.92,
          27.92,
          27.92,
          23.02,
          27.92,
          69.06,
          27.92,
          27.92,
          27.92,
          60.74,
          27.92,
          27.92,
          27.92,
          55.84,
          27.92,
          27.92,
          27.92,
          27.92,
          23.02,
          23.02,
          27.92,
          27.92,
          121.48,
          23.02,
          27.92,
          23.02,
          60.74,
          23.02,
          23.02,
          55.84,
          55.84,
          27.92,
          23.02,
          23.02,
          27.92,
          27.92,
          88.66,
          27.92,
          27.92,
          23.02,
          23.02,
          83.76,
          147.92,
          27.92,
          88.66,
          27.92,
          18.12,
          139.6,
          60.74,
          78.86,
          78.86,
          23.02,
          23.02,
          46.04,
          27.92,
          27.92,
          60.74,
          18.12,
          41.14,
          46.04,
          23.02,
          27.92,
          27.92,
          55.84,
          27.92,
          55.84,
          23.02,
          41.14,
          27.92,
          27.92,
          27.92,
          27.92,
          27.92,
          50.94,
          18.12,
          55.84,
          55.84,
          27.92,
          23.02,
          23.02,
          78.86
         ],
         "y": [
          23,
          5,
          12,
          4,
          1,
          1,
          1,
          1,
          1,
          17,
          5,
          1,
          1,
          1,
          1,
          1,
          1,
          2,
          2,
          1,
          1,
          1,
          2,
          1,
          3,
          1,
          1,
          1,
          1,
          1,
          1,
          1,
          1,
          3,
          1,
          1,
          1,
          2,
          1,
          1,
          1,
          2,
          1,
          1,
          1,
          1,
          1,
          1,
          1,
          1,
          4,
          1,
          1,
          1,
          2,
          1,
          1,
          2,
          2,
          1,
          1,
          1,
          1,
          1,
          3,
          1,
          1,
          1,
          1,
          3,
          6,
          1,
          3,
          1,
          1,
          5,
          2,
          3,
          3,
          1,
          1,
          2,
          1,
          1,
          2,
          1,
          2,
          2,
          1,
          1,
          1,
          2,
          1,
          2,
          1,
          2,
          1,
          1,
          1,
          1,
          1,
          2,
          1,
          2,
          2,
          1,
          1,
          1,
          3
         ],
         "z": [
          28.35,
          29.68,
          28.08,
          28.16,
          24,
          24,
          27.92,
          27.92,
          27.92,
          27.92,
          29.88,
          27.92,
          27.92,
          27.92,
          27.92,
          27.92,
          23.02,
          30.37,
          27.92,
          27.92,
          23.02,
          27.92,
          27.92,
          27.92,
          24.65,
          27.92,
          27.92,
          23.02,
          27.92,
          27.92,
          27.92,
          23.02,
          27.92,
          23.02,
          27.92,
          27.92,
          27.92,
          30.37,
          27.92,
          27.92,
          27.92,
          27.92,
          27.92,
          27.92,
          27.92,
          27.92,
          23.02,
          23.02,
          27.92,
          27.92,
          30.37,
          23.02,
          27.92,
          23.02,
          30.37,
          23.02,
          23.02,
          27.92,
          27.92,
          27.92,
          23.02,
          23.02,
          27.92,
          27.92,
          29.55,
          27.92,
          27.92,
          23.02,
          23.02,
          27.92,
          24.65,
          27.92,
          29.55,
          27.92,
          18.12,
          27.92,
          30.37,
          26.29,
          26.29,
          23.02,
          23.02,
          23.02,
          27.92,
          27.92,
          30.37,
          18.12,
          20.57,
          23.02,
          23.02,
          27.92,
          27.92,
          27.92,
          27.92,
          27.92,
          23.02,
          20.57,
          27.92,
          27.92,
          27.92,
          27.92,
          27.92,
          25.47,
          18.12,
          27.92,
          27.92,
          27.92,
          23.02,
          23.02,
          26.29
         ]
        },
        {
         "customdata": [
          [
           "ANON-0000-0000-0009",
           "Latte"
          ],
          [
           "ANON-0000-0000-0012",
           "Americano"
          ]
         ],
         "hovertemplate": "Segment_Name=VIP<br>Total_Spent=%{x}<br>Visit_Frequency=%{y}<br>Avg_Transaction=%{z}<br>card=%{customdata[0]}<br>Favorite_Coffee=%{customdata[1]}<extra></extra>",
         "legendgroup": "VIP",
         "marker": {
          "color": "#ab63fa",
          "symbol": "circle"
         },
         "mode": "markers",
         "name": "VIP",
         "scene": "scene",
         "showlegend": true,
         "type": "scatter3d",
         "x": [
          2212.7,
          2593.18
         ],
         "y": [
          63,
          88
         ],
         "z": [
          35.12,
          29.47
         ]
        }
       ],
       "layout": {
        "legend": {
         "title": {
          "text": "Segment_Name"
         },
         "tracegroupgap": 0
        },
        "scene": {
         "domain": {
          "x": [
           0,
           1
          ],
          "y": [
           0,
           1
          ]
         },
         "xaxis": {
          "title": {
           "text": "Total_Spent"
          }
         },
         "yaxis": {
          "title": {
           "text": "Visit_Frequency"
          }
         },
         "zaxis": {
          "title": {
           "text": "Avg_Transaction"
          }
         }
        },
        "template": {
         "data": {
          "bar": [
           {
            "error_x": {
             "color": "#2a3f5f"
            },
            "error_y": {
             "color": "#2a3f5f"
            },
            "marker": {
             "line": {
              "color": "#E5ECF6",
              "width": 0.5
             },
             "pattern": {
              "fillmode": "overlay",
              "size": 10,
              "solidity": 0.2
             }
            },
            "type": "bar"
           }
          ],
          "barpolar": [
           {
            "marker": {
             "line": {
              "color": "#E5ECF6",
              "width": 0.5
             },
             "pattern": {
              "fillmode": "overlay",
              "size": 10,
              "solidity": 0.2
             }
            },
            "type": "barpolar"
           }
          ],
          "carpet": [
           {
            "aaxis": {
             "endlinecolor": "#2a3f5f",
             "gridcolor": "white",
             "linecolor": "white",
             "minorgridcolor": "white",
             "startlinecolor": "#2a3f5f"
            },
            "baxis": {
             "endlinecolor": "#2a3f5f",
             "gridcolor": "white",
             "linecolor": "white",
             "minorgridcolor": "white",
             "startlinecolor": "#2a3f5f"
            },
            "type": "carpet"
           }
          ],
          "choropleth": [
           {
            "colorbar": {
             "outlinewidth": 0,
             "ticks": ""
            },
            "type": "choropleth"
           }
          ],
          "contour": [
           {
            "colorbar": {
             "outlinewidth": 0,
             "ticks": ""
            },
            "colorscale": [
             [
              0,
              "#0d0887"
             ],
             [
              0.1111111111111111,
              "#46039f"
             ],
             [
              0.2222222222222222,
              "#7201a8"
             ],
             [
              0.3333333333333333,
              "#9c179e"
             ],
             [
              0.4444444444444444,
              "#bd3786"
             ],
             [
              0.5555555555555556,
              "#d8576b"
             ],
             [
              0.6666666666666666,
              "#ed7953"
             ],
             [
              0.7777777777777778,
              "#fb9f3a"
             ],
             [
              0.8888888888888888,
              "#fdca26"
             ],
             [
              1,
              "#f0f921"
             ]
            ],
            "type": "contour"
           }
          ],
          "contourcarpet": [
           {
            "colorbar": {
             "outlinewidth": 0,
             "ticks": ""
            },
            "type": "contourcarpet"
           }
          ],
          "heatmap": [
           {
            "colorbar": {
             "outlinewidth": 0,
             "ticks": ""
            },
            "colorscale": [
             [
              0,
              "#0d0887"
             ],
             [
              0.1111111111111111,
              "#46039f"
             ],
             [
              0.2222222222222222,
              "#7201a8"
             ],
             [
              0.3333333333333333,
              "#9c179e"
             ],
             [
              0.4444444444444444,
              "#bd3786"
             ],
             [
              0.5555555555555556,
              "#d8576b"
             ],
             [
              0.6666666666666666,
              "#ed7953"
             ],
             [
              0.7777777777777778,
              "#fb9f3a"
             ],
             [
              0.8888888888888888,
              "#fdca26"
             ],
             [
              1,
              "#f0f921"
             ]
            ],
            "type": "heatmap"
           }
          ],
          "heatmapgl": [
           {
            "colorbar": {
             "outlinewidth": 0,
             "ticks": ""
            },
            "colorscale": [
             [
              0,
              "#0d0887"
             ],
             [
              0.1111111111111111,
              "#46039f"
             ],
             [
              0.2222222222222222,
              "#7201a8"
             ],
             [
              0.3333333333333333,
              "#9c179e"
             ],
             [
              0.4444444444444444,
              "#bd3786"
             ],
             [
              0.5555555555555556,
              "#d8576b"
             ],
             [
              0.6666666666666666,
              "#ed7953"
             ],
             [
              0.7777777777777778,
              "#fb9f3a"
             ],
             [
              0.8888888888888888,
              "#fdca26"
             ],
             [
              1,
              "#f0f921"
             ]
            ],
            "type": "heatmapgl"
           }
          ],
          "histogram": [
           {
            "marker": {
             "pattern": {
              "fillmode": "overlay",
              "size": 10,
              "solidity": 0.2
             }
            },
            "type": "histogram"
           }
          ],
          "histogram2d": [
           {
            "colorbar": {
             "outlinewidth": 0,
             "ticks": ""
            },
            "colorscale": [
             [
              0,
              "#0d0887"
             ],
             [
              0.1111111111111111,
              "#46039f"
             ],
             [
              0.2222222222222222,
              "#7201a8"
             ],
             [
              0.3333333333333333,
              "#9c179e"
             ],
             [
              0.4444444444444444,
              "#bd3786"
             ],
             [
              0.5555555555555556,
              "#d8576b"
             ],
             [
              0.6666666666666666,
              "#ed7953"
             ],
             [
              0.7777777777777778,
              "#fb9f3a"
             ],
             [
              0.8888888888888888,
              "#fdca26"
             ],
             [
              1,
              "#f0f921"
             ]
            ],
            "type": "histogram2d"
           }
          ],
          "histogram2dcontour": [
           {
            "colorbar": {
             "outlinewidth": 0,
             "ticks": ""
            },
            "colorscale": [
             [
              0,
              "#0d0887"
             ],
             [
              0.1111111111111111,
              "#46039f"
             ],
             [
              0.2222222222222222,
              "#7201a8"
             ],
             [
              0.3333333333333333,
              "#9c179e"
             ],
             [
              0.4444444444444444,
              "#bd3786"
             ],
             [
              0.5555555555555556,
              "#d8576b"
             ],
             [
              0.6666666666666666,
              "#ed7953"
             ],
             [
              0.7777777777777778,
              "#fb9f3a"
             ],
             [
              0.8888888888888888,
              "#fdca26"
             ],
             [
              1,
              "#f0f921"
             ]
            ],
            "type": "histogram2dcontour"
           }
          ],
          "mesh3d": [
           {
            "colorbar": {
             "outlinewidth": 0,
             "ticks": ""
            },
            "type": "mesh3d"
           }
          ],
          "parcoords": [
           {
            "line": {
             "colorbar": {
              "outlinewidth": 0,
              "ticks": ""
             }
            },
            "type": "parcoords"
           }
          ],
          "pie": [
           {
            "automargin": true,
            "type": "pie"
           }
          ],
          "scatter": [
           {
            "fillpattern": {
             "fillmode": "overlay",
             "size": 10,
             "solidity": 0.2
            },
            "type": "scatter"
           }
          ],
          "scatter3d": [
           {
            "line": {
             "colorbar": {
              "outlinewidth": 0,
              "ticks": ""
             }
            },
            "marker": {
             "colorbar": {
              "outlinewidth": 0,
              "ticks": ""
             }
            },
            "type": "scatter3d"
           }
          ],
          "scattercarpet": [
           {
            "marker": {
             "colorbar": {
              "outlinewidth": 0,
              "ticks": ""
             }
            },
            "type": "scattercarpet"
           }
          ],
          "scattergeo": [
           {
            "marker": {
             "colorbar": {
              "outlinewidth": 0,
              "ticks": ""
             }
            },
            "type": "scattergeo"
           }
          ],
          "scattergl": [
           {
            "marker": {
             "colorbar": {
              "outlinewidth": 0,
              "ticks": ""
             }
            },
            "type": "scattergl"
           }
          ],
          "scattermapbox": [
           {
            "marker": {
             "colorbar": {
              "outlinewidth": 0,
              "ticks": ""
             }
            },
            "type": "scattermapbox"
           }
          ],
          "scatterpolar": [
           {
            "marker": {
             "colorbar": {
              "outlinewidth": 0,
              "ticks": ""
             }
            },
            "type": "scatterpolar"
           }
          ],
          "scatterpolargl": [
           {
            "marker": {
             "colorbar": {
              "outlinewidth": 0,
              "ticks": ""
             }
            },
            "type": "scatterpolargl"
           }
          ],
          "scatterternary": [
           {
            "marker": {
             "colorbar": {
              "outlinewidth": 0,
              "ticks": ""
             }
            },
            "type": "scatterternary"
           }
          ],
          "surface": [
           {
            "colorbar": {
             "outlinewidth": 0,
             "ticks": ""
            },
            "colorscale": [
             [
              0,
              "#0d0887"
             ],
             [
              0.1111111111111111,
              "#46039f"
             ],
             [
              0.2222222222222222,
              "#7201a8"
             ],
             [
              0.3333333333333333,
              "#9c179e"
             ],
             [
              0.4444444444444444,
              "#bd3786"
             ],
             [
              0.5555555555555556,
              "#d8576b"
             ],
             [
              0.6666666666666666,
              "#ed7953"
             ],
             [
              0.7777777777777778,
              "#fb9f3a"
             ],
             [
              0.8888888888888888,
              "#fdca26"
             ],
             [
              1,
              "#f0f921"
             ]
            ],
            "type": "surface"
           }
          ],
          "table": [
           {
            "cells": {
             "fill": {
              "color": "#EBF0F8"
             },
             "line": {
              "color": "white"
             }
            },
            "header": {
             "fill": {
              "color": "#C8D4E3"
             },
             "line": {
              "color": "white"
             }
            },
            "type": "table"
           }
          ]
         },
         "layout": {
          "annotationdefaults": {
           "arrowcolor": "#2a3f5f",
           "arrowhead": 0,
           "arrowwidth": 1
          },
          "autotypenumbers": "strict",
          "coloraxis": {
           "colorbar": {
            "outlinewidth": 0,
            "ticks": ""
           }
          },
          "colorscale": {
           "diverging": [
            [
             0,
             "#8e0152"
            ],
            [
             0.1,
             "#c51b7d"
            ],
            [
             0.2,
             "#de77ae"
            ],
            [
             0.3,
             "#f1b6da"
            ],
            [
             0.4,
             "#fde0ef"
            ],
            [
             0.5,
             "#f7f7f7"
            ],
            [
             0.6,
             "#e6f5d0"
            ],
            [
             0.7,
             "#b8e186"
            ],
            [
             0.8,
             "#7fbc41"
            ],
            [
             0.9,
             "#4d9221"
            ],
            [
             1,
             "#276419"
            ]
           ],
           "sequential": [
            [
             0,
             "#0d0887"
            ],
            [
             0.1111111111111111,
             "#46039f"
            ],
            [
             0.2222222222222222,
             "#7201a8"
            ],
            [
             0.3333333333333333,
             "#9c179e"
            ],
            [
             0.4444444444444444,
             "#bd3786"
            ],
            [
             0.5555555555555556,
             "#d8576b"
            ],
            [
             0.6666666666666666,
             "#ed7953"
            ],
            [
             0.7777777777777778,
             "#fb9f3a"
            ],
            [
             0.8888888888888888,
             "#fdca26"
            ],
            [
             1,
             "#f0f921"
            ]
           ],
           "sequentialminus": [
            [
             0,
             "#0d0887"
            ],
            [
             0.1111111111111111,
             "#46039f"
            ],
            [
             0.2222222222222222,
             "#7201a8"
            ],
            [
             0.3333333333333333,
             "#9c179e"
            ],
            [
             0.4444444444444444,
             "#bd3786"
            ],
            [
             0.5555555555555556,
             "#d8576b"
            ],
            [
             0.6666666666666666,
             "#ed7953"
            ],
            [
             0.7777777777777778,
             "#fb9f3a"
            ],
            [
             0.8888888888888888,
             "#fdca26"
            ],
            [
             1,
             "#f0f921"
            ]
           ]
          },
          "colorway": [
           "#636efa",
           "#EF553B",
           "#00cc96",
           "#ab63fa",
           "#FFA15A",
           "#19d3f3",
           "#FF6692",
           "#B6E880",
           "#FF97FF",
           "#FECB52"
          ],
          "font": {
           "color": "#2a3f5f"
          },
          "geo": {
           "bgcolor": "white",
           "lakecolor": "white",
           "landcolor": "#E5ECF6",
           "showlakes": true,
           "showland": true,
           "subunitcolor": "white"
          },
          "hoverlabel": {
           "align": "left"
          },
          "hovermode": "closest",
          "mapbox": {
           "style": "light"
          },
          "paper_bgcolor": "white",
          "plot_bgcolor": "#E5ECF6",
          "polar": {
           "angularaxis": {
            "gridcolor": "white",
            "linecolor": "white",
            "ticks": ""
           },
           "bgcolor": "#E5ECF6",
           "radialaxis": {
            "gridcolor": "white",
            "linecolor": "white",
            "ticks": ""
           }
          },
          "scene": {
           "xaxis": {
            "backgroundcolor": "#E5ECF6",
            "gridcolor": "white",
            "gridwidth": 2,
            "linecolor": "white",
            "showbackground": true,
            "ticks": "",
            "zerolinecolor": "white"
           },
           "yaxis": {
            "backgroundcolor": "#E5ECF6",
            "gridcolor": "white",
            "gridwidth": 2,
            "linecolor": "white",
            "showbackground": true,
            "ticks": "",
            "zerolinecolor": "white"
           },
           "zaxis": {
            "backgroundcolor": "#E5ECF6",
            "gridcolor": "white",
            "gridwidth": 2,
            "linecolor": "white",
            "showbackground": true,
            "ticks": "",
            "zerolinecolor": "white"
           }
          },
          "shapedefaults": {
           "line": {
            "color": "#2a3f5f"
           }
          },
          "ternary": {
           "aaxis": {
            "gridcolor": "white",
            "linecolor": "white",
            "ticks": ""
           },
           "baxis": {
            "gridcolor": "white",
            "linecolor": "white",
            "ticks": ""
           },
           "bgcolor": "#E5ECF6",
           "caxis": {
            "gridcolor": "white",
            "linecolor": "white",
            "ticks": ""
           }
          },
          "title": {
           "x": 0.05
          },
          "xaxis": {
           "automargin": true,
           "gridcolor": "white",
           "linecolor": "white",
           "ticks": "",
           "title": {
            "standoff": 15
           },
           "zerolinecolor": "white",
           "zerolinewidth": 2
          },
          "yaxis": {
           "automargin": true,
           "gridcolor": "white",
           "linecolor": "white",
           "ticks": "",
           "title": {
            "standoff": 15
           },
           "zerolinecolor": "white",
           "zerolinewidth": 2
          }
         }
        },
        "title": {
         "text": "Customer Segmentation (3D View)"
        }
       }
      }
     },
     "metadata": {},
     "output_type": "display_data"
    },
    {
     "name": "stdout",
     "output_type": "stream",
     "text": [
      "👥 Customer Segment Analysis:\n"
     ]
    },
    {
     "data": {
      "text/html": [
       "<div>\n",
       "<style scoped>\n",
       "    .dataframe tbody tr th:only-of-type {\n",
       "        vertical-align: middle;\n",
       "    }\n",
       "\n",
       "    .dataframe tbody tr th {\n",
       "        vertical-align: top;\n",
       "    }\n",
       "\n",
       "    .dataframe thead th {\n",
       "        text-align: right;\n",
       "    }\n",
       "</style>\n",
       "<table border=\"1\" class=\"dataframe\">\n",
       "  <thead>\n",
       "    <tr style=\"text-align: right;\">\n",
       "      <th></th>\n",
       "      <th>Avg_Total_Spent</th>\n",
       "      <th>Median_Total_Spent</th>\n",
       "      <th>Avg_Visits</th>\n",
       "      <th>Median_Visits</th>\n",
       "      <th>Avg_Transaction_Size</th>\n",
       "      <th>Median_Transaction_Size</th>\n",
       "      <th>Avg_Days_Since</th>\n",
       "      <th>Median_Days_Since</th>\n",
       "      <th>Customer_Count</th>\n",
       "    </tr>\n",
       "    <tr>\n",
       "      <th>Segment_Name</th>\n",
       "      <th></th>\n",
       "      <th></th>\n",
       "      <th></th>\n",
       "      <th></th>\n",
       "      <th></th>\n",
       "      <th></th>\n",
       "      <th></th>\n",
       "      <th></th>\n",
       "      <th></th>\n",
       "    </tr>\n",
       "  </thead>\n",
       "  <tbody>\n",
       "    <tr>\n",
       "      <th>At-Risk</th>\n",
       "      <td>55.53</td>\n",
       "      <td>38.70</td>\n",
       "      <td>1.60</td>\n",
       "      <td>1.0</td>\n",
       "      <td>34.79</td>\n",
       "      <td>35.84</td>\n",
       "      <td>124.42</td>\n",
       "      <td>126.5</td>\n",
       "      <td>120</td>\n",
       "    </tr>\n",
       "    <tr>\n",
       "      <th>Occasional</th>\n",
       "      <td>53.75</td>\n",
       "      <td>27.92</td>\n",
       "      <td>1.98</td>\n",
       "      <td>1.0</td>\n",
       "      <td>26.49</td>\n",
       "      <td>27.92</td>\n",
       "      <td>30.65</td>\n",
       "      <td>23.0</td>\n",
       "      <td>109</td>\n",
       "    </tr>\n",
       "    <tr>\n",
       "      <th>Regular</th>\n",
       "      <td>79.05</td>\n",
       "      <td>37.72</td>\n",
       "      <td>2.26</td>\n",
       "      <td>1.0</td>\n",
       "      <td>35.31</td>\n",
       "      <td>35.27</td>\n",
       "      <td>43.63</td>\n",
       "      <td>49.0</td>\n",
       "      <td>215</td>\n",
       "    </tr>\n",
       "    <tr>\n",
       "      <th>VIP</th>\n",
       "      <td>2402.94</td>\n",
       "      <td>2402.94</td>\n",
       "      <td>75.50</td>\n",
       "      <td>75.5</td>\n",
       "      <td>32.30</td>\n",
       "      <td>32.30</td>\n",
       "      <td>1.00</td>\n",
       "      <td>1.0</td>\n",
       "      <td>2</td>\n",
       "    </tr>\n",
       "  </tbody>\n",
       "</table>\n",
       "</div>"
      ],
      "text/plain": [
       "              Avg_Total_Spent  Median_Total_Spent  Avg_Visits  Median_Visits  \\\n",
       "Segment_Name                                                                   \n",
       "At-Risk                 55.53               38.70        1.60            1.0   \n",
       "Occasional              53.75               27.92        1.98            1.0   \n",
       "Regular                 79.05               37.72        2.26            1.0   \n",
       "VIP                   2402.94             2402.94       75.50           75.5   \n",
       "\n",
       "              Avg_Transaction_Size  Median_Transaction_Size  Avg_Days_Since  \\\n",
       "Segment_Name                                                                  \n",
       "At-Risk                      34.79                    35.84          124.42   \n",
       "Occasional                   26.49                    27.92           30.65   \n",
       "Regular                      35.31                    35.27           43.63   \n",
       "VIP                          32.30                    32.30            1.00   \n",
       "\n",
       "              Median_Days_Since  Customer_Count  \n",
       "Segment_Name                                     \n",
       "At-Risk                   126.5             120  \n",
       "Occasional                 23.0             109  \n",
       "Regular                    49.0             215  \n",
       "VIP                         1.0               2  "
      ]
     },
     "metadata": {},
     "output_type": "display_data"
    },
    {
     "name": "stdout",
     "output_type": "stream",
     "text": [
      "\n",
      "🏆 Top 5 Customers by Segment:\n",
      "\n",
      "VIP Customers:\n"
     ]
    },
    {
     "data": {
      "text/html": [
       "<div>\n",
       "<style scoped>\n",
       "    .dataframe tbody tr th:only-of-type {\n",
       "        vertical-align: middle;\n",
       "    }\n",
       "\n",
       "    .dataframe tbody tr th {\n",
       "        vertical-align: top;\n",
       "    }\n",
       "\n",
       "    .dataframe thead th {\n",
       "        text-align: right;\n",
       "    }\n",
       "</style>\n",
       "<table border=\"1\" class=\"dataframe\">\n",
       "  <thead>\n",
       "    <tr style=\"text-align: right;\">\n",
       "      <th></th>\n",
       "      <th>card</th>\n",
       "      <th>Total_Spent</th>\n",
       "      <th>Visit_Frequency</th>\n",
       "      <th>Favorite_Coffee</th>\n",
       "    </tr>\n",
       "  </thead>\n",
       "  <tbody>\n",
       "    <tr>\n",
       "      <th>11</th>\n",
       "      <td>ANON-0000-0000-0012</td>\n",
       "      <td>2593.18</td>\n",
       "      <td>88</td>\n",
       "      <td>Americano</td>\n",
       "    </tr>\n",
       "    <tr>\n",
       "      <th>8</th>\n",
       "      <td>ANON-0000-0000-0009</td>\n",
       "      <td>2212.70</td>\n",
       "      <td>63</td>\n",
       "      <td>Latte</td>\n",
       "    </tr>\n",
       "  </tbody>\n",
       "</table>\n",
       "</div>"
      ],
      "text/plain": [
       "                   card  Total_Spent  Visit_Frequency Favorite_Coffee\n",
       "11  ANON-0000-0000-0012      2593.18               88       Americano\n",
       "8   ANON-0000-0000-0009      2212.70               63           Latte"
      ]
     },
     "metadata": {},
     "output_type": "display_data"
    },
    {
     "name": "stdout",
     "output_type": "stream",
     "text": [
      "\n",
      "At-Risk Customers:\n"
     ]
    },
    {
     "data": {
      "text/html": [
       "<div>\n",
       "<style scoped>\n",
       "    .dataframe tbody tr th:only-of-type {\n",
       "        vertical-align: middle;\n",
       "    }\n",
       "\n",
       "    .dataframe tbody tr th {\n",
       "        vertical-align: top;\n",
       "    }\n",
       "\n",
       "    .dataframe thead th {\n",
       "        text-align: right;\n",
       "    }\n",
       "</style>\n",
       "<table border=\"1\" class=\"dataframe\">\n",
       "  <thead>\n",
       "    <tr style=\"text-align: right;\">\n",
       "      <th></th>\n",
       "      <th>card</th>\n",
       "      <th>Total_Spent</th>\n",
       "      <th>Visit_Frequency</th>\n",
       "      <th>Favorite_Coffee</th>\n",
       "    </tr>\n",
       "  </thead>\n",
       "  <tbody>\n",
       "    <tr>\n",
       "      <th>3</th>\n",
       "      <td>ANON-0000-0000-0004</td>\n",
       "      <td>289.50</td>\n",
       "      <td>9</td>\n",
       "      <td>Americano</td>\n",
       "    </tr>\n",
       "    <tr>\n",
       "      <th>141</th>\n",
       "      <td>ANON-0000-0000-0142</td>\n",
       "      <td>272.36</td>\n",
       "      <td>8</td>\n",
       "      <td>Americano with Milk</td>\n",
       "    </tr>\n",
       "    <tr>\n",
       "      <th>16</th>\n",
       "      <td>ANON-0000-0000-0017</td>\n",
       "      <td>232.20</td>\n",
       "      <td>6</td>\n",
       "      <td>Latte</td>\n",
       "    </tr>\n",
       "    <tr>\n",
       "      <th>49</th>\n",
       "      <td>ANON-0000-0000-0050</td>\n",
       "      <td>188.10</td>\n",
       "      <td>6</td>\n",
       "      <td>Americano</td>\n",
       "    </tr>\n",
       "    <tr>\n",
       "      <th>54</th>\n",
       "      <td>ANON-0000-0000-0055</td>\n",
       "      <td>154.80</td>\n",
       "      <td>4</td>\n",
       "      <td>Latte</td>\n",
       "    </tr>\n",
       "  </tbody>\n",
       "</table>\n",
       "</div>"
      ],
      "text/plain": [
       "                    card  Total_Spent  Visit_Frequency      Favorite_Coffee\n",
       "3    ANON-0000-0000-0004       289.50                9            Americano\n",
       "141  ANON-0000-0000-0142       272.36                8  Americano with Milk\n",
       "16   ANON-0000-0000-0017       232.20                6                Latte\n",
       "49   ANON-0000-0000-0050       188.10                6            Americano\n",
       "54   ANON-0000-0000-0055       154.80                4                Latte"
      ]
     },
     "metadata": {},
     "output_type": "display_data"
    },
    {
     "name": "stdout",
     "output_type": "stream",
     "text": [
      "\n",
      "Regular Customers:\n"
     ]
    },
    {
     "data": {
      "text/html": [
       "<div>\n",
       "<style scoped>\n",
       "    .dataframe tbody tr th:only-of-type {\n",
       "        vertical-align: middle;\n",
       "    }\n",
       "\n",
       "    .dataframe tbody tr th {\n",
       "        vertical-align: top;\n",
       "    }\n",
       "\n",
       "    .dataframe thead th {\n",
       "        text-align: right;\n",
       "    }\n",
       "</style>\n",
       "<table border=\"1\" class=\"dataframe\">\n",
       "  <thead>\n",
       "    <tr style=\"text-align: right;\">\n",
       "      <th></th>\n",
       "      <th>card</th>\n",
       "      <th>Total_Spent</th>\n",
       "      <th>Visit_Frequency</th>\n",
       "      <th>Favorite_Coffee</th>\n",
       "    </tr>\n",
       "  </thead>\n",
       "  <tbody>\n",
       "    <tr>\n",
       "      <th>96</th>\n",
       "      <td>ANON-0000-0000-0097</td>\n",
       "      <td>882.22</td>\n",
       "      <td>27</td>\n",
       "      <td>Americano with Milk</td>\n",
       "    </tr>\n",
       "    <tr>\n",
       "      <th>39</th>\n",
       "      <td>ANON-0000-0000-0040</td>\n",
       "      <td>706.36</td>\n",
       "      <td>22</td>\n",
       "      <td>Americano with Milk</td>\n",
       "    </tr>\n",
       "    <tr>\n",
       "      <th>0</th>\n",
       "      <td>ANON-0000-0000-0001</td>\n",
       "      <td>646.14</td>\n",
       "      <td>17</td>\n",
       "      <td>Latte</td>\n",
       "    </tr>\n",
       "    <tr>\n",
       "      <th>179</th>\n",
       "      <td>ANON-0000-0000-0180</td>\n",
       "      <td>442.84</td>\n",
       "      <td>12</td>\n",
       "      <td>Cappuccino</td>\n",
       "    </tr>\n",
       "    <tr>\n",
       "      <th>23</th>\n",
       "      <td>ANON-0000-0000-0024</td>\n",
       "      <td>422.26</td>\n",
       "      <td>12</td>\n",
       "      <td>Americano with Milk</td>\n",
       "    </tr>\n",
       "  </tbody>\n",
       "</table>\n",
       "</div>"
      ],
      "text/plain": [
       "                    card  Total_Spent  Visit_Frequency      Favorite_Coffee\n",
       "96   ANON-0000-0000-0097       882.22               27  Americano with Milk\n",
       "39   ANON-0000-0000-0040       706.36               22  Americano with Milk\n",
       "0    ANON-0000-0000-0001       646.14               17                Latte\n",
       "179  ANON-0000-0000-0180       442.84               12           Cappuccino\n",
       "23   ANON-0000-0000-0024       422.26               12  Americano with Milk"
      ]
     },
     "metadata": {},
     "output_type": "display_data"
    },
    {
     "name": "stdout",
     "output_type": "stream",
     "text": [
      "\n",
      "Occasional Customers:\n"
     ]
    },
    {
     "data": {
      "text/html": [
       "<div>\n",
       "<style scoped>\n",
       "    .dataframe tbody tr th:only-of-type {\n",
       "        vertical-align: middle;\n",
       "    }\n",
       "\n",
       "    .dataframe tbody tr th {\n",
       "        vertical-align: top;\n",
       "    }\n",
       "\n",
       "    .dataframe thead th {\n",
       "        text-align: right;\n",
       "    }\n",
       "</style>\n",
       "<table border=\"1\" class=\"dataframe\">\n",
       "  <thead>\n",
       "    <tr style=\"text-align: right;\">\n",
       "      <th></th>\n",
       "      <th>card</th>\n",
       "      <th>Total_Spent</th>\n",
       "      <th>Visit_Frequency</th>\n",
       "      <th>Favorite_Coffee</th>\n",
       "    </tr>\n",
       "  </thead>\n",
       "  <tbody>\n",
       "    <tr>\n",
       "      <th>2</th>\n",
       "      <td>ANON-0000-0000-0003</td>\n",
       "      <td>651.96</td>\n",
       "      <td>23</td>\n",
       "      <td>Americano</td>\n",
       "    </tr>\n",
       "    <tr>\n",
       "      <th>140</th>\n",
       "      <td>ANON-0000-0000-0141</td>\n",
       "      <td>474.64</td>\n",
       "      <td>17</td>\n",
       "      <td>Cortado</td>\n",
       "    </tr>\n",
       "    <tr>\n",
       "      <th>58</th>\n",
       "      <td>ANON-0000-0000-0059</td>\n",
       "      <td>337.00</td>\n",
       "      <td>12</td>\n",
       "      <td>Americano with Milk</td>\n",
       "    </tr>\n",
       "    <tr>\n",
       "      <th>142</th>\n",
       "      <td>ANON-0000-0000-0143</td>\n",
       "      <td>149.40</td>\n",
       "      <td>5</td>\n",
       "      <td>Americano</td>\n",
       "    </tr>\n",
       "    <tr>\n",
       "      <th>32</th>\n",
       "      <td>ANON-0000-0000-0033</td>\n",
       "      <td>148.42</td>\n",
       "      <td>5</td>\n",
       "      <td>Americano</td>\n",
       "    </tr>\n",
       "  </tbody>\n",
       "</table>\n",
       "</div>"
      ],
      "text/plain": [
       "                    card  Total_Spent  Visit_Frequency      Favorite_Coffee\n",
       "2    ANON-0000-0000-0003       651.96               23            Americano\n",
       "140  ANON-0000-0000-0141       474.64               17              Cortado\n",
       "58   ANON-0000-0000-0059       337.00               12  Americano with Milk\n",
       "142  ANON-0000-0000-0143       149.40                5            Americano\n",
       "32   ANON-0000-0000-0033       148.42                5            Americano"
      ]
     },
     "metadata": {},
     "output_type": "display_data"
    }
   ],
   "source": [
    "# --- Customer Profiling ---\n",
    "customer_df = df_processed[df_processed['card'] != 'Cash Payment'].copy()\n",
    "\n",
    "customer_metrics = customer_df.groupby('card').agg(\n",
    "    Total_Spent=('money', 'sum'),\n",
    "    Avg_Transaction=('money', 'mean'),\n",
    "    Visit_Frequency=('money', 'count'),\n",
    "    Favorite_Coffee=('coffee_name', lambda x: x.mode().iloc[0] if not x.empty else 'Unknown')\n",
    ").round(2).reset_index()\n",
    "\n",
    "# --- LTV and Recency Calculation ---\n",
    "# Note: Customer_LTV is simplified here as Total_Spent. A more complex model could predict future value.\n",
    "customer_metrics['Customer_LTV'] = customer_metrics['Total_Spent']\n",
    "last_purchase = customer_df.groupby('card')['date'].max().reset_index()\n",
    "last_purchase['Days_Since_Last'] = (df_processed['date'].max() - last_purchase['date']).dt.days\n",
    "customer_metrics = customer_metrics.merge(last_purchase[['card', 'Days_Since_Last']], on='card')\n",
    "\n",
    "# --- K-Means Clustering ---\n",
    "features_for_clustering = ['Total_Spent', 'Visit_Frequency', 'Avg_Transaction', 'Days_Since_Last']\n",
    "scaler = StandardScaler()\n",
    "scaled_features = scaler.fit_transform(customer_metrics[features_for_clustering])\n",
    "\n",
    "# Added n_init='auto' to prevent future warnings\n",
    "kmeans = KMeans(n_clusters=4, random_state=42, n_init='auto')\n",
    "customer_metrics['Segment'] = kmeans.fit_predict(scaled_features)\n",
    "\n",
    "# --- Robust Segment Naming ---\n",
    "# Calculate centroids to programmatically name segments instead of hardcoding\n",
    "centroids = customer_metrics.groupby('Segment')[features_for_clustering].mean().reset_index()\n",
    "\n",
    "# VIP: High Spend, High Frequency, Low Recency\n",
    "vip_segment = centroids.sort_values(['Total_Spent', 'Visit_Frequency'], ascending=[False, False]).iloc[0]['Segment']\n",
    "\n",
    "# At-Risk: High Recency (hasn't visited in a while)\n",
    "at_risk_segment = centroids.sort_values('Days_Since_Last', ascending=False).iloc[0]['Segment']\n",
    "\n",
    "# Remaining clusters are Regular or Occasional based on spend/frequency\n",
    "remaining_centroids = centroids[~centroids['Segment'].isin([vip_segment, at_risk_segment])].sort_values('Total_Spent', ascending=False)\n",
    "regular_segment = remaining_centroids.iloc[0]['Segment']\n",
    "occasional_segment = remaining_centroids.iloc[1]['Segment']\n",
    "\n",
    "segment_map = {\n",
    "    vip_segment: 'VIP',\n",
    "    at_risk_segment: 'At-Risk',\n",
    "    regular_segment: 'Regular',\n",
    "    occasional_segment: 'Occasional'\n",
    "}\n",
    "customer_metrics['Segment_Name'] = customer_metrics['Segment'].map(segment_map)\n",
    "\n",
    "# --- Visualization & Analysis ---\n",
    "fig = px.scatter_3d(customer_metrics, x='Total_Spent', y='Visit_Frequency', z='Avg_Transaction',\n",
    "                   color='Segment_Name', title='Customer Segmentation (3D View)',\n",
    "                   hover_data=['card', 'Favorite_Coffee'])\n",
    "fig.show()\n",
    "\n",
    "segment_analysis = customer_metrics.groupby('Segment_Name').agg(\n",
    "    Avg_Total_Spent=('Total_Spent', 'mean'),\n",
    "    Median_Total_Spent=('Total_Spent', 'median'),\n",
    "    Avg_Visits=('Visit_Frequency', 'mean'),\n",
    "    Median_Visits=('Visit_Frequency', 'median'),\n",
    "    Avg_Transaction_Size=('Avg_Transaction', 'mean'),\n",
    "    Median_Transaction_Size=('Avg_Transaction', 'median'),\n",
    "    Avg_Days_Since=('Days_Since_Last', 'mean'),\n",
    "    Median_Days_Since=('Days_Since_Last', 'median'),\n",
    "    Customer_Count=('card', 'count')\n",
    ").round(2)\n",
    "\n",
    "print(\"👥 Customer Segment Analysis:\")\n",
    "display(segment_analysis)\n",
    "\n",
    "print(\"\\n🏆 Top 5 Customers by Segment:\")\n",
    "for segment in segment_map.values():\n",
    "    print(f\"\\n{segment} Customers:\")\n",
    "    top_customers = customer_metrics[customer_metrics['Segment_Name'] == segment].nlargest(5, 'Total_Spent')\n",
    "    display(top_customers[['card', 'Total_Spent', 'Visit_Frequency', 'Favorite_Coffee']].head())"
   ]
  },
  {
   "cell_type": "markdown",
   "metadata": {},
   "source": [
    "## 5. Advanced Forecasting with Model Comparison"
   ]
  },
  {
   "cell_type": "code",
   "execution_count": 8,
   "metadata": {},
   "outputs": [
    {
     "data": {
      "image/png": "[encoded data removed]",
      "text/plain": [
       "<Figure size 1500x1200 with 4 Axes>"
      ]
     },
     "metadata": {},
     "output_type": "display_data"
    },
    {
     "name": "stdout",
     "output_type": "stream",
     "text": [
      "Training data: 139 days\n",
      "Testing data: 14 days\n"
     ]
    }
   ],
   "source": [
    "# Prepare data for forecasting\n",
    "daily_sales = df_processed.groupby('date').agg({\n",
    "    'money': 'sum',\n",
    "    'cash_type': 'count'\n",
    "}).rename(columns={'cash_type': 'transaction_count'})\n",
    "\n",
    "# Fix: Ensure daily frequency and fill missing days with 0 to avoid warnings\n",
    "daily_sales = daily_sales.asfreq('D').fillna(0)\n",
    "\n",
    "# Time series decomposition\n",
    "decomposition = seasonal_decompose(daily_sales['money'], model='additive', period=7)\n",
    "\n",
    "fig, axes = plt.subplots(4, 1, figsize=(15, 12))\n",
    "decomposition.observed.plot(ax=axes[0], title='Original Time Series')\n",
    "decomposition.trend.plot(ax=axes[1], title='Trend')\n",
    "decomposition.seasonal.plot(ax=axes[2], title='Seasonal')\n",
    "decomposition.resid.plot(ax=axes[3], title='Residual')\n",
    "plt.tight_layout()\n",
    "plt.show()\n",
    "\n",
    "# Split data for validation\n",
    "split_date = daily_sales.index[-14]  # Last 14 days for testing\n",
    "train_data = daily_sales[daily_sales.index < split_date]\n",
    "test_data = daily_sales[daily_sales.index >= split_date]\n",
    "\n",
    "print(f\"Training data: {len(train_data)} days\")\n",
    "print(f\"Testing data: {len(test_data)} days\")"
   ]
  },
  {
   "cell_type": "code",
   "execution_count": 9,
   "metadata": {},
   "outputs": [
    {
     "name": "stderr",
     "output_type": "stream",
     "text": [
      "20:44:07 - cmdstanpy - INFO - Chain [1] start processing\n",
      "20:44:07 - cmdstanpy - INFO - Chain [1] done processing\n"
     ]
    },
    {
     "name": "stdout",
     "output_type": "stream",
     "text": [
      "📈 Model Performance Comparison:\n",
      "========================================\n",
      "Prophet Model:\n",
      "  RMSE: 194.60\n",
      "  MAE: 148.64\n",
      "  MAPE: nan\n",
      "\n",
      "ARIMA Model:\n",
      "  RMSE: 298.88\n",
      "  MAE: 246.87\n",
      "  MAPE: 68.47\n",
      "\n",
      "🏆 Best Model: Prophet\n"
     ]
    }
   ],
   "source": [
    "# Model 1: Prophet\n",
    "# Note: A more advanced approach would include holidays or special events.\n",
    "prophet_data = train_data.reset_index().rename(columns={'date': 'ds', 'money': 'y'})\n",
    "prophet_model = Prophet(weekly_seasonality=True, daily_seasonality=False)\n",
    "prophet_model.fit(prophet_data)\n",
    "\n",
    "# Make predictions for both test period and future\n",
    "future_prophet = prophet_model.make_future_dataframe(periods=len(test_data) + 30)\n",
    "prophet_forecast = prophet_model.predict(future_prophet)\n",
    "\n",
    "# Model 2: ARIMA\n",
    "# Note: A more advanced approach would use auto_arima to find the optimal order (p,d,q).\n",
    "arima_model = ARIMA(train_data['money'], order=(5,1,0)) # Using a common order for seasonality\n",
    "arima_fitted = arima_model.fit()\n",
    "arima_forecast_series = arima_fitted.forecast(steps=len(test_data) + 30)\n",
    "# Convert to DataFrame for easier plotting\n",
    "arima_forecast_dates = pd.date_range(start=split_date, periods=len(test_data) + 30)\n",
    "arima_forecast = pd.DataFrame({'ds': arima_forecast_dates, 'yhat': arima_forecast_series})\n",
    "\n",
    "# Model evaluation on test set\n",
    "prophet_test_pred = prophet_forecast[prophet_forecast['ds'].isin(test_data.index)]['yhat']\n",
    "arima_test_pred = arima_forecast[arima_forecast['ds'].isin(test_data.index)]['yhat']\n",
    "\n",
    "# Calculate metrics\n",
    "def calculate_metrics(actual, predicted):\n",
    "    rmse = np.sqrt(mean_squared_error(actual, predicted))\n",
    "    mae = mean_absolute_error(actual, predicted)\n",
    "    # Fix: Add epsilon to avoid division by zero in MAPE\n",
    "    mape = np.mean(np.abs((actual - predicted) / (actual + 1e-8))) * 100 \n",
    "    return {'RMSE': rmse, 'MAE': mae, 'MAPE': mape}\n",
    "\n",
    "prophet_metrics = calculate_metrics(test_data['money'], prophet_test_pred)\n",
    "arima_metrics = calculate_metrics(test_data['money'], arima_test_pred)\n",
    "\n",
    "print(\"📈 Model Performance Comparison:\")\n",
    "print(\"=\" * 40)\n",
    "print(\"Prophet Model:\")\n",
    "for metric, value in prophet_metrics.items():\n",
    "    print(f\"  {metric}: {value:.2f}\")\n",
    "\n",
    "print(\"\\nARIMA Model:\")\n",
    "for metric, value in arima_metrics.items():\n",
    "    print(f\"  {metric}: {value:.2f}\")\n",
    "\n",
    "# Choose best model\n",
    "best_model = 'Prophet' if prophet_metrics['RMSE'] < arima_metrics['RMSE'] else 'ARIMA'\n",
    "print(f\"\\n🏆 Best Model: {best_model}\")"
   ]
  },
  {
   "cell_type": "code",
   "execution_count": 10,
   "metadata": {},
   "outputs": [
    {
     "data": {
      "application/vnd.plotly.v1+json": {
       "config": {
        "plotlyServerURL": "https://plot.ly"
       },
       "data": [
        {
         "line": {
          "color": "blue"
         },
         "mode": "lines",
         "name": "Historical Data",
         "type": "scatter",
         "x": [
          "2024-03-01T00:00:00",
          "2024-03-02T00:00:00",
          "2024-03-03T00:00:00",
          "2024-03-04T00:00:00",
          "2024-03-05T00:00:00",
          "2024-03-06T00:00:00",
          "2024-03-07T00:00:00",
          "2024-03-08T00:00:00",
          "2024-03-09T00:00:00",
          "2024-03-10T00:00:00",
          "2024-03-11T00:00:00",
          "2024-03-12T00:00:00",
          "2024-03-13T00:00:00",
          "2024-03-14T00:00:00",
          "2024-03-15T00:00:00",
          "2024-03-16T00:00:00",
          "2024-03-17T00:00:00",
          "2024-03-18T00:00:00",
          "2024-03-19T00:00:00",
          "2024-03-20T00:00:00",
          "2024-03-21T00:00:00",
          "2024-03-22T00:00:00",
          "2024-03-23T00:00:00",
          "2024-03-24T00:00:00",
          "2024-03-25T00:00:00",
          "2024-03-26T00:00:00",
          "2024-03-27T00:00:00",
          "2024-03-28T00:00:00",
          "2024-03-29T00:00:00",
          "2024-03-30T00:00:00",
          "2024-03-31T00:00:00",
          "2024-04-01T00:00:00",
          "2024-04-02T00:00:00",
          "2024-04-03T00:00:00",
          "2024-04-04T00:00:00",
          "2024-04-05T00:00:00",
          "2024-04-06T00:00:00",
          "2024-04-07T00:00:00",
          "2024-04-08T00:00:00",
          "2024-04-09T00:00:00",
          "2024-04-10T00:00:00",
          "2024-04-11T00:00:00",
          "2024-04-12T00:00:00",
          "2024-04-13T00:00:00",
          "2024-04-14T00:00:00",
          "2024-04-15T00:00:00",
          "2024-04-16T00:00:00",
          "2024-04-17T00:00:00",
          "2024-04-18T00:00:00",
          "2024-04-19T00:00:00",
          "2024-04-20T00:00:00",
          "2024-04-21T00:00:00",
          "2024-04-22T00:00:00",
          "2024-04-23T00:00:00",
          "2024-04-24T00:00:00",
          "2024-04-25T00:00:00",
          "2024-04-26T00:00:00",
          "2024-04-27T00:00:00",
          "2024-04-28T00:00:00",
          "2024-04-29T00:00:00",
          "2024-04-30T00:00:00",
          "2024-05-01T00:00:00",
          "2024-05-02T00:00:00",
          "2024-05-03T00:00:00",
          "2024-05-04T00:00:00",
          "2024-05-05T00:00:00",
          "2024-05-06T00:00:00",
          "2024-05-07T00:00:00",
          "2024-05-08T00:00:00",
          "2024-05-09T00:00:00",
          "2024-05-10T00:00:00",
          "2024-05-11T00:00:00",
          "2024-05-12T00:00:00",
          "2024-05-13T00:00:00",
          "2024-05-14T00:00:00",
          "2024-05-15T00:00:00",
          "2024-05-16T00:00:00",
          "2024-05-17T00:00:00",
          "2024-05-18T00:00:00",
          "2024-05-19T00:00:00",
          "2024-05-20T00:00:00",
          "2024-05-21T00:00:00",
          "2024-05-22T00:00:00",
          "2024-05-23T00:00:00",
          "2024-05-24T00:00:00",
          "2024-05-25T00:00:00",
          "2024-05-26T00:00:00",
          "2024-05-27T00:00:00",
          "2024-05-28T00:00:00",
          "2024-05-29T00:00:00",
          "2024-05-30T00:00:00",
          "2024-05-31T00:00:00",
          "2024-06-01T00:00:00",
          "2024-06-02T00:00:00",
          "2024-06-03T00:00:00",
          "2024-06-04T00:00:00",
          "2024-06-05T00:00:00",
          "2024-06-06T00:00:00",
          "2024-06-07T00:00:00",
          "2024-06-08T00:00:00",
          "2024-06-09T00:00:00",
          "2024-06-10T00:00:00",
          "2024-06-11T00:00:00",
          "2024-06-12T00:00:00",
          "2024-06-13T00:00:00",
          "2024-06-14T00:00:00",
          "2024-06-15T00:00:00",
          "2024-06-16T00:00:00",
          "2024-06-17T00:00:00",
          "2024-06-18T00:00:00",
          "2024-06-19T00:00:00",
          "2024-06-20T00:00:00",
          "2024-06-21T00:00:00",
          "2024-06-22T00:00:00",
          "2024-06-23T00:00:00",
          "2024-06-24T00:00:00",
          "2024-06-25T00:00:00",
          "2024-06-26T00:00:00",
          "2024-06-27T00:00:00",
          "2024-06-28T00:00:00",
          "2024-06-29T00:00:00",
          "2024-06-30T00:00:00",
          "2024-07-01T00:00:00",
          "2024-07-02T00:00:00",
          "2024-07-03T00:00:00",
          "2024-07-04T00:00:00",
          "2024-07-05T00:00:00",
          "2024-07-06T00:00:00",
          "2024-07-07T00:00:00",
          "2024-07-08T00:00:00",
          "2024-07-09T00:00:00",
          "2024-07-10T00:00:00",
          "2024-07-11T00:00:00",
          "2024-07-12T00:00:00",
          "2024-07-13T00:00:00",
          "2024-07-14T00:00:00",
          "2024-07-15T00:00:00",
          "2024-07-16T00:00:00",
          "2024-07-17T00:00:00",
          "2024-07-18T00:00:00",
          "2024-07-19T00:00:00",
          "2024-07-20T00:00:00",
          "2024-07-21T00:00:00",
          "2024-07-22T00:00:00",
          "2024-07-23T00:00:00",
          "2024-07-24T00:00:00",
          "2024-07-25T00:00:00",
          "2024-07-26T00:00:00",
          "2024-07-27T00:00:00",
          "2024-07-28T00:00:00",
          "2024-07-29T00:00:00",
          "2024-07-30T00:00:00",
          "2024-07-31T00:00:00"
         ],
         "y": [
          396.3,
          228.1,
          349.1,
          135.2,
          338.5,
          170.2,
          220.1,
          265.5,
          479.4,
          231.6,
          275.2,
          228.1,
          256.2,
          397.1,
          107.6,
          183.2,
          68.9,
          115.6,
          219.9,
          213.9,
          205.2,
          189.39999999999998,
          285.1,
          78.7,
          223.60000000000002,
          376.7,
          271.7,
          125.4,
          156.10000000000002,
          189.9,
          68.7,
          242.79999999999998,
          136.5,
          126.5,
          185,
          362.1,
          140.1,
          241.5,
          340.2,
          186.10000000000002,
          166.4,
          169,
          67.6,
          302.40000000000003,
          434.3,
          150.39999999999998,
          276.5,
          199.2,
          352.7,
          261.1,
          494.3,
          104.64,
          176.46,
          173.9,
          272.36,
          121.48,
          300.28,
          37.72,
          169,
          257.66,
          272.36,
          0,
          245.72,
          114.44,
          0,
          0,
          314.58,
          344.08,
          37.72,
          295.38,
          148.44,
          293.24,
          272.36,
          90.82,
          403.64,
          350.82,
          327.34,
          306.36,
          283.44,
          417.84000000000003,
          559.02,
          314.9,
          370.82,
          575.4,
          210.14000000000001,
          254.92000000000002,
          526.6,
          365.92,
          372.1,
          396.6,
          370.82,
          499.96,
          386.8,
          212.8,
          251.7,
          474.18,
          310.08,
          385.52,
          149.4,
          136.18,
          436.46,
          226.32,
          211.62,
          221.42,
          379.14,
          126.38,
          262.56,
          408.54,
          323.3,
          234.64,
          380.62,
          221.42,
          403.64,
          169,
          178.8,
          221.42,
          141.07999999999998,
          196.92,
          131.28,
          159.2,
          287.06,
          131.28,
          98.46,
          192.02,
          310.08,
          60.74,
          303.7,
          164.1,
          346.32,
          139.6,
          144.5,
          83.76,
          116.58,
          154.3,
          65.64,
          172.42000000000002,
          32.82,
          60.74,
          27.92,
          312.02,
          242.96,
          200.33999999999997,
          121.48,
          106.78,
          339.94,
          330.14,
          269.4,
          461.42,
          372.76,
          78.86,
          321.82,
          650.48,
          633.84
         ]
        },
        {
         "line": {
          "color": "green",
          "width": 3
         },
         "mode": "lines+markers",
         "name": "Actual Test Data",
         "type": "scatter",
         "x": [
          "2024-07-18T00:00:00",
          "2024-07-19T00:00:00",
          "2024-07-20T00:00:00",
          "2024-07-21T00:00:00",
          "2024-07-22T00:00:00",
          "2024-07-23T00:00:00",
          "2024-07-24T00:00:00",
          "2024-07-25T00:00:00",
          "2024-07-26T00:00:00",
          "2024-07-27T00:00:00",
          "2024-07-28T00:00:00",
          "2024-07-29T00:00:00",
          "2024-07-30T00:00:00",
          "2024-07-31T00:00:00"
         ],
         "y": [
          312.02,
          242.96,
          200.33999999999997,
          121.48,
          106.78,
          339.94,
          330.14,
          269.4,
          461.42,
          372.76,
          78.86,
          321.82,
          650.48,
          633.84
         ]
        },
        {
         "line": {
          "color": "red",
          "dash": "dash"
         },
         "mode": "lines",
         "name": "Prophet Forecast",
         "type": "scatter",
         "x": [
          "2024-03-01T00:00:00",
          "2024-03-02T00:00:00",
          "2024-03-03T00:00:00",
          "2024-03-04T00:00:00",
          "2024-03-05T00:00:00",
          "2024-03-06T00:00:00",
          "2024-03-07T00:00:00",
          "2024-03-08T00:00:00",
          "2024-03-09T00:00:00",
          "2024-03-10T00:00:00",
          "2024-03-11T00:00:00",
          "2024-03-12T00:00:00",
          "2024-03-13T00:00:00",
          "2024-03-14T00:00:00",
          "2024-03-15T00:00:00",
          "2024-03-16T00:00:00",
          "2024-03-17T00:00:00",
          "2024-03-18T00:00:00",
          "2024-03-19T00:00:00",
          "2024-03-20T00:00:00",
          "2024-03-21T00:00:00",
          "2024-03-22T00:00:00",
          "2024-03-23T00:00:00",
          "2024-03-24T00:00:00",
          "2024-03-25T00:00:00",
          "2024-03-26T00:00:00",
          "2024-03-27T00:00:00",
          "2024-03-28T00:00:00",
          "2024-03-29T00:00:00",
          "2024-03-30T00:00:00",
          "2024-03-31T00:00:00",
          "2024-04-01T00:00:00",
          "2024-04-02T00:00:00",
          "2024-04-03T00:00:00",
          "2024-04-04T00:00:00",
          "2024-04-05T00:00:00",
          "2024-04-06T00:00:00",
          "2024-04-07T00:00:00",
          "2024-04-08T00:00:00",
          "2024-04-09T00:00:00",
          "2024-04-10T00:00:00",
          "2024-04-11T00:00:00",
          "2024-04-12T00:00:00",
          "2024-04-13T00:00:00",
          "2024-04-14T00:00:00",
          "2024-04-15T00:00:00",
          "2024-04-16T00:00:00",
          "2024-04-17T00:00:00",
          "2024-04-18T00:00:00",
          "2024-04-19T00:00:00",
          "2024-04-20T00:00:00",
          "2024-04-21T00:00:00",
          "2024-04-22T00:00:00",
          "2024-04-23T00:00:00",
          "2024-04-24T00:00:00",
          "2024-04-25T00:00:00",
          "2024-04-26T00:00:00",
          "2024-04-27T00:00:00",
          "2024-04-28T00:00:00",
          "2024-04-29T00:00:00",
          "2024-04-30T00:00:00",
          "2024-05-01T00:00:00",
          "2024-05-02T00:00:00",
          "2024-05-03T00:00:00",
          "2024-05-04T00:00:00",
          "2024-05-05T00:00:00",
          "2024-05-06T00:00:00",
          "2024-05-07T00:00:00",
          "2024-05-08T00:00:00",
          "2024-05-09T00:00:00",
          "2024-05-10T00:00:00",
          "2024-05-11T00:00:00",
          "2024-05-12T00:00:00",
          "2024-05-13T00:00:00",
          "2024-05-14T00:00:00",
          "2024-05-15T00:00:00",
          "2024-05-16T00:00:00",
          "2024-05-17T00:00:00",
          "2024-05-18T00:00:00",
          "2024-05-19T00:00:00",
          "2024-05-20T00:00:00",
          "2024-05-21T00:00:00",
          "2024-05-22T00:00:00",
          "2024-05-23T00:00:00",
          "2024-05-24T00:00:00",
          "2024-05-25T00:00:00",
          "2024-05-26T00:00:00",
          "2024-05-27T00:00:00",
          "2024-05-28T00:00:00",
          "2024-05-29T00:00:00",
          "2024-05-30T00:00:00",
          "2024-05-31T00:00:00",
          "2024-06-01T00:00:00",
          "2024-06-02T00:00:00",
          "2024-06-03T00:00:00",
          "2024-06-04T00:00:00",
          "2024-06-05T00:00:00",
          "2024-06-06T00:00:00",
          "2024-06-07T00:00:00",
          "2024-06-08T00:00:00",
          "2024-06-09T00:00:00",
          "2024-06-10T00:00:00",
          "2024-06-11T00:00:00",
          "2024-06-12T00:00:00",
          "2024-06-13T00:00:00",
          "2024-06-14T00:00:00",
          "2024-06-15T00:00:00",
          "2024-06-16T00:00:00",
          "2024-06-17T00:00:00",
          "2024-06-18T00:00:00",
          "2024-06-19T00:00:00",
          "2024-06-20T00:00:00",
          "2024-06-21T00:00:00",
          "2024-06-22T00:00:00",
          "2024-06-23T00:00:00",
          "2024-06-24T00:00:00",
          "2024-06-25T00:00:00",
          "2024-06-26T00:00:00",
          "2024-06-27T00:00:00",
          "2024-06-28T00:00:00",
          "2024-06-29T00:00:00",
          "2024-06-30T00:00:00",
          "2024-07-01T00:00:00",
          "2024-07-02T00:00:00",
          "2024-07-03T00:00:00",
          "2024-07-04T00:00:00",
          "2024-07-05T00:00:00",
          "2024-07-06T00:00:00",
          "2024-07-07T00:00:00",
          "2024-07-08T00:00:00",
          "2024-07-09T00:00:00",
          "2024-07-10T00:00:00",
          "2024-07-11T00:00:00",
          "2024-07-12T00:00:00",
          "2024-07-13T00:00:00",
          "2024-07-14T00:00:00",
          "2024-07-15T00:00:00",
          "2024-07-16T00:00:00",
          "2024-07-17T00:00:00",
          "2024-07-18T00:00:00",
          "2024-07-19T00:00:00",
          "2024-07-20T00:00:00",
          "2024-07-21T00:00:00",
          "2024-07-22T00:00:00",
          "2024-07-23T00:00:00",
          "2024-07-24T00:00:00",
          "2024-07-25T00:00:00",
          "2024-07-26T00:00:00",
          "2024-07-27T00:00:00",
          "2024-07-28T00:00:00",
          "2024-07-29T00:00:00",
          "2024-07-30T00:00:00",
          "2024-07-31T00:00:00",
          "2024-08-01T00:00:00",
          "2024-08-02T00:00:00",
          "2024-08-03T00:00:00",
          "2024-08-04T00:00:00",
          "2024-08-05T00:00:00",
          "2024-08-06T00:00:00",
          "2024-08-07T00:00:00",
          "2024-08-08T00:00:00",
          "2024-08-09T00:00:00",
          "2024-08-10T00:00:00",
          "2024-08-11T00:00:00",
          "2024-08-12T00:00:00",
          "2024-08-13T00:00:00",
          "2024-08-14T00:00:00",
          "2024-08-15T00:00:00",
          "2024-08-16T00:00:00",
          "2024-08-17T00:00:00",
          "2024-08-18T00:00:00",
          "2024-08-19T00:00:00",
          "2024-08-20T00:00:00",
          "2024-08-21T00:00:00",
          "2024-08-22T00:00:00",
          "2024-08-23T00:00:00",
          "2024-08-24T00:00:00",
          "2024-08-25T00:00:00",
          "2024-08-26T00:00:00",
          "2024-08-27T00:00:00",
          "2024-08-28T00:00:00",
          "2024-08-29T00:00:00",
          "2024-08-30T00:00:00"
         ],
         "y": [
          247.78111967967988,
          245.8765215287909,
          256.2440153304312,
          240.84214160127883,
          268.9238312795503,
          232.02838704534975,
          270.1111090370999,
          246.43552514522182,
          244.53092701016314,
          254.89842082737528,
          239.4965471089158,
          267.5782367978035,
          230.68279255848057,
          268.76551454510786,
          245.08993061109126,
          243.1853324339106,
          253.55282620938212,
          238.15095245382014,
          266.2326421058075,
          229.3371978212814,
          267.4199197628157,
          243.7443358204983,
          241.83973763516198,
          252.20723139689724,
          236.80535762786945,
          264.8870472663144,
          227.99160297654475,
          266.07432489942136,
          242.39874093870733,
          240.49414273460013,
          250.86163648314493,
          235.45976270099482,
          263.54145233695266,
          226.64600804461338,
          264.72872997838834,
          241.05314602842012,
          239.1485478392917,
          249.51604160267428,
          234.1141678352958,
          262.19585747546216,
          225.30041318727058,
          263.38313511539553,
          239.70755115970283,
          237.80295296073388,
          248.1704467142451,
          232.7685729266399,
          260.85026254633544,
          223.9548182377126,
          262.03754015522026,
          238.36195618910267,
          236.45735797954794,
          246.8248517227472,
          231.4229779351822,
          259.50466755491476,
          222.6092232276677,
          260.69194512655116,
          237.01636114150244,
          235.111762913225,
          245.47925663552417,
          230.07738282708874,
          258.1590724261039,
          221.26362809677832,
          259.3463499934919,
          235.67076600679187,
          233.76616777658498,
          244.13366149899443,
          228.73178769076438,
          256.81347728759823,
          219.9180329562173,
          258.000754850897,
          234.32517086176523,
          232.42057262742782,
          242.78806634566644,
          227.38619253308977,
          255.467882128101,
          218.5724377947199,
          256.6551596890552,
          232.97957569969876,
          231.07497746726094,
          241.44247118713966,
          226.04020094404436,
          254.12149410841633,
          217.22565334450422,
          255.3079788066608,
          231.63199838512165,
          229.72695068409078,
          240.09399493584323,
          224.69167165668856,
          252.77291178502387,
          215.87447465036882,
          253.954203741782,
          230.2756269494111,
          228.3680359138624,
          238.7324802673497,
          223.32755709002495,
          251.40619732012553,
          214.5077036219932,
          252.58737614986322,
          228.9087411476769,
          227.0010919022827,
          237.3655346091896,
          221.96060978553376,
          249.99590198618304,
          213.05406025862706,
          251.09038475704753,
          227.36840337173464,
          225.41740774323046,
          235.73849640641637,
          220.2902175385575,
          248.32550207825756,
          211.38365268969304,
          249.41996951709433,
          225.6979804606575,
          223.7469771611532,
          234.06806581403885,
          218.6197869361973,
          246.65507146580387,
          209.7132220671607,
          247.74953889448474,
          224.02754983816584,
          222.07654653849787,
          232.39763519155966,
          216.94935631374892,
          244.98464084329368,
          208.04279144462834,
          246.0791082720188,
          222.3571192156742,
          220.4061159160829,
          230.7272045689631,
          215.27892569113925,
          243.31421022083572,
          206.37236082215662,
          244.40867764949175,
          220.6866885930641,
          218.73568529353713,
          229.0567739463665,
          213.60849506868277,
          241.6437795983255,
          204.70193019962426,
          242.7382470270473,
          219.01625797069087,
          217.0652546710126,
          227.38634332400466,
          211.93806444615376,
          239.97334897578742,
          203.0314995771222,
          241.06781640460287,
          217.3458273481165,
          215.39482404846683,
          225.71591270140806,
          210.26763382370538,
          238.30291835327722,
          201.3610689546026,
          239.39738578199325,
          215.67539672574327,
          213.7243934260519,
          224.04548207892887,
          208.597203201257,
          236.6324877307391,
          199.69063833210055,
          237.7269551595488,
          214.00496610313317,
          212.05396280350612,
          222.37505145641543,
          206.92677257855863,
          234.96205710825683,
          198.02020770956818,
          236.05652453702177,
          212.3345354806772,
          210.3835321810912,
          220.70462083393625,
          205.2563419560296,
          233.29162648571872,
          196.34977708706614,
          234.38609391447324,
          210.66410485818557,
          208.7131015584145,
          219.0341902113397,
          203.5859113335812,
          231.62119586323283,
          194.6793464645338,
          232.71566329194619,
          208.99367423569393
         ]
        },
        {
         "line": {
          "color": "purple",
          "dash": "dot"
         },
         "mode": "lines",
         "name": "ARIMA Forecast",
         "type": "scatter",
         "x": [
          "2024-07-18T00:00:00",
          "2024-07-19T00:00:00",
          "2024-07-20T00:00:00",
          "2024-07-21T00:00:00",
          "2024-07-22T00:00:00",
          "2024-07-23T00:00:00",
          "2024-07-24T00:00:00",
          "2024-07-25T00:00:00",
          "2024-07-26T00:00:00",
          "2024-07-27T00:00:00",
          "2024-07-28T00:00:00",
          "2024-07-29T00:00:00",
          "2024-07-30T00:00:00",
          "2024-07-31T00:00:00",
          "2024-08-01T00:00:00",
          "2024-08-02T00:00:00",
          "2024-08-03T00:00:00",
          "2024-08-04T00:00:00",
          "2024-08-05T00:00:00",
          "2024-08-06T00:00:00",
          "2024-08-07T00:00:00",
          "2024-08-08T00:00:00",
          "2024-08-09T00:00:00",
          "2024-08-10T00:00:00",
          "2024-08-11T00:00:00",
          "2024-08-12T00:00:00",
          "2024-08-13T00:00:00",
          "2024-08-14T00:00:00",
          "2024-08-15T00:00:00",
          "2024-08-16T00:00:00",
          "2024-08-17T00:00:00",
          "2024-08-18T00:00:00",
          "2024-08-19T00:00:00",
          "2024-08-20T00:00:00",
          "2024-08-21T00:00:00",
          "2024-08-22T00:00:00",
          "2024-08-23T00:00:00",
          "2024-08-24T00:00:00",
          "2024-08-25T00:00:00",
          "2024-08-26T00:00:00",
          "2024-08-27T00:00:00",
          "2024-08-28T00:00:00",
          "2024-08-29T00:00:00",
          "2024-08-30T00:00:00"
         ],
         "y": [
          103.48542695613303,
          62.94299819703058,
          77.14435181634732,
          56.802267393161785,
          72.40863339428584,
          63.44525355843765,
          74.61963066193023,
          65.47008020514293,
          69.56200636046547,
          66.26842426564298,
          69.84379217600522,
          67.30561608724088,
          69.25506291527678,
          67.57442263576742,
          68.6419817331403,
          67.92435549864216,
          68.62843297796303,
          68.04394306130392,
          68.4493188591813,
          68.13760826848365,
          68.37469526595889,
          68.20440070687079,
          68.34702124515569,
          68.22640461863253,
          68.31372751211461,
          68.25078051952552,
          68.3003824046828,
          68.26184302912904,
          68.29205968150752,
          68.26770336974721,
          68.28611078817228,
          68.27272011241675,
          68.28311924597264,
          68.27480895569485,
          68.28127004034252,
          68.27626932986405,
          68.28009752048631,
          68.27722661730775,
          68.2794369942098,
          68.27768160431296,
          68.27905022697556,
          68.27800584830104,
          68.27880410663526,
          68.2781929393026
         ]
        },
        {
         "line": {
          "color": "rgba(0,0,0,0)"
         },
         "mode": "lines",
         "showlegend": false,
         "type": "scatter",
         "x": [
          "2024-03-01T00:00:00",
          "2024-03-02T00:00:00",
          "2024-03-03T00:00:00",
          "2024-03-04T00:00:00",
          "2024-03-05T00:00:00",
          "2024-03-06T00:00:00",
          "2024-03-07T00:00:00",
          "2024-03-08T00:00:00",
          "2024-03-09T00:00:00",
          "2024-03-10T00:00:00",
          "2024-03-11T00:00:00",
          "2024-03-12T00:00:00",
          "2024-03-13T00:00:00",
          "2024-03-14T00:00:00",
          "2024-03-15T00:00:00",
          "2024-03-16T00:00:00",
          "2024-03-17T00:00:00",
          "2024-03-18T00:00:00",
          "2024-03-19T00:00:00",
          "2024-03-20T00:00:00",
          "2024-03-21T00:00:00",
          "2024-03-22T00:00:00",
          "2024-03-23T00:00:00",
          "2024-03-24T00:00:00",
          "2024-03-25T00:00:00",
          "2024-03-26T00:00:00",
          "2024-03-27T00:00:00",
          "2024-03-28T00:00:00",
          "2024-03-29T00:00:00",
          "2024-03-30T00:00:00",
          "2024-03-31T00:00:00",
          "2024-04-01T00:00:00",
          "2024-04-02T00:00:00",
          "2024-04-03T00:00:00",
          "2024-04-04T00:00:00",
          "2024-04-05T00:00:00",
          "2024-04-06T00:00:00",
          "2024-04-07T00:00:00",
          "2024-04-08T00:00:00",
          "2024-04-09T00:00:00",
          "2024-04-10T00:00:00",
          "2024-04-11T00:00:00",
          "2024-04-12T00:00:00",
          "2024-04-13T00:00:00",
          "2024-04-14T00:00:00",
          "2024-04-15T00:00:00",
          "2024-04-16T00:00:00",
          "2024-04-17T00:00:00",
          "2024-04-18T00:00:00",
          "2024-04-19T00:00:00",
          "2024-04-20T00:00:00",
          "2024-04-21T00:00:00",
          "2024-04-22T00:00:00",
          "2024-04-23T00:00:00",
          "2024-04-24T00:00:00",
          "2024-04-25T00:00:00",
          "2024-04-26T00:00:00",
          "2024-04-27T00:00:00",
          "2024-04-28T00:00:00",
          "2024-04-29T00:00:00",
          "2024-04-30T00:00:00",
          "2024-05-01T00:00:00",
          "2024-05-02T00:00:00",
          "2024-05-03T00:00:00",
          "2024-05-04T00:00:00",
          "2024-05-05T00:00:00",
          "2024-05-06T00:00:00",
          "2024-05-07T00:00:00",
          "2024-05-08T00:00:00",
          "2024-05-09T00:00:00",
          "2024-05-10T00:00:00",
          "2024-05-11T00:00:00",
          "2024-05-12T00:00:00",
          "2024-05-13T00:00:00",
          "2024-05-14T00:00:00",
          "2024-05-15T00:00:00",
          "2024-05-16T00:00:00",
          "2024-05-17T00:00:00",
          "2024-05-18T00:00:00",
          "2024-05-19T00:00:00",
          "2024-05-20T00:00:00",
          "2024-05-21T00:00:00",
          "2024-05-22T00:00:00",
          "2024-05-23T00:00:00",
          "2024-05-24T00:00:00",
          "2024-05-25T00:00:00",
          "2024-05-26T00:00:00",
          "2024-05-27T00:00:00",
          "2024-05-28T00:00:00",
          "2024-05-29T00:00:00",
          "2024-05-30T00:00:00",
          "2024-05-31T00:00:00",
          "2024-06-01T00:00:00",
          "2024-06-02T00:00:00",
          "2024-06-03T00:00:00",
          "2024-06-04T00:00:00",
          "2024-06-05T00:00:00",
          "2024-06-06T00:00:00",
          "2024-06-07T00:00:00",
          "2024-06-08T00:00:00",
          "2024-06-09T00:00:00",
          "2024-06-10T00:00:00",
          "2024-06-11T00:00:00",
          "2024-06-12T00:00:00",
          "2024-06-13T00:00:00",
          "2024-06-14T00:00:00",
          "2024-06-15T00:00:00",
          "2024-06-16T00:00:00",
          "2024-06-17T00:00:00",
          "2024-06-18T00:00:00",
          "2024-06-19T00:00:00",
          "2024-06-20T00:00:00",
          "2024-06-21T00:00:00",
          "2024-06-22T00:00:00",
          "2024-06-23T00:00:00",
          "2024-06-24T00:00:00",
          "2024-06-25T00:00:00",
          "2024-06-26T00:00:00",
          "2024-06-27T00:00:00",
          "2024-06-28T00:00:00",
          "2024-06-29T00:00:00",
          "2024-06-30T00:00:00",
          "2024-07-01T00:00:00",
          "2024-07-02T00:00:00",
          "2024-07-03T00:00:00",
          "2024-07-04T00:00:00",
          "2024-07-05T00:00:00",
          "2024-07-06T00:00:00",
          "2024-07-07T00:00:00",
          "2024-07-08T00:00:00",
          "2024-07-09T00:00:00",
          "2024-07-10T00:00:00",
          "2024-07-11T00:00:00",
          "2024-07-12T00:00:00",
          "2024-07-13T00:00:00",
          "2024-07-14T00:00:00",
          "2024-07-15T00:00:00",
          "2024-07-16T00:00:00",
          "2024-07-17T00:00:00",
          "2024-07-18T00:00:00",
          "2024-07-19T00:00:00",
          "2024-07-20T00:00:00",
          "2024-07-21T00:00:00",
          "2024-07-22T00:00:00",
          "2024-07-23T00:00:00",
          "2024-07-24T00:00:00",
          "2024-07-25T00:00:00",
          "2024-07-26T00:00:00",
          "2024-07-27T00:00:00",
          "2024-07-28T00:00:00",
          "2024-07-29T00:00:00",
          "2024-07-30T00:00:00",
          "2024-07-31T00:00:00",
          "2024-08-01T00:00:00",
          "2024-08-02T00:00:00",
          "2024-08-03T00:00:00",
          "2024-08-04T00:00:00",
          "2024-08-05T00:00:00",
          "2024-08-06T00:00:00",
          "2024-08-07T00:00:00",
          "2024-08-08T00:00:00",
          "2024-08-09T00:00:00",
          "2024-08-10T00:00:00",
          "2024-08-11T00:00:00",
          "2024-08-12T00:00:00",
          "2024-08-13T00:00:00",
          "2024-08-14T00:00:00",
          "2024-08-15T00:00:00",
          "2024-08-16T00:00:00",
          "2024-08-17T00:00:00",
          "2024-08-18T00:00:00",
          "2024-08-19T00:00:00",
          "2024-08-20T00:00:00",
          "2024-08-21T00:00:00",
          "2024-08-22T00:00:00",
          "2024-08-23T00:00:00",
          "2024-08-24T00:00:00",
          "2024-08-25T00:00:00",
          "2024-08-26T00:00:00",
          "2024-08-27T00:00:00",
          "2024-08-28T00:00:00",
          "2024-08-29T00:00:00",
          "2024-08-30T00:00:00"
         ],
         "y": [
          409.758941235038,
          399.71777207538724,
          403.919174396789,
          399.19573401874425,
          435.81068087181023,
          380.17290762012505,
          431.84434103267006,
          400.06784826075375,
          397.4660527391513,
          411.18789496365224,
          388.32997318344695,
          419.60760235595336,
          392.808935090353,
          423.4096445855477,
          397.41693129548315,
          381.571467219761,
          409.9614978135072,
          407.0219658623419,
          420.3933962146724,
          384.2349314898046,
          419.879213912533,
          394.1248638329853,
          390.92715057169386,
          388.3072589912385,
          391.48385154798063,
          425.3804979196364,
          378.4406263072817,
          422.5320486461506,
          403.8571022385209,
          401.8902623669174,
          415.56237194066017,
          396.4449653044957,
          423.673345982203,
          374.8198752571642,
          414.49409153450125,
          391.6980388063423,
          391.57786822933014,
          408.4762821210432,
          384.48675012672226,
          414.5851831114401,
          379.7028834446167,
          424.73149074196397,
          388.524359884586,
          392.1030404073514,
          407.5497227082305,
          392.88043373591654,
          406.7625209974021,
          379.49419808631126,
          422.45491787900573,
          403.4655027723895,
          396.55612281868173,
          412.24089872423275,
          387.4565009087175,
          413.2979683925357,
          382.91059144242473,
          419.4132075710283,
          392.5758959916047,
          382.3715342665898,
          390.8146005761908,
          389.44573139951416,
          416.53069410025876,
          367.1277352606701,
          419.1773892106154,
          391.07406249583875,
          391.9792093285926,
          397.39029262209766,
          386.7267009089722,
          406.40402851171837,
          381.7163262449558,
          409.56823040696776,
          404.06291252564984,
          384.71484271936197,
          399.73978689920443,
          390.7392651868474,
          410.09737166058716,
          379.07855294790505,
          411.1970308256417,
          382.92348278067163,
          391.6584173131959,
          403.10263946278315,
          376.077852361762,
          405.23467028521094,
          371.1524516446729,
          420.59490841777136,
          393.6372741019633,
          399.4385769134204,
          389.2069582356596,
          386.95053834490403,
          411.7157787741115,
          361.4262300633943,
          415.69134147213583,
          388.81761241323335,
          370.75834437190315,
          388.95478733363746,
          373.18796346333886,
          414.2024261408959,
          363.16763076077063,
          401.12740846569073,
          386.40684202389247,
          380.2053701638914,
          395.2264582970355,
          365.5343458905856,
          408.4965574412617,
          358.13414024338726,
          407.43652636233577,
          390.76535916232774,
          374.54356825717554,
          388.95304477228535,
          394.02657008444544,
          391.27270970294353,
          363.1384367144961,
          400.5734497219413,
          374.1788546587684,
          380.24973349644586,
          385.93370368435995,
          370.2004562041742,
          402.69545512800516,
          367.5245008182144,
          408.30104580648685,
          376.8301162263477,
          370.3064576100596,
          387.787136936147,
          362.61906403911956,
          403.9549207555512,
          360.07909561467903,
          413.52507463745764,
          384.7946029248022,
          376.6601287330106,
          381.30770890597285,
          373.6268229932108,
          410.3379997905416,
          361.731733027633,
          406.1535363077702,
          372.2813000380148,
          391.5761355097057,
          384.06408360377196,
          357.05018225767327,
          402.92208527137205,
          368.6366027187926,
          403.46545590983055,
          368.26560752024767,
          366.34602900011777,
          398.4764830875412,
          367.9067717023477,
          392.5620380499792,
          347.08123337718916,
          400.3393683879829,
          366.7129524870535,
          371.78905979523637,
          380.7359521712275,
          372.9337779085287,
          401.19322981731136,
          365.4906195611384,
          387.0054932133785,
          371.6020637928338,
          357.7044376572272,
          383.9538113238181,
          370.0887911939325,
          392.6626717967044,
          354.1047566625841,
          385.7578239184939,
          365.2342529290475,
          358.02564605121853,
          381.204955449032,
          367.03023984199046,
          391.90466561364724,
          349.8527262650454,
          402.91450445244374,
          377.8750207646172,
          355.50066211151943,
          366.2427264445331,
          366.7891739547341,
          393.03130834695804,
          360.10241457194587,
          390.09664740590125,
          364.3074050170846,
          368.1408128427152,
          383.40035827395144,
          357.11829637041626,
          382.77507035816956,
          353.2303984261254,
          390.529854011135,
          375.63726403095905
         ]
        },
        {
         "fill": "tonexty",
         "fillcolor": "rgba(255,0,0,0.2)",
         "line": {
          "color": "rgba(0,0,0,0)"
         },
         "mode": "lines",
         "name": "Confidence Interval",
         "type": "scatter",
         "x": [
          "2024-03-01T00:00:00",
          "2024-03-02T00:00:00",
          "2024-03-03T00:00:00",
          "2024-03-04T00:00:00",
          "2024-03-05T00:00:00",
          "2024-03-06T00:00:00",
          "2024-03-07T00:00:00",
          "2024-03-08T00:00:00",
          "2024-03-09T00:00:00",
          "2024-03-10T00:00:00",
          "2024-03-11T00:00:00",
          "2024-03-12T00:00:00",
          "2024-03-13T00:00:00",
          "2024-03-14T00:00:00",
          "2024-03-15T00:00:00",
          "2024-03-16T00:00:00",
          "2024-03-17T00:00:00",
          "2024-03-18T00:00:00",
          "2024-03-19T00:00:00",
          "2024-03-20T00:00:00",
          "2024-03-21T00:00:00",
          "2024-03-22T00:00:00",
          "2024-03-23T00:00:00",
          "2024-03-24T00:00:00",
          "2024-03-25T00:00:00",
          "2024-03-26T00:00:00",
          "2024-03-27T00:00:00",
          "2024-03-28T00:00:00",
          "2024-03-29T00:00:00",
          "2024-03-30T00:00:00",
          "2024-03-31T00:00:00",
          "2024-04-01T00:00:00",
          "2024-04-02T00:00:00",
          "2024-04-03T00:00:00",
          "2024-04-04T00:00:00",
          "2024-04-05T00:00:00",
          "2024-04-06T00:00:00",
          "2024-04-07T00:00:00",
          "2024-04-08T00:00:00",
          "2024-04-09T00:00:00",
          "2024-04-10T00:00:00",
          "2024-04-11T00:00:00",
          "2024-04-12T00:00:00",
          "2024-04-13T00:00:00",
          "2024-04-14T00:00:00",
          "2024-04-15T00:00:00",
          "2024-04-16T00:00:00",
          "2024-04-17T00:00:00",
          "2024-04-18T00:00:00",
          "2024-04-19T00:00:00",
          "2024-04-20T00:00:00",
          "2024-04-21T00:00:00",
          "2024-04-22T00:00:00",
          "2024-04-23T00:00:00",
          "2024-04-24T00:00:00",
          "2024-04-25T00:00:00",
          "2024-04-26T00:00:00",
          "2024-04-27T00:00:00",
          "2024-04-28T00:00:00",
          "2024-04-29T00:00:00",
          "2024-04-30T00:00:00",
          "2024-05-01T00:00:00",
          "2024-05-02T00:00:00",
          "2024-05-03T00:00:00",
          "2024-05-04T00:00:00",
          "2024-05-05T00:00:00",
          "2024-05-06T00:00:00",
          "2024-05-07T00:00:00",
          "2024-05-08T00:00:00",
          "2024-05-09T00:00:00",
          "2024-05-10T00:00:00",
          "2024-05-11T00:00:00",
          "2024-05-12T00:00:00",
          "2024-05-13T00:00:00",
          "2024-05-14T00:00:00",
          "2024-05-15T00:00:00",
          "2024-05-16T00:00:00",
          "2024-05-17T00:00:00",
          "2024-05-18T00:00:00",
          "2024-05-19T00:00:00",
          "2024-05-20T00:00:00",
          "2024-05-21T00:00:00",
          "2024-05-22T00:00:00",
          "2024-05-23T00:00:00",
          "2024-05-24T00:00:00",
          "2024-05-25T00:00:00",
          "2024-05-26T00:00:00",
          "2024-05-27T00:00:00",
          "2024-05-28T00:00:00",
          "2024-05-29T00:00:00",
          "2024-05-30T00:00:00",
          "2024-05-31T00:00:00",
          "2024-06-01T00:00:00",
          "2024-06-02T00:00:00",
          "2024-06-03T00:00:00",
          "2024-06-04T00:00:00",
          "2024-06-05T00:00:00",
          "2024-06-06T00:00:00",
          "2024-06-07T00:00:00",
          "2024-06-08T00:00:00",
          "2024-06-09T00:00:00",
          "2024-06-10T00:00:00",
          "2024-06-11T00:00:00",
          "2024-06-12T00:00:00",
          "2024-06-13T00:00:00",
          "2024-06-14T00:00:00",
          "2024-06-15T00:00:00",
          "2024-06-16T00:00:00",
          "2024-06-17T00:00:00",
          "2024-06-18T00:00:00",
          "2024-06-19T00:00:00",
          "2024-06-20T00:00:00",
          "2024-06-21T00:00:00",
          "2024-06-22T00:00:00",
          "2024-06-23T00:00:00",
          "2024-06-24T00:00:00",
          "2024-06-25T00:00:00",
          "2024-06-26T00:00:00",
          "2024-06-27T00:00:00",
          "2024-06-28T00:00:00",
          "2024-06-29T00:00:00",
          "2024-06-30T00:00:00",
          "2024-07-01T00:00:00",
          "2024-07-02T00:00:00",
          "2024-07-03T00:00:00",
          "2024-07-04T00:00:00",
          "2024-07-05T00:00:00",
          "2024-07-06T00:00:00",
          "2024-07-07T00:00:00",
          "2024-07-08T00:00:00",
          "2024-07-09T00:00:00",
          "2024-07-10T00:00:00",
          "2024-07-11T00:00:00",
          "2024-07-12T00:00:00",
          "2024-07-13T00:00:00",
          "2024-07-14T00:00:00",
          "2024-07-15T00:00:00",
          "2024-07-16T00:00:00",
          "2024-07-17T00:00:00",
          "2024-07-18T00:00:00",
          "2024-07-19T00:00:00",
          "2024-07-20T00:00:00",
          "2024-07-21T00:00:00",
          "2024-07-22T00:00:00",
          "2024-07-23T00:00:00",
          "2024-07-24T00:00:00",
          "2024-07-25T00:00:00",
          "2024-07-26T00:00:00",
          "2024-07-27T00:00:00",
          "2024-07-28T00:00:00",
          "2024-07-29T00:00:00",
          "2024-07-30T00:00:00",
          "2024-07-31T00:00:00",
          "2024-08-01T00:00:00",
          "2024-08-02T00:00:00",
          "2024-08-03T00:00:00",
          "2024-08-04T00:00:00",
          "2024-08-05T00:00:00",
          "2024-08-06T00:00:00",
          "2024-08-07T00:00:00",
          "2024-08-08T00:00:00",
          "2024-08-09T00:00:00",
          "2024-08-10T00:00:00",
          "2024-08-11T00:00:00",
          "2024-08-12T00:00:00",
          "2024-08-13T00:00:00",
          "2024-08-14T00:00:00",
          "2024-08-15T00:00:00",
          "2024-08-16T00:00:00",
          "2024-08-17T00:00:00",
          "2024-08-18T00:00:00",
          "2024-08-19T00:00:00",
          "2024-08-20T00:00:00",
          "2024-08-21T00:00:00",
          "2024-08-22T00:00:00",
          "2024-08-23T00:00:00",
          "2024-08-24T00:00:00",
          "2024-08-25T00:00:00",
          "2024-08-26T00:00:00",
          "2024-08-27T00:00:00",
          "2024-08-28T00:00:00",
          "2024-08-29T00:00:00",
          "2024-08-30T00:00:00"
         ],
         "y": [
          103.3560344451027,
          88.96865587376536,
          100.09533184550193,
          95.13086444905954,
          114.21583809031432,
          91.30677725463634,
          110.4822446077932,
          83.73868965202287,
          88.44161621421132,
          100.4966823731526,
          84.56735809244019,
          108.35726915936877,
          78.43650992143019,
          116.9709427375357,
          93.59356635269016,
          89.64593049152421,
          102.41572920299654,
          84.96557418830983,
          114.79772858699002,
          57.83349657708631,
          109.73320021216918,
          79.5772252447686,
          81.00122244310971,
          93.69067041985106,
          87.02253512576435,
          107.37139833164379,
          71.12153299458781,
          99.78930988005546,
          89.5994336347766,
          81.56128775787056,
          92.39583916805582,
          92.35218878333453,
          99.98073067663059,
          73.01018531868787,
          114.21315575145168,
          79.02594747056222,
          81.29666134185136,
          96.00088794914197,
          84.53183858095468,
          105.62944054888541,
          68.0171707391457,
          104.03343041755855,
          73.02432069344246,
          88.37141718828275,
          92.27285242925703,
          78.42361795920087,
          103.82636115443796,
          66.29362954316292,
          113.62050291636979,
          78.53567881245904,
          83.70120234977715,
          101.08674160732232,
          69.43828157384783,
          98.43440114133836,
          63.32567490262044,
          105.64088848182986,
          80.05272896643557,
          87.4284921102006,
          78.1638134790723,
          79.52037947927298,
          106.81037394893556,
          62.300242196178175,
          105.91040301672648,
          78.3586083735258,
          86.54824537117027,
          98.17473010665027,
          72.12898594185458,
          90.49020288164884,
          73.37063906151971,
          104.99728072213748,
          80.75216602891726,
          72.36391842814099,
          79.05718179504662,
          82.55423464713108,
          85.59230369437886,
          53.94151981681451,
          108.40836393170918,
          80.60514954586436,
          66.77557667774013,
          86.68761249620223,
          68.4804015955428,
          93.96867684430381,
          45.05132014889712,
          103.16038982542821,
          64.81933521275559,
          77.2416820943099,
          83.46508096520677,
          68.87801335046963,
          94.68914376048359,
          71.40228260006991,
          100.19135422300845,
          73.91097306248112,
          74.65611418664331,
          84.9333547669827,
          75.11212002538498,
          96.75789952570815,
          62.322657136026194,
          100.67854596441488,
          72.7114185923416,
          66.98441301352922,
          92.31920758764615,
          67.44125066833199,
          100.91528079597695,
          56.14814581884657,
          91.59928146499958,
          75.27356864981628,
          68.52598282765176,
          68.45421292048769,
          73.73132177470274,
          104.16618890046237,
          64.18727731230936,
          87.91342700493371,
          59.82164914887737,
          74.43194681569568,
          93.38027895760042,
          63.61266267405885,
          90.14754371281411,
          57.78552777928492,
          89.80526246007626,
          66.74012174082297,
          65.48081176483728,
          76.92517094273643,
          72.18114469153883,
          102.79966263336604,
          49.699923379091274,
          102.6609000113656,
          70.46776587205514,
          72.92880986625066,
          66.06264126223773,
          54.836722060332285,
          83.3487928839578,
          40.934109126459134,
          76.74455917140754,
          66.71192704735168,
          65.84897466603189,
          70.48062080230416,
          69.81790189886244,
          88.03980119461397,
          36.11796399197898,
          94.81159090327738,
          57.88861118319536,
          54.91724360621323,
          65.8893767983622,
          57.812940493027185,
          83.49854107669962,
          51.92166331755068,
          75.15143234054277,
          75.62236580434433,
          64.24796194619903,
          65.21914649642572,
          59.8669317057946,
          90.27560196472719,
          31.657200927717295,
          90.36654851643283,
          55.42800157461128,
          59.072155917332886,
          70.62631705177478,
          48.936360119534605,
          84.2672093843801,
          46.56686531184123,
          81.85219684084313,
          46.71654387553642,
          48.83155740646552,
          65.15583983151008,
          51.39266761362771,
          68.65660680303051,
          36.905766942303245,
          80.13028936199473,
          67.22992376107098,
          54.67465012645206,
          61.65426132968238,
          49.12654526250733,
          72.43486028000436,
          38.21231675016928,
          79.01100906273852,
          51.81080841276847,
          61.568262745283434,
          62.36793692686638,
          46.39070066720535,
          76.11813236501385,
          22.45322071387592,
          67.62116988616336,
          53.586619725681565
         ]
        }
       ],
       "layout": {
        "height": 600,
        "template": {
         "data": {
          "bar": [
           {
            "error_x": {
             "color": "#2a3f5f"
            },
            "error_y": {
             "color": "#2a3f5f"
            },
            "marker": {
             "line": {
              "color": "#E5ECF6",
              "width": 0.5
             },
             "pattern": {
              "fillmode": "overlay",
              "size": 10,
              "solidity": 0.2
             }
            },
            "type": "bar"
           }
          ],
          "barpolar": [
           {
            "marker": {
             "line": {
              "color": "#E5ECF6",
              "width": 0.5
             },
             "pattern": {
              "fillmode": "overlay",
              "size": 10,
              "solidity": 0.2
             }
            },
            "type": "barpolar"
           }
          ],
          "carpet": [
           {
            "aaxis": {
             "endlinecolor": "#2a3f5f",
             "gridcolor": "white",
             "linecolor": "white",
             "minorgridcolor": "white",
             "startlinecolor": "#2a3f5f"
            },
            "baxis": {
             "endlinecolor": "#2a3f5f",
             "gridcolor": "white",
             "linecolor": "white",
             "minorgridcolor": "white",
             "startlinecolor": "#2a3f5f"
            },
            "type": "carpet"
           }
          ],
          "choropleth": [
           {
            "colorbar": {
             "outlinewidth": 0,
             "ticks": ""
            },
            "type": "choropleth"
           }
          ],
          "contour": [
           {
            "colorbar": {
             "outlinewidth": 0,
             "ticks": ""
            },
            "colorscale": [
             [
              0,
              "#0d0887"
             ],
             [
              0.1111111111111111,
              "#46039f"
             ],
             [
              0.2222222222222222,
              "#7201a8"
             ],
             [
              0.3333333333333333,
              "#9c179e"
             ],
             [
              0.4444444444444444,
              "#bd3786"
             ],
             [
              0.5555555555555556,
              "#d8576b"
             ],
             [
              0.6666666666666666,
              "#ed7953"
             ],
             [
              0.7777777777777778,
              "#fb9f3a"
             ],
             [
              0.8888888888888888,
              "#fdca26"
             ],
             [
              1,
              "#f0f921"
             ]
            ],
            "type": "contour"
           }
          ],
          "contourcarpet": [
           {
            "colorbar": {
             "outlinewidth": 0,
             "ticks": ""
            },
            "type": "contourcarpet"
           }
          ],
          "heatmap": [
           {
            "colorbar": {
             "outlinewidth": 0,
             "ticks": ""
            },
            "colorscale": [
             [
              0,
              "#0d0887"
             ],
             [
              0.1111111111111111,
              "#46039f"
             ],
             [
              0.2222222222222222,
              "#7201a8"
             ],
             [
              0.3333333333333333,
              "#9c179e"
             ],
             [
              0.4444444444444444,
              "#bd3786"
             ],
             [
              0.5555555555555556,
              "#d8576b"
             ],
             [
              0.6666666666666666,
              "#ed7953"
             ],
             [
              0.7777777777777778,
              "#fb9f3a"
             ],
             [
              0.8888888888888888,
              "#fdca26"
             ],
             [
              1,
              "#f0f921"
             ]
            ],
            "type": "heatmap"
           }
          ],
          "heatmapgl": [
           {
            "colorbar": {
             "outlinewidth": 0,
             "ticks": ""
            },
            "colorscale": [
             [
              0,
              "#0d0887"
             ],
             [
              0.1111111111111111,
              "#46039f"
             ],
             [
              0.2222222222222222,
              "#7201a8"
             ],
             [
              0.3333333333333333,
              "#9c179e"
             ],
             [
              0.4444444444444444,
              "#bd3786"
             ],
             [
              0.5555555555555556,
              "#d8576b"
             ],
             [
              0.6666666666666666,
              "#ed7953"
             ],
             [
              0.7777777777777778,
              "#fb9f3a"
             ],
             [
              0.8888888888888888,
              "#fdca26"
             ],
             [
              1,
              "#f0f921"
             ]
            ],
            "type": "heatmapgl"
           }
          ],
          "histogram": [
           {
            "marker": {
             "pattern": {
              "fillmode": "overlay",
              "size": 10,
              "solidity": 0.2
             }
            },
            "type": "histogram"
           }
          ],
          "histogram2d": [
           {
            "colorbar": {
             "outlinewidth": 0,
             "ticks": ""
            },
            "colorscale": [
             [
              0,
              "#0d0887"
             ],
             [
              0.1111111111111111,
              "#46039f"
             ],
             [
              0.2222222222222222,
              "#7201a8"
             ],
             [
              0.3333333333333333,
              "#9c179e"
             ],
             [
              0.4444444444444444,
              "#bd3786"
             ],
             [
              0.5555555555555556,
              "#d8576b"
             ],
             [
              0.6666666666666666,
              "#ed7953"
             ],
             [
              0.7777777777777778,
              "#fb9f3a"
             ],
             [
              0.8888888888888888,
              "#fdca26"
             ],
             [
              1,
              "#f0f921"
             ]
            ],
            "type": "histogram2d"
           }
          ],
          "histogram2dcontour": [
           {
            "colorbar": {
             "outlinewidth": 0,
             "ticks": ""
            },
            "colorscale": [
             [
              0,
              "#0d0887"
             ],
             [
              0.1111111111111111,
              "#46039f"
             ],
             [
              0.2222222222222222,
              "#7201a8"
             ],
             [
              0.3333333333333333,
              "#9c179e"
             ],
             [
              0.4444444444444444,
              "#bd3786"
             ],
             [
              0.5555555555555556,
              "#d8576b"
             ],
             [
              0.6666666666666666,
              "#ed7953"
             ],
             [
              0.7777777777777778,
              "#fb9f3a"
             ],
             [
              0.8888888888888888,
              "#fdca26"
             ],
             [
              1,
              "#f0f921"
             ]
            ],
            "type": "histogram2dcontour"
           }
          ],
          "mesh3d": [
           {
            "colorbar": {
             "outlinewidth": 0,
             "ticks": ""
            },
            "type": "mesh3d"
           }
          ],
          "parcoords": [
           {
            "line": {
             "colorbar": {
              "outlinewidth": 0,
              "ticks": ""
             }
            },
            "type": "parcoords"
           }
          ],
          "pie": [
           {
            "automargin": true,
            "type": "pie"
           }
          ],
          "scatter": [
           {
            "fillpattern": {
             "fillmode": "overlay",
             "size": 10,
             "solidity": 0.2
            },
            "type": "scatter"
           }
          ],
          "scatter3d": [
           {
            "line": {
             "colorbar": {
              "outlinewidth": 0,
              "ticks": ""
             }
            },
            "marker": {
             "colorbar": {
              "outlinewidth": 0,
              "ticks": ""
             }
            },
            "type": "scatter3d"
           }
          ],
          "scattercarpet": [
           {
            "marker": {
             "colorbar": {
              "outlinewidth": 0,
              "ticks": ""
             }
            },
            "type": "scattercarpet"
           }
          ],
          "scattergeo": [
           {
            "marker": {
             "colorbar": {
              "outlinewidth": 0,
              "ticks": ""
             }
            },
            "type": "scattergeo"
           }
          ],
          "scattergl": [
           {
            "marker": {
             "colorbar": {
              "outlinewidth": 0,
              "ticks": ""
             }
            },
            "type": "scattergl"
           }
          ],
          "scattermapbox": [
           {
            "marker": {
             "colorbar": {
              "outlinewidth": 0,
              "ticks": ""
             }
            },
            "type": "scattermapbox"
           }
          ],
          "scatterpolar": [
           {
            "marker": {
             "colorbar": {
              "outlinewidth": 0,
              "ticks": ""
             }
            },
            "type": "scatterpolar"
           }
          ],
          "scatterpolargl": [
           {
            "marker": {
             "colorbar": {
              "outlinewidth": 0,
              "ticks": ""
             }
            },
            "type": "scatterpolargl"
           }
          ],
          "scatterternary": [
           {
            "marker": {
             "colorbar": {
              "outlinewidth": 0,
              "ticks": ""
             }
            },
            "type": "scatterternary"
           }
          ],
          "surface": [
           {
            "colorbar": {
             "outlinewidth": 0,
             "ticks": ""
            },
            "colorscale": [
             [
              0,
              "#0d0887"
             ],
             [
              0.1111111111111111,
              "#46039f"
             ],
             [
              0.2222222222222222,
              "#7201a8"
             ],
             [
              0.3333333333333333,
              "#9c179e"
             ],
             [
              0.4444444444444444,
              "#bd3786"
             ],
             [
              0.5555555555555556,
              "#d8576b"
             ],
             [
              0.6666666666666666,
              "#ed7953"
             ],
             [
              0.7777777777777778,
              "#fb9f3a"
             ],
             [
              0.8888888888888888,
              "#fdca26"
             ],
             [
              1,
              "#f0f921"
             ]
            ],
            "type": "surface"
           }
          ],
          "table": [
           {
            "cells": {
             "fill": {
              "color": "#EBF0F8"
             },
             "line": {
              "color": "white"
             }
            },
            "header": {
             "fill": {
              "color": "#C8D4E3"
             },
             "line": {
              "color": "white"
             }
            },
            "type": "table"
           }
          ]
         },
         "layout": {
          "annotationdefaults": {
           "arrowcolor": "#2a3f5f",
           "arrowhead": 0,
           "arrowwidth": 1
          },
          "autotypenumbers": "strict",
          "coloraxis": {
           "colorbar": {
            "outlinewidth": 0,
            "ticks": ""
           }
          },
          "colorscale": {
           "diverging": [
            [
             0,
             "#8e0152"
            ],
            [
             0.1,
             "#c51b7d"
            ],
            [
             0.2,
             "#de77ae"
            ],
            [
             0.3,
             "#f1b6da"
            ],
            [
             0.4,
             "#fde0ef"
            ],
            [
             0.5,
             "#f7f7f7"
            ],
            [
             0.6,
             "#e6f5d0"
            ],
            [
             0.7,
             "#b8e186"
            ],
            [
             0.8,
             "#7fbc41"
            ],
            [
             0.9,
             "#4d9221"
            ],
            [
             1,
             "#276419"
            ]
           ],
           "sequential": [
            [
             0,
             "#0d0887"
            ],
            [
             0.1111111111111111,
             "#46039f"
            ],
            [
             0.2222222222222222,
             "#7201a8"
            ],
            [
             0.3333333333333333,
             "#9c179e"
            ],
            [
             0.4444444444444444,
             "#bd3786"
            ],
            [
             0.5555555555555556,
             "#d8576b"
            ],
            [
             0.6666666666666666,
             "#ed7953"
            ],
            [
             0.7777777777777778,
             "#fb9f3a"
            ],
            [
             0.8888888888888888,
             "#fdca26"
            ],
            [
             1,
             "#f0f921"
            ]
           ],
           "sequentialminus": [
            [
             0,
             "#0d0887"
            ],
            [
             0.1111111111111111,
             "#46039f"
            ],
            [
             0.2222222222222222,
             "#7201a8"
            ],
            [
             0.3333333333333333,
             "#9c179e"
            ],
            [
             0.4444444444444444,
             "#bd3786"
            ],
            [
             0.5555555555555556,
             "#d8576b"
            ],
            [
             0.6666666666666666,
             "#ed7953"
            ],
            [
             0.7777777777777778,
             "#fb9f3a"
            ],
            [
             0.8888888888888888,
             "#fdca26"
            ],
            [
             1,
             "#f0f921"
            ]
           ]
          },
          "colorway": [
           "#636efa",
           "#EF553B",
           "#00cc96",
           "#ab63fa",
           "#FFA15A",
           "#19d3f3",
           "#FF6692",
           "#B6E880",
           "#FF97FF",
           "#FECB52"
          ],
          "font": {
           "color": "#2a3f5f"
          },
          "geo": {
           "bgcolor": "white",
           "lakecolor": "white",
           "landcolor": "#E5ECF6",
           "showlakes": true,
           "showland": true,
           "subunitcolor": "white"
          },
          "hoverlabel": {
           "align": "left"
          },
          "hovermode": "closest",
          "mapbox": {
           "style": "light"
          },
          "paper_bgcolor": "white",
          "plot_bgcolor": "#E5ECF6",
          "polar": {
           "angularaxis": {
            "gridcolor": "white",
            "linecolor": "white",
            "ticks": ""
           },
           "bgcolor": "#E5ECF6",
           "radialaxis": {
            "gridcolor": "white",
            "linecolor": "white",
            "ticks": ""
           }
          },
          "scene": {
           "xaxis": {
            "backgroundcolor": "#E5ECF6",
            "gridcolor": "white",
            "gridwidth": 2,
            "linecolor": "white",
            "showbackground": true,
            "ticks": "",
            "zerolinecolor": "white"
           },
           "yaxis": {
            "backgroundcolor": "#E5ECF6",
            "gridcolor": "white",
            "gridwidth": 2,
            "linecolor": "white",
            "showbackground": true,
            "ticks": "",
            "zerolinecolor": "white"
           },
           "zaxis": {
            "backgroundcolor": "#E5ECF6",
            "gridcolor": "white",
            "gridwidth": 2,
            "linecolor": "white",
            "showbackground": true,
            "ticks": "",
            "zerolinecolor": "white"
           }
          },
          "shapedefaults": {
           "line": {
            "color": "#2a3f5f"
           }
          },
          "ternary": {
           "aaxis": {
            "gridcolor": "white",
            "linecolor": "white",
            "ticks": ""
           },
           "baxis": {
            "gridcolor": "white",
            "linecolor": "white",
            "ticks": ""
           },
           "bgcolor": "#E5ECF6",
           "caxis": {
            "gridcolor": "white",
            "linecolor": "white",
            "ticks": ""
           }
          },
          "title": {
           "x": 0.05
          },
          "xaxis": {
           "automargin": true,
           "gridcolor": "white",
           "linecolor": "white",
           "ticks": "",
           "title": {
            "standoff": 15
           },
           "zerolinecolor": "white",
           "zerolinewidth": 2
          },
          "yaxis": {
           "automargin": true,
           "gridcolor": "white",
           "linecolor": "white",
           "ticks": "",
           "title": {
            "standoff": 15
           },
           "zerolinecolor": "white",
           "zerolinewidth": 2
          }
         }
        },
        "title": {
         "text": "Sales Forecasting with Model Validation"
        },
        "xaxis": {
         "title": {
          "text": "Date"
         }
        },
        "yaxis": {
         "title": {
          "text": "Sales ($)"
         }
        }
       }
      }
     },
     "metadata": {},
     "output_type": "display_data"
    },
    {
     "name": "stdout",
     "output_type": "stream",
     "text": [
      "🔮 30-Day Sales Forecast (using Prophet):\n",
      "Next Day: $239.40\n",
      "Next Week: $1537.76\n",
      "Next Month: $6522.60\n",
      "Expected daily average: $217.42\n"
     ]
    }
   ],
   "source": [
    "# Visualize forecasts\n",
    "fig = go.Figure()\n",
    "\n",
    "# Historical data\n",
    "fig.add_trace(go.Scatter(x=daily_sales.index, y=daily_sales['money'],\n",
    "                        mode='lines', name='Historical Data', line=dict(color='blue')))\n",
    "\n",
    "# Test data\n",
    "fig.add_trace(go.Scatter(x=test_data.index, y=test_data['money'],\n",
    "                        mode='lines+markers', name='Actual Test Data', \n",
    "                        line=dict(color='green', width=3)))\n",
    "\n",
    "# Prophet forecast\n",
    "fig.add_trace(go.Scatter(x=prophet_forecast['ds'], y=prophet_forecast['yhat'],\n",
    "                        mode='lines', name='Prophet Forecast', line=dict(color='red', dash='dash')))\n",
    "\n",
    "# Improvement: Add ARIMA forecast for comparison\n",
    "fig.add_trace(go.Scatter(x=arima_forecast['ds'], y=arima_forecast['yhat'],\n",
    "                        mode='lines', name='ARIMA Forecast', line=dict(color='purple', dash='dot')))\n",
    "\n",
    "# Confidence intervals for Prophet\n",
    "fig.add_trace(go.Scatter(x=prophet_forecast['ds'], y=prophet_forecast['yhat_upper'],\n",
    "                        fill=None, mode='lines', line_color='rgba(0,0,0,0)', showlegend=False))\n",
    "fig.add_trace(go.Scatter(x=prophet_forecast['ds'], y=prophet_forecast['yhat_lower'],\n",
    "                        fill='tonexty', mode='lines', line_color='rgba(0,0,0,0)',\n",
    "                        name='Confidence Interval', fillcolor='rgba(255,0,0,0.2)'))\n",
    "\n",
    "fig.update_layout(title='Sales Forecasting with Model Validation',\n",
    "                 xaxis_title='Date', yaxis_title='Sales ($)',\n",
    "                 height=600)\n",
    "fig.show()\n",
    "\n",
    "# Future predictions using the best model (Prophet)\n",
    "future_predictions = prophet_forecast[prophet_forecast['ds'] > daily_sales.index.max()]\n",
    "\n",
    "print(\"🔮 30-Day Sales Forecast (using Prophet):\")\n",
    "print(f\"Next Day: ${future_predictions.iloc[0]['yhat']:.2f}\")\n",
    "print(f\"Next Week: ${future_predictions.head(7)['yhat'].sum():.2f}\")\n",
    "print(f\"Next Month: ${future_predictions.head(30)['yhat'].sum():.2f}\")\n",
    "print(f\"Expected daily average: ${future_predictions.head(30)['yhat'].mean():.2f}\")"
   ]
  },
  {
   "cell_type": "markdown",
   "metadata": {},
   "source": [
    "## 6. Anomaly Detection"
   ]
  },
  {
   "cell_type": "code",
   "execution_count": 11,
   "metadata": {},
   "outputs": [
    {
     "data": {
      "application/vnd.plotly.v1+json": {
       "config": {
        "plotlyServerURL": "https://plot.ly"
       },
       "data": [
        {
         "marker": {
          "color": "blue",
          "size": 6
         },
         "mode": "markers",
         "name": "Normal Days",
         "type": "scatter",
         "x": [
          "2024-03-01T00:00:00",
          "2024-03-02T00:00:00",
          "2024-03-03T00:00:00",
          "2024-03-04T00:00:00",
          "2024-03-05T00:00:00",
          "2024-03-06T00:00:00",
          "2024-03-07T00:00:00",
          "2024-03-08T00:00:00",
          "2024-03-09T00:00:00",
          "2024-03-10T00:00:00",
          "2024-03-11T00:00:00",
          "2024-03-12T00:00:00",
          "2024-03-13T00:00:00",
          "2024-03-14T00:00:00",
          "2024-03-15T00:00:00",
          "2024-03-16T00:00:00",
          "2024-03-17T00:00:00",
          "2024-03-18T00:00:00",
          "2024-03-19T00:00:00",
          "2024-03-20T00:00:00",
          "2024-03-21T00:00:00",
          "2024-03-22T00:00:00",
          "2024-03-23T00:00:00",
          "2024-03-25T00:00:00",
          "2024-03-26T00:00:00",
          "2024-03-27T00:00:00",
          "2024-03-28T00:00:00",
          "2024-03-29T00:00:00",
          "2024-03-30T00:00:00",
          "2024-03-31T00:00:00",
          "2024-04-01T00:00:00",
          "2024-04-02T00:00:00",
          "2024-04-03T00:00:00",
          "2024-04-04T00:00:00",
          "2024-04-05T00:00:00",
          "2024-04-06T00:00:00",
          "2024-04-07T00:00:00",
          "2024-04-08T00:00:00",
          "2024-04-09T00:00:00",
          "2024-04-10T00:00:00",
          "2024-04-11T00:00:00",
          "2024-04-12T00:00:00",
          "2024-04-13T00:00:00",
          "2024-04-14T00:00:00",
          "2024-04-15T00:00:00",
          "2024-04-16T00:00:00",
          "2024-04-17T00:00:00",
          "2024-04-18T00:00:00",
          "2024-04-19T00:00:00",
          "2024-04-20T00:00:00",
          "2024-04-21T00:00:00",
          "2024-04-22T00:00:00",
          "2024-04-23T00:00:00",
          "2024-04-24T00:00:00",
          "2024-04-25T00:00:00",
          "2024-04-26T00:00:00",
          "2024-04-28T00:00:00",
          "2024-04-29T00:00:00",
          "2024-04-30T00:00:00",
          "2024-05-02T00:00:00",
          "2024-05-03T00:00:00",
          "2024-05-06T00:00:00",
          "2024-05-07T00:00:00",
          "2024-05-09T00:00:00",
          "2024-05-10T00:00:00",
          "2024-05-11T00:00:00",
          "2024-05-12T00:00:00",
          "2024-05-13T00:00:00",
          "2024-05-14T00:00:00",
          "2024-05-15T00:00:00",
          "2024-05-16T00:00:00",
          "2024-05-17T00:00:00",
          "2024-05-18T00:00:00",
          "2024-05-19T00:00:00",
          "2024-05-21T00:00:00",
          "2024-05-22T00:00:00",
          "2024-05-24T00:00:00",
          "2024-05-25T00:00:00",
          "2024-05-27T00:00:00",
          "2024-05-28T00:00:00",
          "2024-05-29T00:00:00",
          "2024-05-30T00:00:00",
          "2024-06-01T00:00:00",
          "2024-06-02T00:00:00",
          "2024-06-03T00:00:00",
          "2024-06-04T00:00:00",
          "2024-06-05T00:00:00",
          "2024-06-06T00:00:00",
          "2024-06-07T00:00:00",
          "2024-06-08T00:00:00",
          "2024-06-09T00:00:00",
          "2024-06-10T00:00:00",
          "2024-06-11T00:00:00",
          "2024-06-12T00:00:00",
          "2024-06-13T00:00:00",
          "2024-06-14T00:00:00",
          "2024-06-15T00:00:00",
          "2024-06-16T00:00:00",
          "2024-06-17T00:00:00",
          "2024-06-18T00:00:00",
          "2024-06-19T00:00:00",
          "2024-06-20T00:00:00",
          "2024-06-21T00:00:00",
          "2024-06-22T00:00:00",
          "2024-06-23T00:00:00",
          "2024-06-24T00:00:00",
          "2024-06-25T00:00:00",
          "2024-06-26T00:00:00",
          "2024-06-27T00:00:00",
          "2024-06-28T00:00:00",
          "2024-06-29T00:00:00",
          "2024-06-30T00:00:00",
          "2024-07-01T00:00:00",
          "2024-07-02T00:00:00",
          "2024-07-03T00:00:00",
          "2024-07-04T00:00:00",
          "2024-07-05T00:00:00",
          "2024-07-06T00:00:00",
          "2024-07-07T00:00:00",
          "2024-07-08T00:00:00",
          "2024-07-09T00:00:00",
          "2024-07-10T00:00:00",
          "2024-07-11T00:00:00",
          "2024-07-12T00:00:00",
          "2024-07-13T00:00:00",
          "2024-07-14T00:00:00",
          "2024-07-16T00:00:00",
          "2024-07-18T00:00:00",
          "2024-07-19T00:00:00",
          "2024-07-20T00:00:00",
          "2024-07-21T00:00:00",
          "2024-07-22T00:00:00",
          "2024-07-23T00:00:00",
          "2024-07-24T00:00:00",
          "2024-07-25T00:00:00",
          "2024-07-28T00:00:00",
          "2024-07-29T00:00:00"
         ],
         "y": [
          396.3,
          228.1,
          349.1,
          135.2,
          338.5,
          170.2,
          220.1,
          265.5,
          479.4,
          231.6,
          275.2,
          228.1,
          256.2,
          397.1,
          107.6,
          183.2,
          68.9,
          115.6,
          219.9,
          213.9,
          205.2,
          189.39999999999998,
          285.1,
          223.60000000000002,
          376.7,
          271.7,
          125.4,
          156.10000000000002,
          189.9,
          68.7,
          242.79999999999998,
          136.5,
          126.5,
          185,
          362.1,
          140.1,
          241.5,
          340.2,
          186.10000000000002,
          166.4,
          169,
          67.6,
          302.40000000000003,
          434.3,
          150.39999999999998,
          276.5,
          199.2,
          352.7,
          261.1,
          494.3,
          104.64,
          176.46,
          173.9,
          272.36,
          121.48,
          300.28,
          169,
          257.66,
          272.36,
          245.72,
          114.44,
          314.58,
          344.08,
          295.38,
          148.44,
          293.24,
          272.36,
          90.82,
          403.64,
          350.82,
          327.34,
          306.36,
          283.44,
          417.84000000000003,
          314.9,
          370.82,
          210.14000000000001,
          254.92000000000002,
          365.92,
          372.1,
          396.6,
          370.82,
          386.8,
          212.8,
          251.7,
          474.18,
          310.08,
          385.52,
          149.4,
          136.18,
          436.46,
          226.32,
          211.62,
          221.42,
          379.14,
          126.38,
          262.56,
          408.54,
          323.3,
          234.64,
          380.62,
          221.42,
          403.64,
          169,
          178.8,
          221.42,
          141.07999999999998,
          196.92,
          131.28,
          159.2,
          287.06,
          131.28,
          98.46,
          192.02,
          310.08,
          60.74,
          303.7,
          164.1,
          346.32,
          139.6,
          144.5,
          83.76,
          116.58,
          154.3,
          65.64,
          172.42000000000002,
          60.74,
          312.02,
          242.96,
          200.33999999999997,
          121.48,
          106.78,
          339.94,
          330.14,
          269.4,
          78.86,
          321.82
         ]
        },
        {
         "marker": {
          "color": "red",
          "size": 10,
          "symbol": "x"
         },
         "mode": "markers",
         "name": "Anomalous Days",
         "type": "scatter",
         "x": [
          "2024-07-30T00:00:00",
          "2024-07-31T00:00:00",
          "2024-05-04T00:00:00",
          "2024-05-01T00:00:00",
          "2024-05-05T00:00:00",
          "2024-05-20T00:00:00",
          "2024-05-23T00:00:00",
          "2024-07-26T00:00:00",
          "2024-07-17T00:00:00",
          "2024-05-26T00:00:00",
          "2024-07-15T00:00:00",
          "2024-03-24T00:00:00",
          "2024-05-08T00:00:00",
          "2024-04-27T00:00:00",
          "2024-05-31T00:00:00",
          "2024-07-27T00:00:00"
         ],
         "y": [
          650.48,
          633.84,
          0,
          0,
          0,
          559.02,
          575.4,
          461.42,
          27.92,
          526.6,
          32.82,
          78.7,
          37.72,
          37.72,
          499.96,
          372.76
         ]
        }
       ],
       "layout": {
        "height": 500,
        "template": {
         "data": {
          "bar": [
           {
            "error_x": {
             "color": "#2a3f5f"
            },
            "error_y": {
             "color": "#2a3f5f"
            },
            "marker": {
             "line": {
              "color": "#E5ECF6",
              "width": 0.5
             },
             "pattern": {
              "fillmode": "overlay",
              "size": 10,
              "solidity": 0.2
             }
            },
            "type": "bar"
           }
          ],
          "barpolar": [
           {
            "marker": {
             "line": {
              "color": "#E5ECF6",
              "width": 0.5
             },
             "pattern": {
              "fillmode": "overlay",
              "size": 10,
              "solidity": 0.2
             }
            },
            "type": "barpolar"
           }
          ],
          "carpet": [
           {
            "aaxis": {
             "endlinecolor": "#2a3f5f",
             "gridcolor": "white",
             "linecolor": "white",
             "minorgridcolor": "white",
             "startlinecolor": "#2a3f5f"
            },
            "baxis": {
             "endlinecolor": "#2a3f5f",
             "gridcolor": "white",
             "linecolor": "white",
             "minorgridcolor": "white",
             "startlinecolor": "#2a3f5f"
            },
            "type": "carpet"
           }
          ],
          "choropleth": [
           {
            "colorbar": {
             "outlinewidth": 0,
             "ticks": ""
            },
            "type": "choropleth"
           }
          ],
          "contour": [
           {
            "colorbar": {
             "outlinewidth": 0,
             "ticks": ""
            },
            "colorscale": [
             [
              0,
              "#0d0887"
             ],
             [
              0.1111111111111111,
              "#46039f"
             ],
             [
              0.2222222222222222,
              "#7201a8"
             ],
             [
              0.3333333333333333,
              "#9c179e"
             ],
             [
              0.4444444444444444,
              "#bd3786"
             ],
             [
              0.5555555555555556,
              "#d8576b"
             ],
             [
              0.6666666666666666,
              "#ed7953"
             ],
             [
              0.7777777777777778,
              "#fb9f3a"
             ],
             [
              0.8888888888888888,
              "#fdca26"
             ],
             [
              1,
              "#f0f921"
             ]
            ],
            "type": "contour"
           }
          ],
          "contourcarpet": [
           {
            "colorbar": {
             "outlinewidth": 0,
             "ticks": ""
            },
            "type": "contourcarpet"
           }
          ],
          "heatmap": [
           {
            "colorbar": {
             "outlinewidth": 0,
             "ticks": ""
            },
            "colorscale": [
             [
              0,
              "#0d0887"
             ],
             [
              0.1111111111111111,
              "#46039f"
             ],
             [
              0.2222222222222222,
              "#7201a8"
             ],
             [
              0.3333333333333333,
              "#9c179e"
             ],
             [
              0.4444444444444444,
              "#bd3786"
             ],
             [
              0.5555555555555556,
              "#d8576b"
             ],
             [
              0.6666666666666666,
              "#ed7953"
             ],
             [
              0.7777777777777778,
              "#fb9f3a"
             ],
             [
              0.8888888888888888,
              "#fdca26"
             ],
             [
              1,
              "#f0f921"
             ]
            ],
            "type": "heatmap"
           }
          ],
          "heatmapgl": [
           {
            "colorbar": {
             "outlinewidth": 0,
             "ticks": ""
            },
            "colorscale": [
             [
              0,
              "#0d0887"
             ],
             [
              0.1111111111111111,
              "#46039f"
             ],
             [
              0.2222222222222222,
              "#7201a8"
             ],
             [
              0.3333333333333333,
              "#9c179e"
             ],
             [
              0.4444444444444444,
              "#bd3786"
             ],
             [
              0.5555555555555556,
              "#d8576b"
             ],
             [
              0.6666666666666666,
              "#ed7953"
             ],
             [
              0.7777777777777778,
              "#fb9f3a"
             ],
             [
              0.8888888888888888,
              "#fdca26"
             ],
             [
              1,
              "#f0f921"
             ]
            ],
            "type": "heatmapgl"
           }
          ],
          "histogram": [
           {
            "marker": {
             "pattern": {
              "fillmode": "overlay",
              "size": 10,
              "solidity": 0.2
             }
            },
            "type": "histogram"
           }
          ],
          "histogram2d": [
           {
            "colorbar": {
             "outlinewidth": 0,
             "ticks": ""
            },
            "colorscale": [
             [
              0,
              "#0d0887"
             ],
             [
              0.1111111111111111,
              "#46039f"
             ],
             [
              0.2222222222222222,
              "#7201a8"
             ],
             [
              0.3333333333333333,
              "#9c179e"
             ],
             [
              0.4444444444444444,
              "#bd3786"
             ],
             [
              0.5555555555555556,
              "#d8576b"
             ],
             [
              0.6666666666666666,
              "#ed7953"
             ],
             [
              0.7777777777777778,
              "#fb9f3a"
             ],
             [
              0.8888888888888888,
              "#fdca26"
             ],
             [
              1,
              "#f0f921"
             ]
            ],
            "type": "histogram2d"
           }
          ],
          "histogram2dcontour": [
           {
            "colorbar": {
             "outlinewidth": 0,
             "ticks": ""
            },
            "colorscale": [
             [
              0,
              "#0d0887"
             ],
             [
              0.1111111111111111,
              "#46039f"
             ],
             [
              0.2222222222222222,
              "#7201a8"
             ],
             [
              0.3333333333333333,
              "#9c179e"
             ],
             [
              0.4444444444444444,
              "#bd3786"
             ],
             [
              0.5555555555555556,
              "#d8576b"
             ],
             [
              0.6666666666666666,
              "#ed7953"
             ],
             [
              0.7777777777777778,
              "#fb9f3a"
             ],
             [
              0.8888888888888888,
              "#fdca26"
             ],
             [
              1,
              "#f0f921"
             ]
            ],
            "type": "histogram2dcontour"
           }
          ],
          "mesh3d": [
           {
            "colorbar": {
             "outlinewidth": 0,
             "ticks": ""
            },
            "type": "mesh3d"
           }
          ],
          "parcoords": [
           {
            "line": {
             "colorbar": {
              "outlinewidth": 0,
              "ticks": ""
             }
            },
            "type": "parcoords"
           }
          ],
          "pie": [
           {
            "automargin": true,
            "type": "pie"
           }
          ],
          "scatter": [
           {
            "fillpattern": {
             "fillmode": "overlay",
             "size": 10,
             "solidity": 0.2
            },
            "type": "scatter"
           }
          ],
          "scatter3d": [
           {
            "line": {
             "colorbar": {
              "outlinewidth": 0,
              "ticks": ""
             }
            },
            "marker": {
             "colorbar": {
              "outlinewidth": 0,
              "ticks": ""
             }
            },
            "type": "scatter3d"
           }
          ],
          "scattercarpet": [
           {
            "marker": {
             "colorbar": {
              "outlinewidth": 0,
              "ticks": ""
             }
            },
            "type": "scattercarpet"
           }
          ],
          "scattergeo": [
           {
            "marker": {
             "colorbar": {
              "outlinewidth": 0,
              "ticks": ""
             }
            },
            "type": "scattergeo"
           }
          ],
          "scattergl": [
           {
            "marker": {
             "colorbar": {
              "outlinewidth": 0,
              "ticks": ""
             }
            },
            "type": "scattergl"
           }
          ],
          "scattermapbox": [
           {
            "marker": {
             "colorbar": {
              "outlinewidth": 0,
              "ticks": ""
             }
            },
            "type": "scattermapbox"
           }
          ],
          "scatterpolar": [
           {
            "marker": {
             "colorbar": {
              "outlinewidth": 0,
              "ticks": ""
             }
            },
            "type": "scatterpolar"
           }
          ],
          "scatterpolargl": [
           {
            "marker": {
             "colorbar": {
              "outlinewidth": 0,
              "ticks": ""
             }
            },
            "type": "scatterpolargl"
           }
          ],
          "scatterternary": [
           {
            "marker": {
             "colorbar": {
              "outlinewidth": 0,
              "ticks": ""
             }
            },
            "type": "scatterternary"
           }
          ],
          "surface": [
           {
            "colorbar": {
             "outlinewidth": 0,
             "ticks": ""
            },
            "colorscale": [
             [
              0,
              "#0d0887"
             ],
             [
              0.1111111111111111,
              "#46039f"
             ],
             [
              0.2222222222222222,
              "#7201a8"
             ],
             [
              0.3333333333333333,
              "#9c179e"
             ],
             [
              0.4444444444444444,
              "#bd3786"
             ],
             [
              0.5555555555555556,
              "#d8576b"
             ],
             [
              0.6666666666666666,
              "#ed7953"
             ],
             [
              0.7777777777777778,
              "#fb9f3a"
             ],
             [
              0.8888888888888888,
              "#fdca26"
             ],
             [
              1,
              "#f0f921"
             ]
            ],
            "type": "surface"
           }
          ],
          "table": [
           {
            "cells": {
             "fill": {
              "color": "#EBF0F8"
             },
             "line": {
              "color": "white"
             }
            },
            "header": {
             "fill": {
              "color": "#C8D4E3"
             },
             "line": {
              "color": "white"
             }
            },
            "type": "table"
           }
          ]
         },
         "layout": {
          "annotationdefaults": {
           "arrowcolor": "#2a3f5f",
           "arrowhead": 0,
           "arrowwidth": 1
          },
          "autotypenumbers": "strict",
          "coloraxis": {
           "colorbar": {
            "outlinewidth": 0,
            "ticks": ""
           }
          },
          "colorscale": {
           "diverging": [
            [
             0,
             "#8e0152"
            ],
            [
             0.1,
             "#c51b7d"
            ],
            [
             0.2,
             "#de77ae"
            ],
            [
             0.3,
             "#f1b6da"
            ],
            [
             0.4,
             "#fde0ef"
            ],
            [
             0.5,
             "#f7f7f7"
            ],
            [
             0.6,
             "#e6f5d0"
            ],
            [
             0.7,
             "#b8e186"
            ],
            [
             0.8,
             "#7fbc41"
            ],
            [
             0.9,
             "#4d9221"
            ],
            [
             1,
             "#276419"
            ]
           ],
           "sequential": [
            [
             0,
             "#0d0887"
            ],
            [
             0.1111111111111111,
             "#46039f"
            ],
            [
             0.2222222222222222,
             "#7201a8"
            ],
            [
             0.3333333333333333,
             "#9c179e"
            ],
            [
             0.4444444444444444,
             "#bd3786"
            ],
            [
             0.5555555555555556,
             "#d8576b"
            ],
            [
             0.6666666666666666,
             "#ed7953"
            ],
            [
             0.7777777777777778,
             "#fb9f3a"
            ],
            [
             0.8888888888888888,
             "#fdca26"
            ],
            [
             1,
             "#f0f921"
            ]
           ],
           "sequentialminus": [
            [
             0,
             "#0d0887"
            ],
            [
             0.1111111111111111,
             "#46039f"
            ],
            [
             0.2222222222222222,
             "#7201a8"
            ],
            [
             0.3333333333333333,
             "#9c179e"
            ],
            [
             0.4444444444444444,
             "#bd3786"
            ],
            [
             0.5555555555555556,
             "#d8576b"
            ],
            [
             0.6666666666666666,
             "#ed7953"
            ],
            [
             0.7777777777777778,
             "#fb9f3a"
            ],
            [
             0.8888888888888888,
             "#fdca26"
            ],
            [
             1,
             "#f0f921"
            ]
           ]
          },
          "colorway": [
           "#636efa",
           "#EF553B",
           "#00cc96",
           "#ab63fa",
           "#FFA15A",
           "#19d3f3",
           "#FF6692",
           "#B6E880",
           "#FF97FF",
           "#FECB52"
          ],
          "font": {
           "color": "#2a3f5f"
          },
          "geo": {
           "bgcolor": "white",
           "lakecolor": "white",
           "landcolor": "#E5ECF6",
           "showlakes": true,
           "showland": true,
           "subunitcolor": "white"
          },
          "hoverlabel": {
           "align": "left"
          },
          "hovermode": "closest",
          "mapbox": {
           "style": "light"
          },
          "paper_bgcolor": "white",
          "plot_bgcolor": "#E5ECF6",
          "polar": {
           "angularaxis": {
            "gridcolor": "white",
            "linecolor": "white",
            "ticks": ""
           },
           "bgcolor": "#E5ECF6",
           "radialaxis": {
            "gridcolor": "white",
            "linecolor": "white",
            "ticks": ""
           }
          },
          "scene": {
           "xaxis": {
            "backgroundcolor": "#E5ECF6",
            "gridcolor": "white",
            "gridwidth": 2,
            "linecolor": "white",
            "showbackground": true,
            "ticks": "",
            "zerolinecolor": "white"
           },
           "yaxis": {
            "backgroundcolor": "#E5ECF6",
            "gridcolor": "white",
            "gridwidth": 2,
            "linecolor": "white",
            "showbackground": true,
            "ticks": "",
            "zerolinecolor": "white"
           },
           "zaxis": {
            "backgroundcolor": "#E5ECF6",
            "gridcolor": "white",
            "gridwidth": 2,
            "linecolor": "white",
            "showbackground": true,
            "ticks": "",
            "zerolinecolor": "white"
           }
          },
          "shapedefaults": {
           "line": {
            "color": "#2a3f5f"
           }
          },
          "ternary": {
           "aaxis": {
            "gridcolor": "white",
            "linecolor": "white",
            "ticks": ""
           },
           "baxis": {
            "gridcolor": "white",
            "linecolor": "white",
            "ticks": ""
           },
           "bgcolor": "#E5ECF6",
           "caxis": {
            "gridcolor": "white",
            "linecolor": "white",
            "ticks": ""
           }
          },
          "title": {
           "x": 0.05
          },
          "xaxis": {
           "automargin": true,
           "gridcolor": "white",
           "linecolor": "white",
           "ticks": "",
           "title": {
            "standoff": 15
           },
           "zerolinecolor": "white",
           "zerolinewidth": 2
          },
          "yaxis": {
           "automargin": true,
           "gridcolor": "white",
           "linecolor": "white",
           "ticks": "",
           "title": {
            "standoff": 15
           },
           "zerolinecolor": "white",
           "zerolinewidth": 2
          }
         }
        },
        "title": {
         "text": "Anomaly Detection in Daily Sales"
        },
        "xaxis": {
         "title": {
          "text": "Date"
         }
        },
        "yaxis": {
         "title": {
          "text": "Daily Sales ($)"
         }
        }
       }
      }
     },
     "metadata": {},
     "output_type": "display_data"
    },
    {
     "name": "stdout",
     "output_type": "stream",
     "text": [
      "🚨 Anomalous Sales Days:\n"
     ]
    },
    {
     "data": {
      "text/html": [
       "<div>\n",
       "<style scoped>\n",
       "    .dataframe tbody tr th:only-of-type {\n",
       "        vertical-align: middle;\n",
       "    }\n",
       "\n",
       "    .dataframe tbody tr th {\n",
       "        vertical-align: top;\n",
       "    }\n",
       "\n",
       "    .dataframe thead th {\n",
       "        text-align: right;\n",
       "    }\n",
       "</style>\n",
       "<table border=\"1\" class=\"dataframe\">\n",
       "  <thead>\n",
       "    <tr style=\"text-align: right;\">\n",
       "      <th></th>\n",
       "      <th>money</th>\n",
       "      <th>transaction_count</th>\n",
       "      <th>anomaly_score</th>\n",
       "    </tr>\n",
       "    <tr>\n",
       "      <th>date</th>\n",
       "      <th></th>\n",
       "      <th></th>\n",
       "      <th></th>\n",
       "    </tr>\n",
       "  </thead>\n",
       "  <tbody>\n",
       "    <tr>\n",
       "      <th>2024-07-30</th>\n",
       "      <td>650.48</td>\n",
       "      <td>24.0</td>\n",
       "      <td>-0.231935</td>\n",
       "    </tr>\n",
       "    <tr>\n",
       "      <th>2024-07-31</th>\n",
       "      <td>633.84</td>\n",
       "      <td>22.0</td>\n",
       "      <td>-0.197714</td>\n",
       "    </tr>\n",
       "    <tr>\n",
       "      <th>2024-05-04</th>\n",
       "      <td>0.00</td>\n",
       "      <td>0.0</td>\n",
       "      <td>-0.135910</td>\n",
       "    </tr>\n",
       "    <tr>\n",
       "      <th>2024-05-01</th>\n",
       "      <td>0.00</td>\n",
       "      <td>0.0</td>\n",
       "      <td>-0.135910</td>\n",
       "    </tr>\n",
       "    <tr>\n",
       "      <th>2024-05-05</th>\n",
       "      <td>0.00</td>\n",
       "      <td>0.0</td>\n",
       "      <td>-0.135910</td>\n",
       "    </tr>\n",
       "    <tr>\n",
       "      <th>2024-05-20</th>\n",
       "      <td>559.02</td>\n",
       "      <td>17.0</td>\n",
       "      <td>-0.123121</td>\n",
       "    </tr>\n",
       "    <tr>\n",
       "      <th>2024-05-23</th>\n",
       "      <td>575.40</td>\n",
       "      <td>16.0</td>\n",
       "      <td>-0.105311</td>\n",
       "    </tr>\n",
       "    <tr>\n",
       "      <th>2024-07-26</th>\n",
       "      <td>461.42</td>\n",
       "      <td>16.0</td>\n",
       "      <td>-0.088558</td>\n",
       "    </tr>\n",
       "    <tr>\n",
       "      <th>2024-07-17</th>\n",
       "      <td>27.92</td>\n",
       "      <td>1.0</td>\n",
       "      <td>-0.080461</td>\n",
       "    </tr>\n",
       "    <tr>\n",
       "      <th>2024-05-26</th>\n",
       "      <td>526.60</td>\n",
       "      <td>15.0</td>\n",
       "      <td>-0.066098</td>\n",
       "    </tr>\n",
       "  </tbody>\n",
       "</table>\n",
       "</div>"
      ],
      "text/plain": [
       "             money  transaction_count  anomaly_score\n",
       "date                                                \n",
       "2024-07-30  650.48               24.0      -0.231935\n",
       "2024-07-31  633.84               22.0      -0.197714\n",
       "2024-05-04    0.00                0.0      -0.135910\n",
       "2024-05-01    0.00                0.0      -0.135910\n",
       "2024-05-05    0.00                0.0      -0.135910\n",
       "2024-05-20  559.02               17.0      -0.123121\n",
       "2024-05-23  575.40               16.0      -0.105311\n",
       "2024-07-26  461.42               16.0      -0.088558\n",
       "2024-07-17   27.92                1.0      -0.080461\n",
       "2024-05-26  526.60               15.0      -0.066098"
      ]
     },
     "metadata": {},
     "output_type": "display_data"
    },
    {
     "name": "stdout",
     "output_type": "stream",
     "text": [
      "\n",
      "🔍 Found 55 anomalous transactions out of 1133 total\n",
      "\n",
      "Top 10 Anomalous Transactions:\n"
     ]
    },
    {
     "data": {
      "text/html": [
       "<div>\n",
       "<style scoped>\n",
       "    .dataframe tbody tr th:only-of-type {\n",
       "        vertical-align: middle;\n",
       "    }\n",
       "\n",
       "    .dataframe tbody tr th {\n",
       "        vertical-align: top;\n",
       "    }\n",
       "\n",
       "    .dataframe thead th {\n",
       "        text-align: right;\n",
       "    }\n",
       "</style>\n",
       "<table border=\"1\" class=\"dataframe\">\n",
       "  <thead>\n",
       "    <tr style=\"text-align: right;\">\n",
       "      <th></th>\n",
       "      <th>datetime</th>\n",
       "      <th>coffee_name</th>\n",
       "      <th>money</th>\n",
       "      <th>hour</th>\n",
       "      <th>cash_type</th>\n",
       "    </tr>\n",
       "  </thead>\n",
       "  <tbody>\n",
       "    <tr>\n",
       "      <th>74</th>\n",
       "      <td>2024-03-10 07:44:18.538</td>\n",
       "      <td>Americano</td>\n",
       "      <td>30.00</td>\n",
       "      <td>7</td>\n",
       "      <td>cash</td>\n",
       "    </tr>\n",
       "    <tr>\n",
       "      <th>75</th>\n",
       "      <td>2024-03-10 07:45:29.441</td>\n",
       "      <td>Americano with Milk</td>\n",
       "      <td>35.00</td>\n",
       "      <td>7</td>\n",
       "      <td>cash</td>\n",
       "    </tr>\n",
       "    <tr>\n",
       "      <th>300</th>\n",
       "      <td>2024-04-15 19:41:58.112</td>\n",
       "      <td>Espresso</td>\n",
       "      <td>25.00</td>\n",
       "      <td>19</td>\n",
       "      <td>cash</td>\n",
       "    </tr>\n",
       "    <tr>\n",
       "      <th>476</th>\n",
       "      <td>2024-05-14 22:51:25.227</td>\n",
       "      <td>Hot Chocolate</td>\n",
       "      <td>37.72</td>\n",
       "      <td>22</td>\n",
       "      <td>card</td>\n",
       "    </tr>\n",
       "    <tr>\n",
       "      <th>504</th>\n",
       "      <td>2024-05-17 22:34:50.797</td>\n",
       "      <td>Americano</td>\n",
       "      <td>27.92</td>\n",
       "      <td>22</td>\n",
       "      <td>card</td>\n",
       "    </tr>\n",
       "    <tr>\n",
       "      <th>505</th>\n",
       "      <td>2024-05-17 22:36:33.357</td>\n",
       "      <td>Latte</td>\n",
       "      <td>37.72</td>\n",
       "      <td>22</td>\n",
       "      <td>card</td>\n",
       "    </tr>\n",
       "    <tr>\n",
       "      <th>506</th>\n",
       "      <td>2024-05-17 22:37:42.821</td>\n",
       "      <td>Latte</td>\n",
       "      <td>37.72</td>\n",
       "      <td>22</td>\n",
       "      <td>card</td>\n",
       "    </tr>\n",
       "    <tr>\n",
       "      <th>514</th>\n",
       "      <td>2024-05-18 22:05:27.473</td>\n",
       "      <td>Cappuccino</td>\n",
       "      <td>39.00</td>\n",
       "      <td>22</td>\n",
       "      <td>cash</td>\n",
       "    </tr>\n",
       "    <tr>\n",
       "      <th>580</th>\n",
       "      <td>2024-05-23 22:55:36.926</td>\n",
       "      <td>Hot Chocolate</td>\n",
       "      <td>39.00</td>\n",
       "      <td>22</td>\n",
       "      <td>cash</td>\n",
       "    </tr>\n",
       "    <tr>\n",
       "      <th>588</th>\n",
       "      <td>2024-05-25 07:40:58.818</td>\n",
       "      <td>Americano</td>\n",
       "      <td>29.00</td>\n",
       "      <td>7</td>\n",
       "      <td>cash</td>\n",
       "    </tr>\n",
       "  </tbody>\n",
       "</table>\n",
       "</div>"
      ],
      "text/plain": [
       "                   datetime          coffee_name  money  hour cash_type\n",
       "74  2024-03-10 07:44:18.538            Americano  30.00     7      cash\n",
       "75  2024-03-10 07:45:29.441  Americano with Milk  35.00     7      cash\n",
       "300 2024-04-15 19:41:58.112             Espresso  25.00    19      cash\n",
       "476 2024-05-14 22:51:25.227        Hot Chocolate  37.72    22      card\n",
       "504 2024-05-17 22:34:50.797            Americano  27.92    22      card\n",
       "505 2024-05-17 22:36:33.357                Latte  37.72    22      card\n",
       "506 2024-05-17 22:37:42.821                Latte  37.72    22      card\n",
       "514 2024-05-18 22:05:27.473           Cappuccino  39.00    22      cash\n",
       "580 2024-05-23 22:55:36.926        Hot Chocolate  39.00    22      cash\n",
       "588 2024-05-25 07:40:58.818            Americano  29.00     7      cash"
      ]
     },
     "metadata": {},
     "output_type": "display_data"
    }
   ],
   "source": [
    "# Detect anomalies in daily sales using Isolation Forest\n",
    "isolation_forest = IsolationForest(contamination=0.1, random_state=42)\n",
    "daily_sales['anomaly'] = isolation_forest.fit_predict(daily_sales[['money', 'transaction_count']])\n",
    "daily_sales['anomaly_score'] = isolation_forest.decision_function(daily_sales[['money', 'transaction_count']])\n",
    "\n",
    "# Identify anomalous days\n",
    "anomalous_days = daily_sales[daily_sales['anomaly'] == -1].sort_values('anomaly_score')\n",
    "\n",
    "# Visualize anomalies\n",
    "fig = go.Figure()\n",
    "\n",
    "normal_days = daily_sales[daily_sales['anomaly'] == 1]\n",
    "fig.add_trace(go.Scatter(x=normal_days.index, y=normal_days['money'],\n",
    "                        mode='markers', name='Normal Days', \n",
    "                        marker=dict(color='blue', size=6)))\n",
    "\n",
    "fig.add_trace(go.Scatter(x=anomalous_days.index, y=anomalous_days['money'],\n",
    "                        mode='markers', name='Anomalous Days',\n",
    "                        marker=dict(color='red', size=10, symbol='x')))\n",
    "\n",
    "fig.update_layout(title='Anomaly Detection in Daily Sales',\n",
    "                 xaxis_title='Date', yaxis_title='Daily Sales ($)',\n",
    "                 height=500)\n",
    "fig.show()\n",
    "\n",
    "print(\"🚨 Anomalous Sales Days:\")\n",
    "display(anomalous_days[['money', 'transaction_count', 'anomaly_score']].head(10))\n",
    "\n",
    "# Transaction-level anomaly detection\n",
    "transaction_features = df_processed[['money', 'hour']].copy()\n",
    "transaction_iso = IsolationForest(contamination=0.05, random_state=42)\n",
    "df_processed['transaction_anomaly'] = transaction_iso.fit_predict(transaction_features)\n",
    "\n",
    "anomalous_transactions = df_processed[df_processed['transaction_anomaly'] == -1]\n",
    "print(f\"\\n🔍 Found {len(anomalous_transactions)} anomalous transactions out of {len(df_processed)} total\")\n",
    "print(\"\\nTop 10 Anomalous Transactions:\")\n",
    "display(anomalous_transactions[['datetime', 'coffee_name', 'money', 'hour', 'cash_type']].head(10))"
   ]
  },
  {
   "cell_type": "markdown",
   "metadata": {},
   "source": [
    "## 7. Business Intelligence Dashboard"
   ]
  },
  {
   "cell_type": "code",
   "execution_count": 12,
   "metadata": {},
   "outputs": [
    {
     "data": {
      "application/vnd.plotly.v1+json": {
       "config": {
        "plotlyServerURL": "https://plot.ly"
       },
       "data": [
        {
         "marker": {
          "color": "lightblue"
         },
         "name": "Revenue",
         "type": "bar",
         "x": [
          "Americano",
          "Americano with Milk",
          "Cappuccino",
          "Cocoa",
          "Cortado",
          "Espresso",
          "Hot Chocolate",
          "Latte"
         ],
         "xaxis": "x",
         "y": [
          4644.54,
          8601.94,
          7333.14,
          1295.94,
          2745.08,
          1100.62,
          2778.48,
          9009.14
         ],
         "yaxis": "y"
        },
        {
         "marker": {
          "color": "lightgreen"
         },
         "name": "Profit",
         "type": "bar",
         "x": [
          "Americano",
          "Americano with Milk",
          "Cappuccino",
          "Cocoa",
          "Cortado",
          "Espresso",
          "Hot Chocolate",
          "Latte"
         ],
         "xaxis": "x",
         "y": [
          2954.54,
          5385.94,
          4785.14,
          1015.94,
          1656.08,
          708.62,
          1890.48,
          5364.14
         ],
         "yaxis": "y"
        },
        {
         "mode": "lines",
         "name": "Daily Revenue",
         "type": "scatter",
         "x": [
          "2024-03-01T00:00:00",
          "2024-03-02T00:00:00",
          "2024-03-03T00:00:00",
          "2024-03-04T00:00:00",
          "2024-03-05T00:00:00",
          "2024-03-06T00:00:00",
          "2024-03-07T00:00:00",
          "2024-03-08T00:00:00",
          "2024-03-09T00:00:00",
          "2024-03-10T00:00:00",
          "2024-03-11T00:00:00",
          "2024-03-12T00:00:00",
          "2024-03-13T00:00:00",
          "2024-03-14T00:00:00",
          "2024-03-15T00:00:00",
          "2024-03-16T00:00:00",
          "2024-03-17T00:00:00",
          "2024-03-18T00:00:00",
          "2024-03-19T00:00:00",
          "2024-03-20T00:00:00",
          "2024-03-21T00:00:00",
          "2024-03-22T00:00:00",
          "2024-03-23T00:00:00",
          "2024-03-24T00:00:00",
          "2024-03-25T00:00:00",
          "2024-03-26T00:00:00",
          "2024-03-27T00:00:00",
          "2024-03-28T00:00:00",
          "2024-03-29T00:00:00",
          "2024-03-30T00:00:00",
          "2024-03-31T00:00:00",
          "2024-04-01T00:00:00",
          "2024-04-02T00:00:00",
          "2024-04-03T00:00:00",
          "2024-04-04T00:00:00",
          "2024-04-05T00:00:00",
          "2024-04-06T00:00:00",
          "2024-04-07T00:00:00",
          "2024-04-08T00:00:00",
          "2024-04-09T00:00:00",
          "2024-04-10T00:00:00",
          "2024-04-11T00:00:00",
          "2024-04-12T00:00:00",
          "2024-04-13T00:00:00",
          "2024-04-14T00:00:00",
          "2024-04-15T00:00:00",
          "2024-04-16T00:00:00",
          "2024-04-17T00:00:00",
          "2024-04-18T00:00:00",
          "2024-04-19T00:00:00",
          "2024-04-20T00:00:00",
          "2024-04-21T00:00:00",
          "2024-04-22T00:00:00",
          "2024-04-23T00:00:00",
          "2024-04-24T00:00:00",
          "2024-04-25T00:00:00",
          "2024-04-26T00:00:00",
          "2024-04-27T00:00:00",
          "2024-04-28T00:00:00",
          "2024-04-29T00:00:00",
          "2024-04-30T00:00:00",
          "2024-05-01T00:00:00",
          "2024-05-02T00:00:00",
          "2024-05-03T00:00:00",
          "2024-05-04T00:00:00",
          "2024-05-05T00:00:00",
          "2024-05-06T00:00:00",
          "2024-05-07T00:00:00",
          "2024-05-08T00:00:00",
          "2024-05-09T00:00:00",
          "2024-05-10T00:00:00",
          "2024-05-11T00:00:00",
          "2024-05-12T00:00:00",
          "2024-05-13T00:00:00",
          "2024-05-14T00:00:00",
          "2024-05-15T00:00:00",
          "2024-05-16T00:00:00",
          "2024-05-17T00:00:00",
          "2024-05-18T00:00:00",
          "2024-05-19T00:00:00",
          "2024-05-20T00:00:00",
          "2024-05-21T00:00:00",
          "2024-05-22T00:00:00",
          "2024-05-23T00:00:00",
          "2024-05-24T00:00:00",
          "2024-05-25T00:00:00",
          "2024-05-26T00:00:00",
          "2024-05-27T00:00:00",
          "2024-05-28T00:00:00",
          "2024-05-29T00:00:00",
          "2024-05-30T00:00:00",
          "2024-05-31T00:00:00",
          "2024-06-01T00:00:00",
          "2024-06-02T00:00:00",
          "2024-06-03T00:00:00",
          "2024-06-04T00:00:00",
          "2024-06-05T00:00:00",
          "2024-06-06T00:00:00",
          "2024-06-07T00:00:00",
          "2024-06-08T00:00:00",
          "2024-06-09T00:00:00",
          "2024-06-10T00:00:00",
          "2024-06-11T00:00:00",
          "2024-06-12T00:00:00",
          "2024-06-13T00:00:00",
          "2024-06-14T00:00:00",
          "2024-06-15T00:00:00",
          "2024-06-16T00:00:00",
          "2024-06-17T00:00:00",
          "2024-06-18T00:00:00",
          "2024-06-19T00:00:00",
          "2024-06-20T00:00:00",
          "2024-06-21T00:00:00",
          "2024-06-22T00:00:00",
          "2024-06-23T00:00:00",
          "2024-06-24T00:00:00",
          "2024-06-25T00:00:00",
          "2024-06-26T00:00:00",
          "2024-06-27T00:00:00",
          "2024-06-28T00:00:00",
          "2024-06-29T00:00:00",
          "2024-06-30T00:00:00",
          "2024-07-01T00:00:00",
          "2024-07-02T00:00:00",
          "2024-07-03T00:00:00",
          "2024-07-04T00:00:00",
          "2024-07-05T00:00:00",
          "2024-07-06T00:00:00",
          "2024-07-07T00:00:00",
          "2024-07-08T00:00:00",
          "2024-07-09T00:00:00",
          "2024-07-10T00:00:00",
          "2024-07-11T00:00:00",
          "2024-07-12T00:00:00",
          "2024-07-13T00:00:00",
          "2024-07-14T00:00:00",
          "2024-07-15T00:00:00",
          "2024-07-16T00:00:00",
          "2024-07-17T00:00:00",
          "2024-07-18T00:00:00",
          "2024-07-19T00:00:00",
          "2024-07-20T00:00:00",
          "2024-07-21T00:00:00",
          "2024-07-22T00:00:00",
          "2024-07-23T00:00:00",
          "2024-07-24T00:00:00",
          "2024-07-25T00:00:00",
          "2024-07-26T00:00:00",
          "2024-07-27T00:00:00",
          "2024-07-28T00:00:00",
          "2024-07-29T00:00:00",
          "2024-07-30T00:00:00",
          "2024-07-31T00:00:00"
         ],
         "xaxis": "x2",
         "y": [
          396.3,
          228.1,
          349.1,
          135.2,
          338.5,
          170.2,
          220.1,
          265.5,
          479.4,
          231.6,
          275.2,
          228.1,
          256.2,
          397.1,
          107.6,
          183.2,
          68.9,
          115.6,
          219.9,
          213.9,
          205.2,
          189.39999999999998,
          285.1,
          78.7,
          223.60000000000002,
          376.7,
          271.7,
          125.4,
          156.10000000000002,
          189.9,
          68.7,
          242.79999999999998,
          136.5,
          126.5,
          185,
          362.1,
          140.1,
          241.5,
          340.2,
          186.10000000000002,
          166.4,
          169,
          67.6,
          302.40000000000003,
          434.3,
          150.39999999999998,
          276.5,
          199.2,
          352.7,
          261.1,
          494.3,
          104.64,
          176.46,
          173.9,
          272.36,
          121.48,
          300.28,
          37.72,
          169,
          257.66,
          272.36,
          0,
          245.72,
          114.44,
          0,
          0,
          314.58,
          344.08,
          37.72,
          295.38,
          148.44,
          293.24,
          272.36,
          90.82,
          403.64,
          350.82,
          327.34,
          306.36,
          283.44,
          417.84000000000003,
          559.02,
          314.9,
          370.82,
          575.4,
          210.14000000000001,
          254.92000000000002,
          526.6,
          365.92,
          372.1,
          396.6,
          370.82,
          499.96,
          386.8,
          212.8,
          251.7,
          474.18,
          310.08,
          385.52,
          149.4,
          136.18,
          436.46,
          226.32,
          211.62,
          221.42,
          379.14,
          126.38,
          262.56,
          408.54,
          323.3,
          234.64,
          380.62,
          221.42,
          403.64,
          169,
          178.8,
          221.42,
          141.07999999999998,
          196.92,
          131.28,
          159.2,
          287.06,
          131.28,
          98.46,
          192.02,
          310.08,
          60.74,
          303.7,
          164.1,
          346.32,
          139.6,
          144.5,
          83.76,
          116.58,
          154.3,
          65.64,
          172.42000000000002,
          32.82,
          60.74,
          27.92,
          312.02,
          242.96,
          200.33999999999997,
          121.48,
          106.78,
          339.94,
          330.14,
          269.4,
          461.42,
          372.76,
          78.86,
          321.82,
          650.48,
          633.84
         ],
         "yaxis": "y2"
        },
        {
         "domain": {
          "x": [
           0,
           0.37
          ],
          "y": [
           0.3888888888888889,
           0.6111111111111112
          ]
         },
         "labels": [
          "Regular",
          "At-Risk",
          "Occasional",
          "VIP"
         ],
         "name": "Customer Segments",
         "type": "pie",
         "values": [
          215,
          120,
          109,
          2
         ]
        },
        {
         "name": "Hourly Revenue",
         "type": "bar",
         "x": [
          7,
          8,
          9,
          10,
          11,
          12,
          13,
          14,
          15,
          16,
          17,
          18,
          19,
          20,
          21,
          22
         ],
         "xaxis": "x3",
         "y": [
          392.8,
          1380.38,
          1515.48,
          4553.18,
          3258.64,
          2850.6,
          2511.6,
          2484.92,
          2158.76,
          2525.36,
          2639.08,
          2558.04,
          3388.32,
          1819.92,
          2343.86,
          1127.94
         ],
         "yaxis": "y3"
        },
        {
         "domain": {
          "x": [
           0,
           0.37
          ],
          "y": [
           0,
           0.22222222222222224
          ]
         },
         "labels": [
          "card",
          "cash"
         ],
         "name": "Payment Methods",
         "type": "pie",
         "values": [
          1044,
          89
         ]
        },
        {
         "marker": {
          "color": "gold"
         },
         "name": "Profit Margin %",
         "type": "bar",
         "x": [
          "Americano",
          "Americano with Milk",
          "Cappuccino",
          "Cocoa",
          "Cortado",
          "Espresso",
          "Hot Chocolate",
          "Latte"
         ],
         "xaxis": "x4",
         "y": [
          63.36,
          62.42,
          65.16,
          78.3,
          60.09,
          63.96,
          67.93,
          59.37
         ],
         "yaxis": "y5"
        }
       ],
       "layout": {
        "annotations": [
         {
          "font": {
           "size": 16
          },
          "showarrow": false,
          "text": "Revenue vs Profit by Coffee",
          "x": 0.185,
          "xanchor": "center",
          "xref": "paper",
          "y": 1,
          "yanchor": "bottom",
          "yref": "paper"
         },
         {
          "font": {
           "size": 16
          },
          "showarrow": false,
          "text": "Daily Revenue Trend",
          "x": 0.7550000000000001,
          "xanchor": "center",
          "xref": "paper",
          "y": 1,
          "yanchor": "bottom",
          "yref": "paper"
         },
         {
          "font": {
           "size": 16
          },
          "showarrow": false,
          "text": "Customer Segments Distribution",
          "x": 0.185,
          "xanchor": "center",
          "xref": "paper",
          "y": 0.6111111111111112,
          "yanchor": "bottom",
          "yref": "paper"
         },
         {
          "font": {
           "size": 16
          },
          "showarrow": false,
          "text": "Hourly Performance",
          "x": 0.7550000000000001,
          "xanchor": "center",
          "xref": "paper",
          "y": 0.6111111111111112,
          "yanchor": "bottom",
          "yref": "paper"
         },
         {
          "font": {
           "size": 16
          },
          "showarrow": false,
          "text": "Payment Method Preferences",
          "x": 0.185,
          "xanchor": "center",
          "xref": "paper",
          "y": 0.22222222222222224,
          "yanchor": "bottom",
          "yref": "paper"
         },
         {
          "font": {
           "size": 16
          },
          "showarrow": false,
          "text": "Profit Margin Analysis",
          "x": 0.7550000000000001,
          "xanchor": "center",
          "xref": "paper",
          "y": 0.22222222222222224,
          "yanchor": "bottom",
          "yref": "paper"
         }
        ],
        "height": 1200,
        "showlegend": false,
        "template": {
         "data": {
          "bar": [
           {
            "error_x": {
             "color": "#2a3f5f"
            },
            "error_y": {
             "color": "#2a3f5f"
            },
            "marker": {
             "line": {
              "color": "#E5ECF6",
              "width": 0.5
             },
             "pattern": {
              "fillmode": "overlay",
              "size": 10,
              "solidity": 0.2
             }
            },
            "type": "bar"
           }
          ],
          "barpolar": [
           {
            "marker": {
             "line": {
              "color": "#E5ECF6",
              "width": 0.5
             },
             "pattern": {
              "fillmode": "overlay",
              "size": 10,
              "solidity": 0.2
             }
            },
            "type": "barpolar"
           }
          ],
          "carpet": [
           {
            "aaxis": {
             "endlinecolor": "#2a3f5f",
             "gridcolor": "white",
             "linecolor": "white",
             "minorgridcolor": "white",
             "startlinecolor": "#2a3f5f"
            },
            "baxis": {
             "endlinecolor": "#2a3f5f",
             "gridcolor": "white",
             "linecolor": "white",
             "minorgridcolor": "white",
             "startlinecolor": "#2a3f5f"
            },
            "type": "carpet"
           }
          ],
          "choropleth": [
           {
            "colorbar": {
             "outlinewidth": 0,
             "ticks": ""
            },
            "type": "choropleth"
           }
          ],
          "contour": [
           {
            "colorbar": {
             "outlinewidth": 0,
             "ticks": ""
            },
            "colorscale": [
             [
              0,
              "#0d0887"
             ],
             [
              0.1111111111111111,
              "#46039f"
             ],
             [
              0.2222222222222222,
              "#7201a8"
             ],
             [
              0.3333333333333333,
              "#9c179e"
             ],
             [
              0.4444444444444444,
              "#bd3786"
             ],
             [
              0.5555555555555556,
              "#d8576b"
             ],
             [
              0.6666666666666666,
              "#ed7953"
             ],
             [
              0.7777777777777778,
              "#fb9f3a"
             ],
             [
              0.8888888888888888,
              "#fdca26"
             ],
             [
              1,
              "#f0f921"
             ]
            ],
            "type": "contour"
           }
          ],
          "contourcarpet": [
           {
            "colorbar": {
             "outlinewidth": 0,
             "ticks": ""
            },
            "type": "contourcarpet"
           }
          ],
          "heatmap": [
           {
            "colorbar": {
             "outlinewidth": 0,
             "ticks": ""
            },
            "colorscale": [
             [
              0,
              "#0d0887"
             ],
             [
              0.1111111111111111,
              "#46039f"
             ],
             [
              0.2222222222222222,
              "#7201a8"
             ],
             [
              0.3333333333333333,
              "#9c179e"
             ],
             [
              0.4444444444444444,
              "#bd3786"
             ],
             [
              0.5555555555555556,
              "#d8576b"
             ],
             [
              0.6666666666666666,
              "#ed7953"
             ],
             [
              0.7777777777777778,
              "#fb9f3a"
             ],
             [
              0.8888888888888888,
              "#fdca26"
             ],
             [
              1,
              "#f0f921"
             ]
            ],
            "type": "heatmap"
           }
          ],
          "heatmapgl": [
           {
            "colorbar": {
             "outlinewidth": 0,
             "ticks": ""
            },
            "colorscale": [
             [
              0,
              "#0d0887"
             ],
             [
              0.1111111111111111,
              "#46039f"
             ],
             [
              0.2222222222222222,
              "#7201a8"
             ],
             [
              0.3333333333333333,
              "#9c179e"
             ],
             [
              0.4444444444444444,
              "#bd3786"
             ],
             [
              0.5555555555555556,
              "#d8576b"
             ],
             [
              0.6666666666666666,
              "#ed7953"
             ],
             [
              0.7777777777777778,
              "#fb9f3a"
             ],
             [
              0.8888888888888888,
              "#fdca26"
             ],
             [
              1,
              "#f0f921"
             ]
            ],
            "type": "heatmapgl"
           }
          ],
          "histogram": [
           {
            "marker": {
             "pattern": {
              "fillmode": "overlay",
              "size": 10,
              "solidity": 0.2
             }
            },
            "type": "histogram"
           }
          ],
          "histogram2d": [
           {
            "colorbar": {
             "outlinewidth": 0,
             "ticks": ""
            },
            "colorscale": [
             [
              0,
              "#0d0887"
             ],
             [
              0.1111111111111111,
              "#46039f"
             ],
             [
              0.2222222222222222,
              "#7201a8"
             ],
             [
              0.3333333333333333,
              "#9c179e"
             ],
             [
              0.4444444444444444,
              "#bd3786"
             ],
             [
              0.5555555555555556,
              "#d8576b"
             ],
             [
              0.6666666666666666,
              "#ed7953"
             ],
             [
              0.7777777777777778,
              "#fb9f3a"
             ],
             [
              0.8888888888888888,
              "#fdca26"
             ],
             [
              1,
              "#f0f921"
             ]
            ],
            "type": "histogram2d"
           }
          ],
          "histogram2dcontour": [
           {
            "colorbar": {
             "outlinewidth": 0,
             "ticks": ""
            },
            "colorscale": [
             [
              0,
              "#0d0887"
             ],
             [
              0.1111111111111111,
              "#46039f"
             ],
             [
              0.2222222222222222,
              "#7201a8"
             ],
             [
              0.3333333333333333,
              "#9c179e"
             ],
             [
              0.4444444444444444,
              "#bd3786"
             ],
             [
              0.5555555555555556,
              "#d8576b"
             ],
             [
              0.6666666666666666,
              "#ed7953"
             ],
             [
              0.7777777777777778,
              "#fb9f3a"
             ],
             [
              0.8888888888888888,
              "#fdca26"
             ],
             [
              1,
              "#f0f921"
             ]
            ],
            "type": "histogram2dcontour"
           }
          ],
          "mesh3d": [
           {
            "colorbar": {
             "outlinewidth": 0,
             "ticks": ""
            },
            "type": "mesh3d"
           }
          ],
          "parcoords": [
           {
            "line": {
             "colorbar": {
              "outlinewidth": 0,
              "ticks": ""
             }
            },
            "type": "parcoords"
           }
          ],
          "pie": [
           {
            "automargin": true,
            "type": "pie"
           }
          ],
          "scatter": [
           {
            "fillpattern": {
             "fillmode": "overlay",
             "size": 10,
             "solidity": 0.2
            },
            "type": "scatter"
           }
          ],
          "scatter3d": [
           {
            "line": {
             "colorbar": {
              "outlinewidth": 0,
              "ticks": ""
             }
            },
            "marker": {
             "colorbar": {
              "outlinewidth": 0,
              "ticks": ""
             }
            },
            "type": "scatter3d"
           }
          ],
          "scattercarpet": [
           {
            "marker": {
             "colorbar": {
              "outlinewidth": 0,
              "ticks": ""
             }
            },
            "type": "scattercarpet"
           }
          ],
          "scattergeo": [
           {
            "marker": {
             "colorbar": {
              "outlinewidth": 0,
              "ticks": ""
             }
            },
            "type": "scattergeo"
           }
          ],
          "scattergl": [
           {
            "marker": {
             "colorbar": {
              "outlinewidth": 0,
              "ticks": ""
             }
            },
            "type": "scattergl"
           }
          ],
          "scattermapbox": [
           {
            "marker": {
             "colorbar": {
              "outlinewidth": 0,
              "ticks": ""
             }
            },
            "type": "scattermapbox"
           }
          ],
          "scatterpolar": [
           {
            "marker": {
             "colorbar": {
              "outlinewidth": 0,
              "ticks": ""
             }
            },
            "type": "scatterpolar"
           }
          ],
          "scatterpolargl": [
           {
            "marker": {
             "colorbar": {
              "outlinewidth": 0,
              "ticks": ""
             }
            },
            "type": "scatterpolargl"
           }
          ],
          "scatterternary": [
           {
            "marker": {
             "colorbar": {
              "outlinewidth": 0,
              "ticks": ""
             }
            },
            "type": "scatterternary"
           }
          ],
          "surface": [
           {
            "colorbar": {
             "outlinewidth": 0,
             "ticks": ""
            },
            "colorscale": [
             [
              0,
              "#0d0887"
             ],
             [
              0.1111111111111111,
              "#46039f"
             ],
             [
              0.2222222222222222,
              "#7201a8"
             ],
             [
              0.3333333333333333,
              "#9c179e"
             ],
             [
              0.4444444444444444,
              "#bd3786"
             ],
             [
              0.5555555555555556,
              "#d8576b"
             ],
             [
              0.6666666666666666,
              "#ed7953"
             ],
             [
              0.7777777777777778,
              "#fb9f3a"
             ],
             [
              0.8888888888888888,
              "#fdca26"
             ],
             [
              1,
              "#f0f921"
             ]
            ],
            "type": "surface"
           }
          ],
          "table": [
           {
            "cells": {
             "fill": {
              "color": "#EBF0F8"
             },
             "line": {
              "color": "white"
             }
            },
            "header": {
             "fill": {
              "color": "#C8D4E3"
             },
             "line": {
              "color": "white"
             }
            },
            "type": "table"
           }
          ]
         },
         "layout": {
          "annotationdefaults": {
           "arrowcolor": "#2a3f5f",
           "arrowhead": 0,
           "arrowwidth": 1
          },
          "autotypenumbers": "strict",
          "coloraxis": {
           "colorbar": {
            "outlinewidth": 0,
            "ticks": ""
           }
          },
          "colorscale": {
           "diverging": [
            [
             0,
             "#8e0152"
            ],
            [
             0.1,
             "#c51b7d"
            ],
            [
             0.2,
             "#de77ae"
            ],
            [
             0.3,
             "#f1b6da"
            ],
            [
             0.4,
             "#fde0ef"
            ],
            [
             0.5,
             "#f7f7f7"
            ],
            [
             0.6,
             "#e6f5d0"
            ],
            [
             0.7,
             "#b8e186"
            ],
            [
             0.8,
             "#7fbc41"
            ],
            [
             0.9,
             "#4d9221"
            ],
            [
             1,
             "#276419"
            ]
           ],
           "sequential": [
            [
             0,
             "#0d0887"
            ],
            [
             0.1111111111111111,
             "#46039f"
            ],
            [
             0.2222222222222222,
             "#7201a8"
            ],
            [
             0.3333333333333333,
             "#9c179e"
            ],
            [
             0.4444444444444444,
             "#bd3786"
            ],
            [
             0.5555555555555556,
             "#d8576b"
            ],
            [
             0.6666666666666666,
             "#ed7953"
            ],
            [
             0.7777777777777778,
             "#fb9f3a"
            ],
            [
             0.8888888888888888,
             "#fdca26"
            ],
            [
             1,
             "#f0f921"
            ]
           ],
           "sequentialminus": [
            [
             0,
             "#0d0887"
            ],
            [
             0.1111111111111111,
             "#46039f"
            ],
            [
             0.2222222222222222,
             "#7201a8"
            ],
            [
             0.3333333333333333,
             "#9c179e"
            ],
            [
             0.4444444444444444,
             "#bd3786"
            ],
            [
             0.5555555555555556,
             "#d8576b"
            ],
            [
             0.6666666666666666,
             "#ed7953"
            ],
            [
             0.7777777777777778,
             "#fb9f3a"
            ],
            [
             0.8888888888888888,
             "#fdca26"
            ],
            [
             1,
             "#f0f921"
            ]
           ]
          },
          "colorway": [
           "#636efa",
           "#EF553B",
           "#00cc96",
           "#ab63fa",
           "#FFA15A",
           "#19d3f3",
           "#FF6692",
           "#B6E880",
           "#FF97FF",
           "#FECB52"
          ],
          "font": {
           "color": "#2a3f5f"
          },
          "geo": {
           "bgcolor": "white",
           "lakecolor": "white",
           "landcolor": "#E5ECF6",
           "showlakes": true,
           "showland": true,
           "subunitcolor": "white"
          },
          "hoverlabel": {
           "align": "left"
          },
          "hovermode": "closest",
          "mapbox": {
           "style": "light"
          },
          "paper_bgcolor": "white",
          "plot_bgcolor": "#E5ECF6",
          "polar": {
           "angularaxis": {
            "gridcolor": "white",
            "linecolor": "white",
            "ticks": ""
           },
           "bgcolor": "#E5ECF6",
           "radialaxis": {
            "gridcolor": "white",
            "linecolor": "white",
            "ticks": ""
           }
          },
          "scene": {
           "xaxis": {
            "backgroundcolor": "#E5ECF6",
            "gridcolor": "white",
            "gridwidth": 2,
            "linecolor": "white",
            "showbackground": true,
            "ticks": "",
            "zerolinecolor": "white"
           },
           "yaxis": {
            "backgroundcolor": "#E5ECF6",
            "gridcolor": "white",
            "gridwidth": 2,
            "linecolor": "white",
            "showbackground": true,
            "ticks": "",
            "zerolinecolor": "white"
           },
           "zaxis": {
            "backgroundcolor": "#E5ECF6",
            "gridcolor": "white",
            "gridwidth": 2,
            "linecolor": "white",
            "showbackground": true,
            "ticks": "",
            "zerolinecolor": "white"
           }
          },
          "shapedefaults": {
           "line": {
            "color": "#2a3f5f"
           }
          },
          "ternary": {
           "aaxis": {
            "gridcolor": "white",
            "linecolor": "white",
            "ticks": ""
           },
           "baxis": {
            "gridcolor": "white",
            "linecolor": "white",
            "ticks": ""
           },
           "bgcolor": "#E5ECF6",
           "caxis": {
            "gridcolor": "white",
            "linecolor": "white",
            "ticks": ""
           }
          },
          "title": {
           "x": 0.05
          },
          "xaxis": {
           "automargin": true,
           "gridcolor": "white",
           "linecolor": "white",
           "ticks": "",
           "title": {
            "standoff": 15
           },
           "zerolinecolor": "white",
           "zerolinewidth": 2
          },
          "yaxis": {
           "automargin": true,
           "gridcolor": "white",
           "linecolor": "white",
           "ticks": "",
           "title": {
            "standoff": 15
           },
           "zerolinecolor": "white",
           "zerolinewidth": 2
          }
         }
        },
        "title": {
         "text": "Comprehensive Business Intelligence Dashboard"
        },
        "xaxis": {
         "anchor": "y",
         "domain": [
          0,
          0.37
         ]
        },
        "xaxis2": {
         "anchor": "y2",
         "domain": [
          0.5700000000000001,
          0.9400000000000001
         ]
        },
        "xaxis3": {
         "anchor": "y3",
         "domain": [
          0.5700000000000001,
          0.9400000000000001
         ]
        },
        "xaxis4": {
         "anchor": "y5",
         "domain": [
          0.5700000000000001,
          0.9400000000000001
         ]
        },
        "yaxis": {
         "anchor": "x",
         "domain": [
          0.7777777777777778,
          1
         ]
        },
        "yaxis2": {
         "anchor": "x2",
         "domain": [
          0.7777777777777778,
          1
         ]
        },
        "yaxis3": {
         "anchor": "x3",
         "domain": [
          0.3888888888888889,
          0.6111111111111112
         ]
        },
        "yaxis4": {
         "anchor": "x3",
         "overlaying": "y3",
         "side": "right"
        },
        "yaxis5": {
         "anchor": "x4",
         "domain": [
          0,
          0.22222222222222224
         ]
        }
       }
      }
     },
     "metadata": {},
     "output_type": "display_data"
    },
    {
     "name": "stdout",
     "output_type": "stream",
     "text": [
      "📊 KEY PERFORMANCE INDICATORS\n",
      "==================================================\n",
      "💰 Total Revenue: $37,508.88\n",
      "💵 Total Profit: $23,760.88\n",
      "📈 Average Profit Margin: 63.1%\n",
      "🛒 Total Transactions: 1,133\n",
      "💳 Average Transaction Value: $33.11\n",
      "👥 Unique Customers: 446\n",
      "📅 Days in Operation: 153\n",
      "📊 Daily Average Revenue: $245.16\n",
      "🎯 Customer Retention Rate: 37.0%\n",
      "\n",
      "🏆 PRODUCT PERFORMANCE:\n"
     ]
    },
    {
     "data": {
      "text/html": [
       "<div>\n",
       "<style scoped>\n",
       "    .dataframe tbody tr th:only-of-type {\n",
       "        vertical-align: middle;\n",
       "    }\n",
       "\n",
       "    .dataframe tbody tr th {\n",
       "        vertical-align: top;\n",
       "    }\n",
       "\n",
       "    .dataframe thead th {\n",
       "        text-align: right;\n",
       "    }\n",
       "</style>\n",
       "<table border=\"1\" class=\"dataframe\">\n",
       "  <thead>\n",
       "    <tr style=\"text-align: right;\">\n",
       "      <th></th>\n",
       "      <th>Total_Revenue</th>\n",
       "      <th>Units_Sold</th>\n",
       "      <th>Avg_Price</th>\n",
       "      <th>Total_Profit</th>\n",
       "      <th>Avg_Profit_Margin</th>\n",
       "      <th>ROI</th>\n",
       "    </tr>\n",
       "    <tr>\n",
       "      <th>coffee_name</th>\n",
       "      <th></th>\n",
       "      <th></th>\n",
       "      <th></th>\n",
       "      <th></th>\n",
       "      <th></th>\n",
       "      <th></th>\n",
       "    </tr>\n",
       "  </thead>\n",
       "  <tbody>\n",
       "    <tr>\n",
       "      <th>Latte</th>\n",
       "      <td>9009.14</td>\n",
       "      <td>243</td>\n",
       "      <td>37.07</td>\n",
       "      <td>5364.14</td>\n",
       "      <td>59.37</td>\n",
       "      <td>147.164335</td>\n",
       "    </tr>\n",
       "    <tr>\n",
       "      <th>Americano with Milk</th>\n",
       "      <td>8601.94</td>\n",
       "      <td>268</td>\n",
       "      <td>32.10</td>\n",
       "      <td>5385.94</td>\n",
       "      <td>62.42</td>\n",
       "      <td>167.473259</td>\n",
       "    </tr>\n",
       "    <tr>\n",
       "      <th>Cappuccino</th>\n",
       "      <td>7333.14</td>\n",
       "      <td>196</td>\n",
       "      <td>37.41</td>\n",
       "      <td>4785.14</td>\n",
       "      <td>65.16</td>\n",
       "      <td>187.799843</td>\n",
       "    </tr>\n",
       "    <tr>\n",
       "      <th>Americano</th>\n",
       "      <td>4644.54</td>\n",
       "      <td>169</td>\n",
       "      <td>27.48</td>\n",
       "      <td>2954.54</td>\n",
       "      <td>63.36</td>\n",
       "      <td>174.824852</td>\n",
       "    </tr>\n",
       "    <tr>\n",
       "      <th>Hot Chocolate</th>\n",
       "      <td>2778.48</td>\n",
       "      <td>74</td>\n",
       "      <td>37.55</td>\n",
       "      <td>1890.48</td>\n",
       "      <td>67.93</td>\n",
       "      <td>212.891892</td>\n",
       "    </tr>\n",
       "    <tr>\n",
       "      <th>Cortado</th>\n",
       "      <td>2745.08</td>\n",
       "      <td>99</td>\n",
       "      <td>27.73</td>\n",
       "      <td>1656.08</td>\n",
       "      <td>60.09</td>\n",
       "      <td>152.073462</td>\n",
       "    </tr>\n",
       "    <tr>\n",
       "      <th>Cocoa</th>\n",
       "      <td>1295.94</td>\n",
       "      <td>35</td>\n",
       "      <td>37.03</td>\n",
       "      <td>1015.94</td>\n",
       "      <td>78.30</td>\n",
       "      <td>362.835714</td>\n",
       "    </tr>\n",
       "    <tr>\n",
       "      <th>Espresso</th>\n",
       "      <td>1100.62</td>\n",
       "      <td>49</td>\n",
       "      <td>22.46</td>\n",
       "      <td>708.62</td>\n",
       "      <td>63.96</td>\n",
       "      <td>180.770408</td>\n",
       "    </tr>\n",
       "  </tbody>\n",
       "</table>\n",
       "</div>"
      ],
      "text/plain": [
       "                     Total_Revenue  Units_Sold  Avg_Price  Total_Profit  \\\n",
       "coffee_name                                                               \n",
       "Latte                      9009.14         243      37.07       5364.14   \n",
       "Americano with Milk        8601.94         268      32.10       5385.94   \n",
       "Cappuccino                 7333.14         196      37.41       4785.14   \n",
       "Americano                  4644.54         169      27.48       2954.54   \n",
       "Hot Chocolate              2778.48          74      37.55       1890.48   \n",
       "Cortado                    2745.08          99      27.73       1656.08   \n",
       "Cocoa                      1295.94          35      37.03       1015.94   \n",
       "Espresso                   1100.62          49      22.46        708.62   \n",
       "\n",
       "                     Avg_Profit_Margin         ROI  \n",
       "coffee_name                                         \n",
       "Latte                            59.37  147.164335  \n",
       "Americano with Milk              62.42  167.473259  \n",
       "Cappuccino                       65.16  187.799843  \n",
       "Americano                        63.36  174.824852  \n",
       "Hot Chocolate                    67.93  212.891892  \n",
       "Cortado                          60.09  152.073462  \n",
       "Cocoa                            78.30  362.835714  \n",
       "Espresso                         63.96  180.770408  "
      ]
     },
     "metadata": {},
     "output_type": "display_data"
    }
   ],
   "source": [
    "# --- KPI and Profit Calculation ---\n",
    "total_revenue = df_processed['money'].sum()\n",
    "total_transactions = len(df_processed)\n",
    "avg_transaction_value = df_processed['money'].mean()\n",
    "unique_customers = df_processed[df_processed['card'] != 'Cash Payment']['card'].nunique()\n",
    "days_in_operation = (df_processed['date'].max() - df_processed['date'].min()).days + 1\n",
    "\n",
    "# Fix: Completed cost dictionary to prevent NaN values in profit calculations\n",
    "coffee_costs = {\n",
    "    'Latte': 15, 'Hot Chocolate': 12, 'Americano': 10, 'Cocoa': 8, 'Cappuccino': 13,\n",
    "    'Americano with Milk': 12, # Estimated\n",
    "    'Cortado': 11,             # Estimated\n",
    "    'Espresso': 8              # Estimated\n",
    "}\n",
    "df_processed['estimated_cost'] = df_processed['coffee_name'].map(coffee_costs)\n",
    "df_processed['profit'] = df_processed['money'] - df_processed['estimated_cost']\n",
    "df_processed['profit_margin'] = (df_processed['profit'] / df_processed['money']) * 100\n",
    "\n",
    "business_summary = df_processed.groupby('coffee_name').agg(\n",
    "    Total_Revenue=('money', 'sum'),\n",
    "    Units_Sold=('money', 'count'),\n",
    "    Avg_Price=('money', 'mean'),\n",
    "    Total_Profit=('profit', 'sum'),\n",
    "    Avg_Profit_Margin=('profit_margin', 'mean')\n",
    ").round(2)\n",
    "\n",
    "business_summary['ROI'] = (business_summary['Total_Profit'] / \n",
    "                          (business_summary['Units_Sold'] * business_summary.index.map(coffee_costs))) * 100\n",
    "\n",
    "# --- Dashboard Creation ---\n",
    "fig = make_subplots(\n",
    "    rows=3, cols=2,\n",
    "    subplot_titles=('Revenue vs Profit by Coffee', 'Daily Revenue Trend', \n",
    "                   'Customer Segments Distribution', 'Hourly Performance',\n",
    "                   'Payment Method Preferences', 'Profit Margin Analysis'),\n",
    "    specs=[[{\"secondary_y\": False}, {\"secondary_y\": False}],\n",
    "           [{\"type\": \"pie\"}, {\"secondary_y\": True}],\n",
    "           [{\"type\": \"pie\"}, {\"secondary_y\": False}]]\n",
    ")\n",
    "\n",
    "# Revenue vs Profit\n",
    "fig.add_trace(go.Bar(x=business_summary.index, y=business_summary['Total_Revenue'], name='Revenue', marker_color='lightblue'), row=1, col=1)\n",
    "fig.add_trace(go.Bar(x=business_summary.index, y=business_summary['Total_Profit'], name='Profit', marker_color='lightgreen'), row=1, col=1)\n",
    "\n",
    "# Daily revenue trend\n",
    "fig.add_trace(go.Scatter(x=daily_sales.index, y=daily_sales['money'], mode='lines', name='Daily Revenue'), row=1, col=2)\n",
    "\n",
    "# Customer segments\n",
    "segment_counts = customer_metrics['Segment_Name'].value_counts()\n",
    "fig.add_trace(go.Pie(labels=segment_counts.index, values=segment_counts.values, name='Customer Segments'), row=2, col=1)\n",
    "\n",
    "# Hourly performance\n",
    "fig.add_trace(go.Bar(x=hourly_sales['hour'], y=hourly_sales['Total_Revenue'], name='Hourly Revenue'), row=2, col=2)\n",
    "\n",
    "# Payment methods\n",
    "payment_counts = df_processed['cash_type'].value_counts()\n",
    "fig.add_trace(go.Pie(labels=payment_counts.index, values=payment_counts.values, name='Payment Methods'), row=3, col=1)\n",
    "\n",
    "# Profit margins\n",
    "fig.add_trace(go.Bar(x=business_summary.index, y=business_summary['Avg_Profit_Margin'], name='Profit Margin %', marker_color='gold'), row=3, col=2)\n",
    "\n",
    "fig.update_layout(height=1200, title_text=\"Comprehensive Business Intelligence Dashboard\", showlegend=False)\n",
    "fig.show()\n",
    "\n",
    "# --- Key Performance Indicators ---\n",
    "print(\"📊 KEY PERFORMANCE INDICATORS\")\n",
    "print(\"=\" * 50)\n",
    "print(f\"💰 Total Revenue: ${total_revenue:,.2f}\")\n",
    "print(f\"💵 Total Profit: ${df_processed['profit'].sum():,.2f}\")\n",
    "print(f\"📈 Average Profit Margin: {df_processed['profit_margin'].mean():.1f}%\")\n",
    "print(f\"🛒 Total Transactions: {total_transactions:,}\")\n",
    "print(f\"💳 Average Transaction Value: ${avg_transaction_value:.2f}\")\n",
    "print(f\"👥 Unique Customers: {unique_customers}\")\n",
    "print(f\"📅 Days in Operation: {days_in_operation}\")\n",
    "print(f\"📊 Daily Average Revenue: ${total_revenue/days_in_operation:.2f}\")\n",
    "print(f\"🎯 Customer Retention Rate: {(len(customer_metrics[customer_metrics['Visit_Frequency'] > 1]) / len(customer_metrics) * 100):.1f}%\")\n",
    "\n",
    "print(\"\\n🏆 PRODUCT PERFORMANCE:\")\n",
    "display(business_summary.sort_values('Total_Revenue', ascending=False))"
   ]
  },
  {
   "cell_type": "markdown",
   "metadata": {},
   "source": [
    "## 8. Strategic Recommendations & Action Plan"
   ]
  },
  {
   "cell_type": "code",
   "execution_count": 13,
   "metadata": {},
   "outputs": [
    {
     "name": "stdout",
     "output_type": "stream",
     "text": [
      "🎯 STRATEGIC RECOMMENDATIONS\n",
      "============================================================\n",
      "\n",
      "1. 📦 PRODUCT PORTFOLIO OPTIMIZATION:\n",
      "   ✅ Focus on top performers: Latte, Americano with Milk\n",
      "   💎 Promote high-margin product: Cocoa (78.3% margin)\n",
      "   ⚠️  Consider discontinuing or repositioning: Espresso\n",
      "   🎯 Recommended inventory allocation: 60% top sellers, 30% high-margin, 10% experimental\n",
      "\n",
      "2. ⏰ OPERATIONAL EFFICIENCY:\n",
      "   🔥 Peak hours requiring full stock: [10, 19, 11]\n",
      "   💤 Low-activity hours for maintenance: [7, 22, 8]\n",
      "   📈 Weekend revenue is -6.6% vs weekdays\n",
      "   ✅ Implement dynamic pricing: Higher prices during peak hours, promotions during low hours\n",
      "\n",
      "3. 👥 CUSTOMER RELATIONSHIP MANAGEMENT:\n",
      "   🌟 VIP customers (2) generate $4,805.88 in revenue\n",
      "   ⚠️  120 customers at risk of churning - implement retention campaign\n",
      "   💳 92.1% prefer card payments - ensure payment system reliability\n",
      "   🎁 Loyalty program ROI: Invest $2 per VIP customer for $20+ return\n",
      "\n",
      "4. 💰 FINANCIAL PROJECTIONS & TARGETS:\n",
      "   📊 Current monthly revenue: $7,354.68\n",
      "   🔮 Projected next month: $6,522.60 (-11.3%)\n",
      "   🎯 Recommended target: $7,500.99 (+15% stretch goal)\n",
      "   💡 Quick wins could add $652.26/month through optimization\n",
      "\n",
      "5. 🗓️ IMPLEMENTATION ROADMAP:\n",
      "   Week 1-2: 🚀 Implement dynamic pricing and inventory optimization\n",
      "   Week 3-4: 💌 Launch customer retention campaign for at-risk segments\n",
      "   Month 2:   🎁 Deploy loyalty program for VIP customers\n",
      "   Month 3:   📊 Evaluate performance and adjust strategies\n",
      "   Quarter 2: 🔄 Full portfolio review and expansion planning\n",
      "\n",
      "💎 EXPECTED ROI: 1465% annual return on $500 investment\n",
      "🚀 Break-even timeline: 0.8 months\n"
     ]
    }
   ],
   "source": [
    "# Generate data-driven recommendations\n",
    "print(\"🎯 STRATEGIC RECOMMENDATIONS\")\n",
    "print(\"=\" * 60)\n",
    "\n",
    "# 1. Product optimization\n",
    "best_sellers = business_summary.nlargest(2, 'Total_Revenue').index.tolist()\n",
    "highest_margin = business_summary.nlargest(1, 'Avg_Profit_Margin').index[0]\n",
    "lowest_performer = business_summary.nsmallest(1, 'Total_Revenue').index[0]\n",
    "\n",
    "print(\"\\n1. 📦 PRODUCT PORTFOLIO OPTIMIZATION:\")\n",
    "print(f\"   ✅ Focus on top performers: {', '.join(best_sellers)}\")\n",
    "print(f\"   💎 Promote high-margin product: {highest_margin} ({business_summary.loc[highest_margin, 'Avg_Profit_Margin']:.1f}% margin)\")\n",
    "print(f\"   ⚠️  Consider discontinuing or repositioning: {lowest_performer}\")\n",
    "print(f\"   🎯 Recommended inventory allocation: 60% top sellers, 30% high-margin, 10% experimental\")\n",
    "\n",
    "# 2. Operational optimization\n",
    "peak_hours = hourly_sales.nlargest(3, 'Total_Revenue')['hour'].tolist()\n",
    "low_hours = hourly_sales.nsmallest(3, 'Total_Revenue')['hour'].tolist()\n",
    "\n",
    "print(\"\\n2. ⏰ OPERATIONAL EFFICIENCY:\")\n",
    "print(f\"   🔥 Peak hours requiring full stock: {peak_hours}\")\n",
    "print(f\"   💤 Low-activity hours for maintenance: {low_hours}\")\n",
    "print(f\"   📈 Weekend revenue is {((daily_sales[daily_sales.index.dayofweek.isin([5,6])]['money'].mean() / daily_sales[~daily_sales.index.dayofweek.isin([5,6])]['money'].mean() - 1) * 100):+.1f}% vs weekdays\")\n",
    "print(\"   ✅ Implement dynamic pricing: Higher prices during peak hours, promotions during low hours\")\n",
    "\n",
    "# 3. Customer strategy\n",
    "vip_customers_count = segment_analysis.loc['VIP', 'Customer_Count']\n",
    "vip_revenue = segment_analysis.loc['VIP', 'Avg_Total_Spent'] * vip_customers_count\n",
    "at_risk_customers_count = segment_analysis.loc['At-Risk', 'Customer_Count']\n",
    "\n",
    "print(\"\\n3. 👥 CUSTOMER RELATIONSHIP MANAGEMENT:\")\n",
    "print(f\"   🌟 VIP customers ({int(vip_customers_count)}) generate ${vip_revenue:,.2f} in revenue\")\n",
    "print(f\"   ⚠️  {int(at_risk_customers_count)} customers at risk of churning - implement retention campaign\")\n",
    "print(f\"   💳 {(len(df_processed[df_processed['cash_type'] == 'card']) / len(df_processed) * 100):.1f}% prefer card payments - ensure payment system reliability\")\n",
    "print(\"   🎁 Loyalty program ROI: Invest $2 per VIP customer for $20+ return\")\n",
    "\n",
    "# 4. Revenue projections and targets\n",
    "current_monthly_revenue = total_revenue / (days_in_operation / 30)\n",
    "projected_monthly_revenue = future_predictions.head(30)['yhat'].sum()\n",
    "growth_rate = ((projected_monthly_revenue / current_monthly_revenue) - 1) * 100\n",
    "quick_win_revenue_gain = projected_monthly_revenue * 0.10 # Based on a 10% quick win estimate\n",
    "stretch_goal_revenue = projected_monthly_revenue * 1.15\n",
    "\n",
    "print(\"\\n4. 💰 FINANCIAL PROJECTIONS & TARGETS:\")\n",
    "print(f\"   📊 Current monthly revenue: ${current_monthly_revenue:,.2f}\")\n",
    "print(f\"   🔮 Projected next month: ${projected_monthly_revenue:,.2f} ({growth_rate:+.1f}%)\")\n",
    "print(f\"   🎯 Recommended target: ${stretch_goal_revenue:,.2f} (+15% stretch goal)\")\n",
    "print(f\"   💡 Quick wins could add ${quick_win_revenue_gain:,.2f}/month through optimization\")\n",
    "\n",
    "# 5. Implementation timeline\n",
    "print(\"\\n5. 🗓️ IMPLEMENTATION ROADMAP:\")\n",
    "print(\"   Week 1-2: 🚀 Implement dynamic pricing and inventory optimization\")\n",
    "print(\"   Week 3-4: 💌 Launch customer retention campaign for at-risk segments\")\n",
    "print(\"   Month 2:   🎁 Deploy loyalty program for VIP customers\")\n",
    "print(\"   Month 3:   📊 Evaluate performance and adjust strategies\")\n",
    "print(\"   Quarter 2: 🔄 Full portfolio review and expansion planning\")\n",
    "\n",
    "# ROI calculation for recommendations\n",
    "# Improved ROI calc based on the more conservative 'quick wins' estimate\n",
    "implementation_cost = 500  # Estimated implementation cost\n",
    "expected_revenue_increase = quick_win_revenue_gain * 12\n",
    "roi = ((expected_revenue_increase - implementation_cost) / implementation_cost) * 100\n",
    "\n",
    "print(f\"\\n💎 EXPECTED ROI: {roi:.0f}% annual return on ${implementation_cost} investment\")\n",
    "print(f\"🚀 Break-even timeline: {(implementation_cost / quick_win_revenue_gain):.1f} months\")"
   ]
  },
  {
   "cell_type": "markdown",
   "metadata": {},
   "source": [
    "## Executive Summary & Key Insights\n",
    "\n",
    "### 🎯 Business Performance\n",
    "- **Total Revenue**: Analyzed comprehensive sales data revealing strong performance patterns\n",
    "- **Customer Segmentation**: Identified 4 distinct customer segments with targeted strategies\n",
    "- **Profit Optimization**: Calculated profit margins and ROI for each product line\n",
    "\n",
    "### 📈 Predictive Analytics\n",
    "- **Forecasting Accuracy**: Implemented and compared multiple forecasting models\n",
    "- **Anomaly Detection**: Identified unusual patterns for proactive management\n",
    "- **Seasonal Patterns**: Discovered clear weekly and daily seasonality trends\n",
    "\n",
    "### 🚀 Strategic Recommendations\n",
    "1. **Product Focus**: Concentrate on high-performing Latte and Cappuccino\n",
    "2. **Dynamic Pricing**: Implement time-based pricing strategies\n",
    "3. **Customer Retention**: Target at-risk customers with personalized offers\n",
    "4. **Operational Efficiency**: Optimize inventory based on predicted demand\n",
    "\n",
    "### 💡 Implementation Impact\n",
    "- **Expected ROI**: Over 1400% annual return on optimization investments\n",
    "- **Revenue Growth**: 10-15% potential increase through strategic implementations\n",
    "- **Customer Value**: Enhanced customer lifetime value through segmentation\n",
    "\n",
    "This analysis provides a comprehensive foundation for data-driven decision making and strategic business optimization."
   ]
  }
 ],
 "metadata": {
  "kernelspec": {
   "display_name": "Python 3",
   "language": "python",
   "name": "python3"
  },
  "language_info": {
   "codemirror_mode": {
    "name": "ipython",
    "version": 3
   },
   "file_extension": ".py",
   "mimetype": "text/x-python",
   "name": "python",
   "nbconvert_exporter": "python",
   "pygments_lexer": "ipython3",
   "version": "3.13.4"
  }
 },
 "nbformat": 4,
 "nbformat_minor": 4
}
